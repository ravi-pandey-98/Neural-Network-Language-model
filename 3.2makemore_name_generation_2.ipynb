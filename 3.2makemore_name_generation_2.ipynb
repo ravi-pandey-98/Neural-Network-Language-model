{
 "cells": [
  {
   "cell_type": "code",
   "execution_count": 1,
   "id": "173d2824",
   "metadata": {},
   "outputs": [],
   "source": [
    "import torch\n",
    "import torch.nn.functional as F\n",
    "import matplotlib.pyplot as plt"
   ]
  },
  {
   "cell_type": "code",
   "execution_count": 2,
   "id": "88410b64",
   "metadata": {},
   "outputs": [],
   "source": [
    "words=open('names.txt','r').read().splitlines()"
   ]
  },
  {
   "cell_type": "code",
   "execution_count": 3,
   "id": "976fd56a",
   "metadata": {},
   "outputs": [
    {
     "name": "stdout",
     "output_type": "stream",
     "text": [
      "{1: 'a', 2: 'b', 3: 'c', 4: 'd', 5: 'e', 6: 'f', 7: 'g', 8: 'h', 9: 'i', 10: 'j', 11: 'k', 12: 'l', 13: 'm', 14: 'n', 15: 'o', 16: 'p', 17: 'q', 18: 'r', 19: 's', 20: 't', 21: 'u', 22: 'v', 23: 'w', 24: 'x', 25: 'y', 26: 'z', 0: '.'}\n"
     ]
    }
   ],
   "source": [
    "#build voabulary of character and mapping to/from integrers\n",
    "chars=sorted(list(set(''.join(words))))\n",
    "stoi={s:i+1 for i,s in enumerate(chars)}\n",
    "stoi['.']=0\n",
    "itos={i:s for s,i in stoi.items()}\n",
    "print(itos)"
   ]
  },
  {
   "cell_type": "code",
   "execution_count": 4,
   "id": "cb509893",
   "metadata": {},
   "outputs": [
    {
     "name": "stdout",
     "output_type": "stream",
     "text": [
      "torch.Size([182625, 3]) torch.Size([182625])\n",
      "torch.Size([22655, 3]) torch.Size([22655])\n",
      "torch.Size([22866, 3]) torch.Size([22866])\n"
     ]
    }
   ],
   "source": [
    "#build the datset\n",
    "\n",
    "def build_dataset(words):\n",
    "    block_size=3 #context lenght: how many inputs/characters we take to predict next char\n",
    "    X,Y=[],[] #X are the inputs to NN, Y is the label for each input inside X\n",
    "\n",
    "    for w in words: #gives the name/word ,first 5 so in loop it is emma\n",
    "#         print(w)\n",
    "        context=block_size*[0]   #1st loop : [0,0,0]\n",
    "        for ch in w + '.':       #adds . to the name and gives the  letter here e\n",
    "            ix=stoi[ch]          #gives corresponding int value of e and stores in ix\n",
    "            X.append(context)    #adds [0,0,0] to X,list inside list\n",
    "            Y.append(ix)         #add ix to Y, here for e\n",
    "#             print(''.join(itos[i] for i in context),'--->',itos[ix])\n",
    "            context=context[1:]+ [ix] #crop and append: before starting for m (next letter in emma), removes first 0 from context and adds the value of e as third elemnt in context \n",
    "\n",
    "    X=torch.tensor(X)\n",
    "    Y=torch.tensor(Y)\n",
    "    print(X.shape,Y.shape)\n",
    "    return X,Y\n",
    "\n",
    "\n",
    "import random\n",
    "random.seed(42)\n",
    "random.shuffle(words)\n",
    "n1=int(0.8*len(words))\n",
    "n2=int(0.9*len(words))\n",
    "\n",
    "Xtr,Ytr=build_dataset(words[:n1])\n",
    "Xdev, Ydev=build_dataset(words[n1:n2])\n",
    "Xte,Yte=build_dataset(words[n2:])"
   ]
  },
  {
   "cell_type": "code",
   "execution_count": 5,
   "id": "d943ba0f",
   "metadata": {},
   "outputs": [],
   "source": [
    "C=torch.randn((27,2))\n"
   ]
  },
  {
   "cell_type": "code",
   "execution_count": 6,
   "id": "0d73b2aa",
   "metadata": {},
   "outputs": [
    {
     "data": {
      "text/plain": [
       "(torch.Size([182625, 3]), torch.int64, torch.Size([182625]), torch.int64)"
      ]
     },
     "execution_count": 6,
     "metadata": {},
     "output_type": "execute_result"
    }
   ],
   "source": [
    "Xtr.shape,Xtr.dtype,Ytr.shape,Ytr.dtype"
   ]
  },
  {
   "cell_type": "code",
   "execution_count": 22,
   "id": "5e8870a3",
   "metadata": {},
   "outputs": [],
   "source": [
    "g=torch.Generator().manual_seed(2147483647) #reproducible\n",
    "C=torch.randn((27,2), generator=g)\n",
    "W1=torch.randn((6,100), generator=g)\n",
    "b1=torch.randn(100, generator=g)\n",
    "W2=torch.randn((100,27), generator=g)\n",
    "b2=torch.randn(27, generator=g)\n",
    "parameters=[C,W1,b1,W2,b2]"
   ]
  },
  {
   "cell_type": "code",
   "execution_count": 23,
   "id": "eb14877c",
   "metadata": {},
   "outputs": [
    {
     "data": {
      "text/plain": [
       "3481"
      ]
     },
     "execution_count": 23,
     "metadata": {},
     "output_type": "execute_result"
    }
   ],
   "source": [
    "sum(p.nelement() for p in parameters)"
   ]
  },
  {
   "cell_type": "code",
   "execution_count": 24,
   "id": "42ce30e6",
   "metadata": {},
   "outputs": [],
   "source": [
    "for p in parameters:\n",
    "    p.requires_grad=True"
   ]
  },
  {
   "cell_type": "code",
   "execution_count": 25,
   "id": "59b7b21f",
   "metadata": {},
   "outputs": [
    {
     "name": "stdout",
     "output_type": "stream",
     "text": [
      "2.257667303085327\n"
     ]
    }
   ],
   "source": [
    "#finalising LR\n",
    "#reset parameters\n",
    "\n",
    "lri=[]\n",
    "lossi=[]\n",
    "\n",
    "\n",
    "for i in range(30000): \n",
    "    \n",
    "    #minibatch construct\n",
    "    ix=torch.randint(0,Xtr.shape[0],(32,))\n",
    "    \n",
    "    #forward pass\n",
    "    emb=C[Xtr[ix]] #(32,3,2)\n",
    "    h=torch.tanh(emb.view(-1,6) @ W1 +b1) #32x100\n",
    "    logits=h @ W2 +b2 #32x27\n",
    "    loss=F.cross_entropy(logits,Ytr[ix])\n",
    "    \n",
    "    #backward pass\n",
    "    for p in parameters:\n",
    "        p.grad=None            #set gradients to 0\n",
    "\n",
    "    loss.backward()\n",
    "\n",
    "    #upgarde \n",
    "#     lr=lrs[i]              # we start with very less lr and go go upto -1\n",
    "    lr=0.1\n",
    "    for p in parameters:\n",
    "        p.data+= -lr*p.grad \n",
    "        \n",
    "        #track stats\n",
    "#         lri.append(lre[i])\n",
    "#         lossi.append(loss.item())\n",
    "        \n",
    "        \n",
    "print(loss.item())\n",
    "# this is loss for this particular minibatch"
   ]
  },
  {
   "cell_type": "code",
   "execution_count": 26,
   "id": "afd09afc",
   "metadata": {},
   "outputs": [
    {
     "data": {
      "text/plain": [
       "2.3906140327453613"
      ]
     },
     "execution_count": 26,
     "metadata": {},
     "output_type": "execute_result"
    }
   ],
   "source": [
    "#eval loss for All of Xtr and Ytr\n",
    "\n",
    "emb=C[Xtr] #(32,3,2)\n",
    "h=torch.tanh(emb.view(-1,6) @ W1 +b1) #32x100\n",
    "logits=h @ W2 +b2 #32x27\n",
    "loss=F.cross_entropy(logits,Ytr)\n",
    "loss.item()"
   ]
  },
  {
   "cell_type": "code",
   "execution_count": 28,
   "id": "128bd477",
   "metadata": {},
   "outputs": [
    {
     "data": {
      "text/plain": [
       "2.3905692100524902"
      ]
     },
     "execution_count": 28,
     "metadata": {},
     "output_type": "execute_result"
    }
   ],
   "source": [
    "emb=C[Xdev] #(32,3,2)\n",
    "h=torch.tanh(emb.view(-1,6) @ W1 +b1) #32x100\n",
    "logits=h @ W2 +b2 #32x27\n",
    "loss=F.cross_entropy(logits,Ydev)\n",
    "loss.item()"
   ]
  },
  {
   "cell_type": "code",
   "execution_count": 29,
   "id": "3bef6929",
   "metadata": {},
   "outputs": [],
   "source": [
    "#since train and dev losses are almost equal implies we r not over fitting rather underfitting, this is bcz our model is not \n",
    "# powerful enough to learn all input and out bcz bcz of very few parameters, lets change that now"
   ]
  },
  {
   "cell_type": "code",
   "execution_count": 6,
   "id": "05ea6721",
   "metadata": {},
   "outputs": [],
   "source": [
    "#increase the size of nn\n",
    "g=torch.Generator().manual_seed(2147483647) #reproducible\n",
    "C=torch.randn((27,2), generator=g)\n",
    "W1=torch.randn((6,300), generator=g)\n",
    "b1=torch.randn(300, generator=g)\n",
    "W2=torch.randn((300,27), generator=g)\n",
    "b2=torch.randn(27, generator=g)\n",
    "parameters=[C,W1,b1,W2,b2]"
   ]
  },
  {
   "cell_type": "code",
   "execution_count": 7,
   "id": "478c36af",
   "metadata": {},
   "outputs": [
    {
     "data": {
      "text/plain": [
       "10281"
      ]
     },
     "execution_count": 7,
     "metadata": {},
     "output_type": "execute_result"
    }
   ],
   "source": [
    "sum(p.nelement() for p in parameters)"
   ]
  },
  {
   "cell_type": "code",
   "execution_count": 8,
   "id": "36312458",
   "metadata": {},
   "outputs": [
    {
     "name": "stdout",
     "output_type": "stream",
     "text": [
      "2.3544814586639404\n"
     ]
    }
   ],
   "source": [
    "for p in parameters:\n",
    "    p.requires_grad=True\n",
    "\n",
    "#finalising LR\n",
    "#reset parameters\n",
    "\n",
    "lri=[]\n",
    "lossi=[]\n",
    "stepi=[]\n",
    "\n",
    "for i in range(30000): \n",
    "    \n",
    "    #minibatch construct\n",
    "    ix=torch.randint(0,Xtr.shape[0],(32,))\n",
    "    \n",
    "    #forward pass\n",
    "    emb=C[Xtr[ix]] #(32,3,2)\n",
    "    h=torch.tanh(emb.view(-1,6) @ W1 +b1) #32x100\n",
    "    logits=h @ W2 +b2 #32x27\n",
    "    loss=F.cross_entropy(logits,Ytr[ix])\n",
    "    \n",
    "    #backward pass\n",
    "    for p in parameters:\n",
    "        p.grad=None            #set gradients to 0\n",
    "\n",
    "    loss.backward()\n",
    "\n",
    "    #upgarde \n",
    "#     lr=lrs[i]              # we start with very less lr and go go upto -1\n",
    "    lr=0.01\n",
    "    for p in parameters:\n",
    "        p.data+= -lr*p.grad \n",
    "        \n",
    "        #track stats\n",
    "#         lri.append(lre[i])\n",
    "        stepi.append(i)\n",
    "        lossi.append(loss.item())\n",
    "        \n",
    "        \n",
    "print(loss.item())\n",
    "# this is loss for this particular minibatch"
   ]
  },
  {
   "cell_type": "code",
   "execution_count": null,
   "id": "2753bb92",
   "metadata": {},
   "outputs": [
    {
     "data": {
      "text/plain": [
       "[<matplotlib.lines.Line2D at 0x19c30707690>]"
      ]
     },
     "execution_count": 9,
     "metadata": {},
     "output_type": "execute_result"
    }
   ],
   "source": [
    "plt.plot(stepi,lossi)  #kernel dying lol\n",
    "#noise/thickness bcz of minibatch"
   ]
  },
  {
   "cell_type": "code",
   "execution_count": 24,
   "id": "2cb387b5",
   "metadata": {},
   "outputs": [
    {
     "data": {
      "text/plain": [
       "2.4987435340881348"
      ]
     },
     "execution_count": 24,
     "metadata": {},
     "output_type": "execute_result"
    }
   ],
   "source": [
    "#eval loss for All of Xtr and Ytr\n",
    "\n",
    "emb=C[Xtr] #(32,3,2)\n",
    "h=torch.tanh(emb.view(-1,6) @ W1 +b1) #32x100\n",
    "logits=h @ W2 +b2 #32x27\n",
    "loss=F.cross_entropy(logits,Ytr)\n",
    "loss.item()"
   ]
  },
  {
   "cell_type": "code",
   "execution_count": 25,
   "id": "d404f2a6",
   "metadata": {},
   "outputs": [
    {
     "data": {
      "text/plain": [
       "2.503011703491211"
      ]
     },
     "execution_count": 25,
     "metadata": {},
     "output_type": "execute_result"
    }
   ],
   "source": [
    "#val\n",
    "emb=C[Xdev] #(32,3,2)\n",
    "h=torch.tanh(emb.view(-1,6) @ W1 +b1) #32x100\n",
    "logits=h @ W2 +b2 #32x27\n",
    "loss=F.cross_entropy(logits,Ydev)\n",
    "loss.item()"
   ]
  },
  {
   "cell_type": "code",
   "execution_count": 8,
   "id": "88a41734",
   "metadata": {},
   "outputs": [],
   "source": [
    "#experiment with different learning rate"
   ]
  },
  {
   "cell_type": "code",
   "execution_count": null,
   "id": "bc7e12e6",
   "metadata": {},
   "outputs": [],
   "source": [
    "#bottleneck of the model: the embedding (1st layer) C is 2-d:craming way too many char into 2 dim:"
   ]
  },
  {
   "cell_type": "code",
   "execution_count": 25,
   "id": "eae515e1",
   "metadata": {},
   "outputs": [
    {
     "data": {
      "text/plain": [
       "11897"
      ]
     },
     "execution_count": 25,
     "metadata": {},
     "output_type": "execute_result"
    }
   ],
   "source": [
    "#increase the size of nn\n",
    "g=torch.Generator().manual_seed(2147483647) #reproducible\n",
    "C=torch.randn((27,10), generator=g)\n",
    "W1=torch.randn((30,200), generator=g)\n",
    "b1=torch.randn(200, generator=g)\n",
    "W2=torch.randn((200,27), generator=g)\n",
    "b2=torch.randn(27, generator=g)\n",
    "parameters=[C,W1,b1,W2,b2]\n",
    "\n",
    "sum(p.nelement() for p in parameters)"
   ]
  },
  {
   "cell_type": "code",
   "execution_count": null,
   "id": "ba4ca5ff",
   "metadata": {},
   "outputs": [],
   "source": []
  },
  {
   "cell_type": "code",
   "execution_count": 26,
   "id": "541e01f0",
   "metadata": {},
   "outputs": [
    {
     "name": "stdout",
     "output_type": "stream",
     "text": [
      "2.1218512058258057\n"
     ]
    }
   ],
   "source": [
    "lri=[]\n",
    "lossi=[]\n",
    "stepi=[]\n",
    "\n",
    "\n",
    "for p in parameters:\n",
    "    p.requires_grad=True\n",
    "\n",
    "for i in range(200000):\n",
    "  \n",
    "  # minibatch construct\n",
    "    ix = torch.randint(0, Xtr.shape[0], (32,))\n",
    "  \n",
    "  # forward pass\n",
    "    emb = C[Xtr[ix]] # (32, 3, 10)\n",
    "    h = torch.tanh(emb.view(-1, 30) @ W1 + b1) # (32, 200)\n",
    "    logits = h @ W2 + b2 # (32, 27)\n",
    "    loss = F.cross_entropy(logits, Ytr[ix])\n",
    "      #print(loss.item())\n",
    "\n",
    "      # backward pass\n",
    "    for p in parameters:\n",
    "        p.grad = None\n",
    "    loss.backward()\n",
    "  \n",
    "  # update\n",
    "  #lr = lrs[i]\n",
    "    lr = 0.1 if i < 100000 else 0.01\n",
    "    for p in parameters:\n",
    "        p.data += -lr * p.grad\n",
    "\n",
    "  # track stats\n",
    "  #lri.append(lre[i])\n",
    "    stepi.append(i)\n",
    "    lossi.append(loss.log10().item()) #log10:for plotting logloss: hockey stick apperance squashed by this\n",
    "\n",
    "print(loss.item())\n"
   ]
  },
  {
   "cell_type": "code",
   "execution_count": 27,
   "id": "38871f74",
   "metadata": {},
   "outputs": [],
   "source": [
    "#plt.plot(stepi,stepi)"
   ]
  },
  {
   "cell_type": "code",
   "execution_count": 28,
   "id": "2927564d",
   "metadata": {},
   "outputs": [
    {
     "data": {
      "text/plain": [
       "2.128194570541382"
      ]
     },
     "execution_count": 28,
     "metadata": {},
     "output_type": "execute_result"
    }
   ],
   "source": [
    "#eval loss for All of Xtr and Ytr\n",
    "\n",
    "emb=C[Xtr] #(32,3,2)\n",
    "h=torch.tanh(emb.view(-1,30) @ W1 +b1) #32x100\n",
    "logits=h @ W2 +b2 #32x27\n",
    "loss=F.cross_entropy(logits,Ytr)\n",
    "loss.item()"
   ]
  },
  {
   "cell_type": "code",
   "execution_count": 29,
   "id": "7c076732",
   "metadata": {},
   "outputs": [
    {
     "data": {
      "text/plain": [
       "2.1568751335144043"
      ]
     },
     "execution_count": 29,
     "metadata": {},
     "output_type": "execute_result"
    }
   ],
   "source": [
    "#val\n",
    "emb=C[Xdev] #(32,3,2)\n",
    "h=torch.tanh(emb.view(-1,30) @ W1 +b1) #32x100\n",
    "logits=h @ W2 +b2 #32x27\n",
    "loss=F.cross_entropy(logits,Ydev)\n",
    "loss.item()"
   ]
  },
  {
   "cell_type": "code",
   "execution_count": null,
   "id": "3c6c4a83",
   "metadata": {},
   "outputs": [],
   "source": [
    "#kernel dying lol\n",
    "#visualize dimensions 0 and 1 of the embedding matrix C for all characters\n",
    "plt.figure(figsize=(8,8))\n",
    "plt.scatter(C[:,0].data, C[:,1].data, s=200)\n",
    "for i in range(C.shape[0]):\n",
    "    plt.text(C[i,0].item(), C[i,1].item(), itos[i], ha=\"center\", va=\"center\", color='white')\n",
    "plt.grid('minor')"
   ]
  },
  {
   "cell_type": "code",
   "execution_count": null,
   "id": "5b483665",
   "metadata": {},
   "outputs": [],
   "source": []
  },
  {
   "cell_type": "code",
   "execution_count": null,
   "id": "ee05cb49",
   "metadata": {},
   "outputs": [],
   "source": []
  },
  {
   "cell_type": "code",
   "execution_count": 30,
   "id": "954ed907",
   "metadata": {},
   "outputs": [
    {
     "name": "stdout",
     "output_type": "stream",
     "text": [
      "mora.\n",
      "mayah.\n",
      "see.\n",
      "med.\n",
      "ryla.\n",
      "remmadiendra.\n",
      "gracee.\n",
      "daelin.\n",
      "shy.\n",
      "jenleigh.\n",
      "estanaraelyn.\n",
      "malara.\n",
      "noshdanrishiriel.\n",
      "jacie.\n",
      "jeniquetton.\n",
      "kuya.\n",
      "aven.\n",
      "jamyle.\n",
      "eli.\n",
      "kay.\n"
     ]
    }
   ],
   "source": [
    "\n",
    "# sample from the model\n",
    "g = torch.Generator().manual_seed(2147483647 + 10)\n",
    "block_size=3\n",
    "\n",
    "for _ in range(20):\n",
    "    \n",
    "    out = []\n",
    "    context = [0] * block_size # initialize with all ...\n",
    "    while True:\n",
    "        emb = C[torch.tensor([context])] # (1,block_size,d)\n",
    "        h = torch.tanh(emb.view(1, -1) @ W1 + b1)\n",
    "        logits = h @ W2 + b2\n",
    "        probs = F.softmax(logits, dim=1)\n",
    "        ix = torch.multinomial(probs, num_samples=1, generator=g).item()\n",
    "        context = context[1:] + [ix]\n",
    "        out.append(ix)\n",
    "        if ix == 0:\n",
    "            break\n",
    "    \n",
    "    print(''.join(itos[i] for i in out))"
   ]
  },
  {
   "cell_type": "code",
   "execution_count": 31,
   "id": "4bf0e4bb",
   "metadata": {},
   "outputs": [],
   "source": [
    "#these names are pretty good"
   ]
  },
  {
   "cell_type": "code",
   "execution_count": null,
   "id": "628a36ca",
   "metadata": {},
   "outputs": [],
   "source": []
  }
 ],
 "metadata": {
  "kernelspec": {
   "display_name": "Python 3 (ipykernel)",
   "language": "python",
   "name": "python3"
  },
  "language_info": {
   "codemirror_mode": {
    "name": "ipython",
    "version": 3
   },
   "file_extension": ".py",
   "mimetype": "text/x-python",
   "name": "python",
   "nbconvert_exporter": "python",
   "pygments_lexer": "ipython3",
   "version": "3.11.5"
  }
 },
 "nbformat": 4,
 "nbformat_minor": 5
}
