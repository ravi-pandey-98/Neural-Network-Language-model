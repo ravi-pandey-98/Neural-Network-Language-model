{
 "cells": [
  {
   "cell_type": "code",
   "execution_count": 1,
   "id": "75d48649",
   "metadata": {},
   "outputs": [],
   "source": [
    "import math\n",
    "import numpy as np\n",
    "import matplotlib.pyplot as plt\n"
   ]
  },
  {
   "cell_type": "code",
   "execution_count": 2,
   "id": "9d6449a6",
   "metadata": {},
   "outputs": [],
   "source": [
    "def f(x):\n",
    "    return 3*x**2-4*x+5"
   ]
  },
  {
   "cell_type": "code",
   "execution_count": 3,
   "id": "123d35f8",
   "metadata": {},
   "outputs": [
    {
     "data": {
      "text/plain": [
       "20"
      ]
     },
     "execution_count": 3,
     "metadata": {},
     "output_type": "execute_result"
    }
   ],
   "source": [
    "f(3)"
   ]
  },
  {
   "cell_type": "code",
   "execution_count": 4,
   "id": "b32fa325",
   "metadata": {},
   "outputs": [
    {
     "data": {
      "text/plain": [
       "array([-5.  , -4.75, -4.5 , -4.25, -4.  , -3.75, -3.5 , -3.25, -3.  ,\n",
       "       -2.75, -2.5 , -2.25, -2.  , -1.75, -1.5 , -1.25, -1.  , -0.75,\n",
       "       -0.5 , -0.25,  0.  ,  0.25,  0.5 ,  0.75,  1.  ,  1.25,  1.5 ,\n",
       "        1.75,  2.  ,  2.25,  2.5 ,  2.75,  3.  ,  3.25,  3.5 ,  3.75,\n",
       "        4.  ,  4.25,  4.5 ,  4.75])"
      ]
     },
     "execution_count": 4,
     "metadata": {},
     "output_type": "execute_result"
    }
   ],
   "source": [
    "xs=np.arange(-5,5,.25)\n",
    "xs"
   ]
  },
  {
   "cell_type": "code",
   "execution_count": 5,
   "id": "32fb25e9",
   "metadata": {},
   "outputs": [
    {
     "data": {
      "image/png": "[encoded data removed]",
      "text/plain": [
       "<Figure size 640x480 with 1 Axes>"
      ]
     },
     "metadata": {},
     "output_type": "display_data"
    }
   ],
   "source": [
    "plt.plot(f(xs));"
   ]
  },
  {
   "cell_type": "code",
   "execution_count": 6,
   "id": "f6e0b120",
   "metadata": {},
   "outputs": [],
   "source": [
    "#derivative:"
   ]
  },
  {
   "cell_type": "code",
   "execution_count": 7,
   "id": "09c58a6b",
   "metadata": {},
   "outputs": [
    {
     "data": {
      "text/plain": [
       "14.000300000063248"
      ]
     },
     "execution_count": 7,
     "metadata": {},
     "output_type": "execute_result"
    }
   ],
   "source": [
    "h=0.0001\n",
    "x=3\n",
    "(f(x+h)-f(x))/h"
   ]
  },
  {
   "cell_type": "code",
   "execution_count": 8,
   "id": "1bd2518a",
   "metadata": {},
   "outputs": [
    {
     "data": {
      "text/plain": [
       "20"
      ]
     },
     "execution_count": 8,
     "metadata": {},
     "output_type": "execute_result"
    }
   ],
   "source": [
    "f(3)"
   ]
  },
  {
   "cell_type": "code",
   "execution_count": 9,
   "id": "054ca6d4",
   "metadata": {},
   "outputs": [
    {
     "data": {
      "text/plain": [
       "0.0002999999981767587"
      ]
     },
     "execution_count": 9,
     "metadata": {},
     "output_type": "execute_result"
    }
   ],
   "source": [
    "x=2/3\n",
    "h=0.0001\n",
    "\n",
    "(f(x+h)-f(x))/h"
   ]
  },
  {
   "cell_type": "code",
   "execution_count": 10,
   "id": "ae04c859",
   "metadata": {},
   "outputs": [
    {
     "name": "stdout",
     "output_type": "stream",
     "text": [
      "4.0\n"
     ]
    }
   ],
   "source": [
    "# lets get more complex\n",
    "a = 2.0\n",
    "b = -3.0\n",
    "c = 10.0\n",
    "d = a*b + c\n",
    "print(d)"
   ]
  },
  {
   "cell_type": "code",
   "execution_count": 11,
   "id": "af964678",
   "metadata": {},
   "outputs": [
    {
     "name": "stdout",
     "output_type": "stream",
     "text": [
      "c 10.0001\n",
      "d1 4.0\n",
      "d2 4.0001\n",
      "slope 0.9999999999976694\n"
     ]
    }
   ],
   "source": [
    "h = 0.0001\n",
    "\n",
    "# inputs\n",
    "a = 2.0\n",
    "b = -3.0\n",
    "c = 10.0\n",
    "\n",
    "d1 = a*b + c\n",
    "c += h\n",
    "d2 = a*b + c\n",
    "print('c',c)\n",
    "print('d1', d1)\n",
    "print('d2', d2)\n",
    "print('slope', (d2 - d1)/h)"
   ]
  },
  {
   "cell_type": "code",
   "execution_count": 109,
   "id": "41e8edc1",
   "metadata": {},
   "outputs": [
    {
     "name": "stdout",
     "output_type": "stream",
     "text": [
      "Value(data=-1)\n",
      "Value(data=-6)\n"
     ]
    }
   ],
   "source": [
    "class Value:\n",
    "    \n",
    "    def __init__(self,data, _children=(),_op='',label=''):\n",
    "        self.data=data\n",
    "        self.grad=0\n",
    "        self._backward=lambda:None\n",
    "        self._prev=set(_children)\n",
    "        self._op=_op\n",
    "        self.label=label\n",
    "        \n",
    "    def __repr__(self):\n",
    "        return f\"Value(data={self.data})\"\n",
    "    \n",
    "    def __add__(self,other):\n",
    "        out=Value(self.data+other.data, (self,other),'+')\n",
    "        \n",
    "        def _backward():\n",
    "            self.grad=1.0*out.grad\n",
    "            other.grad=1.0*out.grad\n",
    "        out._backward=_backward\n",
    "        return out\n",
    "    \n",
    "    def __mul__(self,other):\n",
    "        out=Value(self.data*other.data,(self,other),'*')\n",
    "        \n",
    "        def _backward():\n",
    "            self.grad=other.data*out.grad\n",
    "            other.grad=self.data*out.grad\n",
    "        out._backward=_backward\n",
    "        return out\n",
    "    \n",
    "    def tanh(self):\n",
    "        x = self.data\n",
    "        t = (math.exp(2*x) - 1)/(math.exp(2*x) + 1)\n",
    "        out = Value(t, (self, ), 'tanh')\n",
    "        \n",
    "        def _backward():\n",
    "            self.grad=(1-t**2)*out.grad\n",
    "        out._backward=_backward\n",
    "        return out\n",
    "    \n",
    "    \n",
    "a=Value(2)\n",
    "b=Value(-3)\n",
    "print(a+b)\n",
    "# a.__add__(b)\n",
    "print(a*b)\n"
   ]
  },
  {
   "cell_type": "code",
   "execution_count": 34,
   "id": "d61d20ec",
   "metadata": {},
   "outputs": [
    {
     "data": {
      "text/plain": [
       "Value(data=4)"
      ]
     },
     "execution_count": 34,
     "metadata": {},
     "output_type": "execute_result"
    }
   ],
   "source": [
    "a=Value(2,label='a')\n",
    "b=Value(-3,label='b')\n",
    "c=Value(10,label='c')\n",
    "e=a*b;e.label='e'\n",
    "d=e+c; d.label='d'\n",
    "d"
   ]
  },
  {
   "cell_type": "code",
   "execution_count": 35,
   "id": "3a8263bd",
   "metadata": {},
   "outputs": [
    {
     "data": {
      "text/plain": [
       "{Value(data=-6), Value(data=10)}"
      ]
     },
     "execution_count": 35,
     "metadata": {},
     "output_type": "execute_result"
    }
   ],
   "source": [
    "d._prev"
   ]
  },
  {
   "cell_type": "code",
   "execution_count": 36,
   "id": "53e6b988",
   "metadata": {},
   "outputs": [
    {
     "data": {
      "text/plain": [
       "'+'"
      ]
     },
     "execution_count": 36,
     "metadata": {},
     "output_type": "execute_result"
    }
   ],
   "source": [
    "d._op"
   ]
  },
  {
   "cell_type": "code",
   "execution_count": 37,
   "id": "17757624",
   "metadata": {},
   "outputs": [
    {
     "data": {
      "text/plain": [
       "0"
      ]
     },
     "execution_count": 37,
     "metadata": {},
     "output_type": "execute_result"
    }
   ],
   "source": [
    "d.grad"
   ]
  },
  {
   "cell_type": "code",
   "execution_count": 42,
   "id": "c341fd38",
   "metadata": {},
   "outputs": [],
   "source": [
    "from graphviz import Digraph\n",
    "\n",
    "def trace(root):\n",
    "    # builds a set of all nodes and edges in a graph\n",
    "    nodes, edges = set(), set()\n",
    "    def build(v):\n",
    "        if v not in nodes:\n",
    "            nodes.add(v)\n",
    "            for child in v._prev:\n",
    "                edges.add((child, v))\n",
    "                build(child)\n",
    "    build(root)\n",
    "    return nodes, edges\n",
    "\n",
    "def draw_dot(root):\n",
    "    dot = Digraph(format='svg', graph_attr={'rankdir': 'LR'}) # LR = left to right\n",
    "  \n",
    "    nodes, edges = trace(root)\n",
    "    for n in nodes:\n",
    "        uid = str(id(n))\n",
    "    # for any value in the graph, create a rectangular ('record') node for it\n",
    "        dot.node(name = uid, label = \"{%s |  data %.4f| grad %.4f }\" % (n.label, n.data, n.grad), shape='record')\n",
    "        if n._op:\n",
    "        # if this value is a result of some operation, create an op node for it\n",
    "\n",
    "            dot.node(name = uid + n._op, label = n._op)\n",
    "      # and connect this node to it\n",
    "            dot.edge(uid + n._op, uid)\n",
    "\n",
    "    for n1, n2 in edges:\n",
    "    # connect n1 to the op node of n2\n",
    "        dot.edge(str(id(n1)), str(id(n2)) + n2._op)\n",
    "\n",
    "    return dot"
   ]
  },
  {
   "cell_type": "code",
   "execution_count": 58,
   "id": "8fc64af7",
   "metadata": {},
   "outputs": [
    {
     "data": {
      "text/plain": [
       "Value(data=-8.0)"
      ]
     },
     "execution_count": 58,
     "metadata": {},
     "output_type": "execute_result"
    }
   ],
   "source": [
    "\n",
    "a = Value(2.0, label='a')\n",
    "b = Value(-3.0, label='b')\n",
    "c = Value(10.0, label='c')\n",
    "e = a*b; e.label = 'e'\n",
    "d = e + c; d.label = 'd'\n",
    "f = Value(-2.0, label='f')\n",
    "L = d * f; L.label = 'L'\n",
    "L"
   ]
  },
  {
   "cell_type": "code",
   "execution_count": 51,
   "id": "aaf28a16",
   "metadata": {},
   "outputs": [
    {
     "name": "stdout",
     "output_type": "stream",
     "text": [
      "Value(data=2.0) Value(data=-3.0) Value(data=10.0) Value(data=4.0) Value(data=-6.0) Value(data=-2.0) Value(data=-8.0)\n"
     ]
    }
   ],
   "source": [
    "print(a,b,c,d,e,f,L)"
   ]
  },
  {
   "cell_type": "code",
   "execution_count": 45,
   "id": "6225dfd0",
   "metadata": {},
   "outputs": [
    {
     "data": {
      "text/plain": [
       "Value(data=4.0)"
      ]
     },
     "execution_count": 45,
     "metadata": {},
     "output_type": "execute_result"
    }
   ],
   "source": [
    "d"
   ]
  },
  {
   "cell_type": "code",
   "execution_count": 46,
   "id": "281cee0b",
   "metadata": {},
   "outputs": [
    {
     "data": {
      "text/plain": [
       "Value(data=-2.0)"
      ]
     },
     "execution_count": 46,
     "metadata": {},
     "output_type": "execute_result"
    }
   ],
   "source": [
    "f"
   ]
  },
  {
   "cell_type": "code",
   "execution_count": 44,
   "id": "0300660a",
   "metadata": {},
   "outputs": [
    {
     "data": {
      "image/svg+xml": [
       "<?xml version=\"1.0\" encoding=\"UTF-8\" standalone=\"no\"?>\n",
       "<!DOCTYPE svg PUBLIC \"-//W3C//DTD SVG 1.1//EN\"\n",
       " \"http://www.w3.org/Graphics/SVG/1.1/DTD/svg11.dtd\">\n",
       "<!-- Generated by graphviz version 2.50.0 (0)\n",
       " -->\n",
       "<!-- Pages: 1 -->\n",
       "<svg width=\"1148pt\" height=\"128pt\"\n",
       " viewBox=\"0.00 0.00 1148.00 128.00\" xmlns=\"http://www.w3.org/2000/svg\" xmlns:xlink=\"http://www.w3.org/1999/xlink\">\n",
       "<g id=\"graph0\" class=\"graph\" transform=\"scale(1 1) rotate(0) translate(4 124)\">\n",
       "<polygon fill=\"white\" stroke=\"transparent\" points=\"-4,4 -4,-124 1144,-124 1144,4 -4,4\"/>\n",
       "<!-- 2353969927184 -->\n",
       "<g id=\"node1\" class=\"node\">\n",
       "<title>2353969927184</title>\n",
       "<polygon fill=\"none\" stroke=\"black\" points=\"316,-83.5 316,-119.5 508,-119.5 508,-83.5 316,-83.5\"/>\n",
       "<text text-anchor=\"middle\" x=\"327.5\" y=\"-97.8\" font-family=\"Times New Roman,serif\" font-size=\"14.00\">c</text>\n",
       "<polyline fill=\"none\" stroke=\"black\" points=\"339,-83.5 339,-119.5 \"/>\n",
       "<text text-anchor=\"middle\" x=\"382.5\" y=\"-97.8\" font-family=\"Times New Roman,serif\" font-size=\"14.00\">data 10.0000</text>\n",
       "<polyline fill=\"none\" stroke=\"black\" points=\"426,-83.5 426,-119.5 \"/>\n",
       "<text text-anchor=\"middle\" x=\"467\" y=\"-97.8\" font-family=\"Times New Roman,serif\" font-size=\"14.00\">grad 0.0000</text>\n",
       "</g>\n",
       "<!-- 2353969934672+ -->\n",
       "<g id=\"node8\" class=\"node\">\n",
       "<title>2353969934672+</title>\n",
       "<ellipse fill=\"none\" stroke=\"black\" cx=\"571\" cy=\"-73.5\" rx=\"27\" ry=\"18\"/>\n",
       "<text text-anchor=\"middle\" x=\"571\" y=\"-69.8\" font-family=\"Times New Roman,serif\" font-size=\"14.00\">+</text>\n",
       "</g>\n",
       "<!-- 2353969927184&#45;&gt;2353969934672+ -->\n",
       "<g id=\"edge4\" class=\"edge\">\n",
       "<title>2353969927184&#45;&gt;2353969934672+</title>\n",
       "<path fill=\"none\" stroke=\"black\" d=\"M508.4,-84.49C517.69,-82.83 526.64,-81.23 534.71,-79.79\"/>\n",
       "<polygon fill=\"black\" stroke=\"black\" points=\"535.53,-83.2 544.76,-78 534.31,-76.31 535.53,-83.2\"/>\n",
       "</g>\n",
       "<!-- 2353931438160 -->\n",
       "<g id=\"node2\" class=\"node\">\n",
       "<title>2353931438160</title>\n",
       "<polygon fill=\"none\" stroke=\"black\" points=\"0,-56.5 0,-92.5 190,-92.5 190,-56.5 0,-56.5\"/>\n",
       "<text text-anchor=\"middle\" x=\"11.5\" y=\"-70.8\" font-family=\"Times New Roman,serif\" font-size=\"14.00\">b</text>\n",
       "<polyline fill=\"none\" stroke=\"black\" points=\"23,-56.5 23,-92.5 \"/>\n",
       "<text text-anchor=\"middle\" x=\"65.5\" y=\"-70.8\" font-family=\"Times New Roman,serif\" font-size=\"14.00\">data &#45;3.0000</text>\n",
       "<polyline fill=\"none\" stroke=\"black\" points=\"108,-56.5 108,-92.5 \"/>\n",
       "<text text-anchor=\"middle\" x=\"149\" y=\"-70.8\" font-family=\"Times New Roman,serif\" font-size=\"14.00\">grad 0.0000</text>\n",
       "</g>\n",
       "<!-- 2353969932624* -->\n",
       "<g id=\"node10\" class=\"node\">\n",
       "<title>2353969932624*</title>\n",
       "<ellipse fill=\"none\" stroke=\"black\" cx=\"253\" cy=\"-46.5\" rx=\"27\" ry=\"18\"/>\n",
       "<text text-anchor=\"middle\" x=\"253\" y=\"-42.8\" font-family=\"Times New Roman,serif\" font-size=\"14.00\">*</text>\n",
       "</g>\n",
       "<!-- 2353931438160&#45;&gt;2353969932624* -->\n",
       "<g id=\"edge6\" class=\"edge\">\n",
       "<title>2353931438160&#45;&gt;2353969932624*</title>\n",
       "<path fill=\"none\" stroke=\"black\" d=\"M190.34,-57.57C199.62,-55.9 208.58,-54.29 216.66,-52.84\"/>\n",
       "<polygon fill=\"black\" stroke=\"black\" points=\"217.49,-56.25 226.72,-51.04 216.26,-49.36 217.49,-56.25\"/>\n",
       "</g>\n",
       "<!-- 2353969928848 -->\n",
       "<g id=\"node3\" class=\"node\">\n",
       "<title>2353969928848</title>\n",
       "<polygon fill=\"none\" stroke=\"black\" points=\"634,-0.5 634,-36.5 822,-36.5 822,-0.5 634,-0.5\"/>\n",
       "<text text-anchor=\"middle\" x=\"644.5\" y=\"-14.8\" font-family=\"Times New Roman,serif\" font-size=\"14.00\">f</text>\n",
       "<polyline fill=\"none\" stroke=\"black\" points=\"655,-0.5 655,-36.5 \"/>\n",
       "<text text-anchor=\"middle\" x=\"697.5\" y=\"-14.8\" font-family=\"Times New Roman,serif\" font-size=\"14.00\">data &#45;2.0000</text>\n",
       "<polyline fill=\"none\" stroke=\"black\" points=\"740,-0.5 740,-36.5 \"/>\n",
       "<text text-anchor=\"middle\" x=\"781\" y=\"-14.8\" font-family=\"Times New Roman,serif\" font-size=\"14.00\">grad 0.0000</text>\n",
       "</g>\n",
       "<!-- 2353969927376* -->\n",
       "<g id=\"node5\" class=\"node\">\n",
       "<title>2353969927376*</title>\n",
       "<ellipse fill=\"none\" stroke=\"black\" cx=\"885\" cy=\"-45.5\" rx=\"27\" ry=\"18\"/>\n",
       "<text text-anchor=\"middle\" x=\"885\" y=\"-41.8\" font-family=\"Times New Roman,serif\" font-size=\"14.00\">*</text>\n",
       "</g>\n",
       "<!-- 2353969928848&#45;&gt;2353969927376* -->\n",
       "<g id=\"edge5\" class=\"edge\">\n",
       "<title>2353969928848&#45;&gt;2353969927376*</title>\n",
       "<path fill=\"none\" stroke=\"black\" d=\"M822.29,-34.75C831.57,-36.37 840.52,-37.93 848.61,-39.33\"/>\n",
       "<polygon fill=\"black\" stroke=\"black\" points=\"848.22,-42.82 858.68,-41.09 849.42,-35.92 848.22,-42.82\"/>\n",
       "</g>\n",
       "<!-- 2353969927376 -->\n",
       "<g id=\"node4\" class=\"node\">\n",
       "<title>2353969927376</title>\n",
       "<polygon fill=\"none\" stroke=\"black\" points=\"948,-27.5 948,-63.5 1140,-63.5 1140,-27.5 948,-27.5\"/>\n",
       "<text text-anchor=\"middle\" x=\"960.5\" y=\"-41.8\" font-family=\"Times New Roman,serif\" font-size=\"14.00\">L</text>\n",
       "<polyline fill=\"none\" stroke=\"black\" points=\"973,-27.5 973,-63.5 \"/>\n",
       "<text text-anchor=\"middle\" x=\"1015.5\" y=\"-41.8\" font-family=\"Times New Roman,serif\" font-size=\"14.00\">data &#45;8.0000</text>\n",
       "<polyline fill=\"none\" stroke=\"black\" points=\"1058,-27.5 1058,-63.5 \"/>\n",
       "<text text-anchor=\"middle\" x=\"1099\" y=\"-41.8\" font-family=\"Times New Roman,serif\" font-size=\"14.00\">grad 0.0000</text>\n",
       "</g>\n",
       "<!-- 2353969927376*&#45;&gt;2353969927376 -->\n",
       "<g id=\"edge1\" class=\"edge\">\n",
       "<title>2353969927376*&#45;&gt;2353969927376</title>\n",
       "<path fill=\"none\" stroke=\"black\" d=\"M912.28,-45.5C919.78,-45.5 928.44,-45.5 937.67,-45.5\"/>\n",
       "<polygon fill=\"black\" stroke=\"black\" points=\"937.87,-49 947.87,-45.5 937.87,-42 937.87,-49\"/>\n",
       "</g>\n",
       "<!-- 2353931146448 -->\n",
       "<g id=\"node6\" class=\"node\">\n",
       "<title>2353931146448</title>\n",
       "<polygon fill=\"none\" stroke=\"black\" points=\"2.5,-1.5 2.5,-37.5 187.5,-37.5 187.5,-1.5 2.5,-1.5\"/>\n",
       "<text text-anchor=\"middle\" x=\"14\" y=\"-15.8\" font-family=\"Times New Roman,serif\" font-size=\"14.00\">a</text>\n",
       "<polyline fill=\"none\" stroke=\"black\" points=\"25.5,-1.5 25.5,-37.5 \"/>\n",
       "<text text-anchor=\"middle\" x=\"65.5\" y=\"-15.8\" font-family=\"Times New Roman,serif\" font-size=\"14.00\">data 2.0000</text>\n",
       "<polyline fill=\"none\" stroke=\"black\" points=\"105.5,-1.5 105.5,-37.5 \"/>\n",
       "<text text-anchor=\"middle\" x=\"146.5\" y=\"-15.8\" font-family=\"Times New Roman,serif\" font-size=\"14.00\">grad 0.0000</text>\n",
       "</g>\n",
       "<!-- 2353931146448&#45;&gt;2353969932624* -->\n",
       "<g id=\"edge8\" class=\"edge\">\n",
       "<title>2353931146448&#45;&gt;2353969932624*</title>\n",
       "<path fill=\"none\" stroke=\"black\" d=\"M187.65,-35.36C197.94,-37.14 207.91,-38.87 216.81,-40.41\"/>\n",
       "<polygon fill=\"black\" stroke=\"black\" points=\"216.26,-43.87 226.71,-42.12 217.45,-36.97 216.26,-43.87\"/>\n",
       "</g>\n",
       "<!-- 2353969934672 -->\n",
       "<g id=\"node7\" class=\"node\">\n",
       "<title>2353969934672</title>\n",
       "<polygon fill=\"none\" stroke=\"black\" points=\"635.5,-55.5 635.5,-91.5 820.5,-91.5 820.5,-55.5 635.5,-55.5\"/>\n",
       "<text text-anchor=\"middle\" x=\"647\" y=\"-69.8\" font-family=\"Times New Roman,serif\" font-size=\"14.00\">d</text>\n",
       "<polyline fill=\"none\" stroke=\"black\" points=\"658.5,-55.5 658.5,-91.5 \"/>\n",
       "<text text-anchor=\"middle\" x=\"698.5\" y=\"-69.8\" font-family=\"Times New Roman,serif\" font-size=\"14.00\">data 4.0000</text>\n",
       "<polyline fill=\"none\" stroke=\"black\" points=\"738.5,-55.5 738.5,-91.5 \"/>\n",
       "<text text-anchor=\"middle\" x=\"779.5\" y=\"-69.8\" font-family=\"Times New Roman,serif\" font-size=\"14.00\">grad 0.0000</text>\n",
       "</g>\n",
       "<!-- 2353969934672&#45;&gt;2353969927376* -->\n",
       "<g id=\"edge7\" class=\"edge\">\n",
       "<title>2353969934672&#45;&gt;2353969927376*</title>\n",
       "<path fill=\"none\" stroke=\"black\" d=\"M820.51,-56.97C830.48,-55.17 840.13,-53.42 848.77,-51.86\"/>\n",
       "<polygon fill=\"black\" stroke=\"black\" points=\"849.55,-55.28 858.77,-50.06 848.3,-48.39 849.55,-55.28\"/>\n",
       "</g>\n",
       "<!-- 2353969934672+&#45;&gt;2353969934672 -->\n",
       "<g id=\"edge2\" class=\"edge\">\n",
       "<title>2353969934672+&#45;&gt;2353969934672</title>\n",
       "<path fill=\"none\" stroke=\"black\" d=\"M598.29,-73.5C606.26,-73.5 615.54,-73.5 625.39,-73.5\"/>\n",
       "<polygon fill=\"black\" stroke=\"black\" points=\"625.41,-77 635.41,-73.5 625.41,-70 625.41,-77\"/>\n",
       "</g>\n",
       "<!-- 2353969932624 -->\n",
       "<g id=\"node9\" class=\"node\">\n",
       "<title>2353969932624</title>\n",
       "<polygon fill=\"none\" stroke=\"black\" points=\"317,-28.5 317,-64.5 507,-64.5 507,-28.5 317,-28.5\"/>\n",
       "<text text-anchor=\"middle\" x=\"328.5\" y=\"-42.8\" font-family=\"Times New Roman,serif\" font-size=\"14.00\">e</text>\n",
       "<polyline fill=\"none\" stroke=\"black\" points=\"340,-28.5 340,-64.5 \"/>\n",
       "<text text-anchor=\"middle\" x=\"382.5\" y=\"-42.8\" font-family=\"Times New Roman,serif\" font-size=\"14.00\">data &#45;6.0000</text>\n",
       "<polyline fill=\"none\" stroke=\"black\" points=\"425,-28.5 425,-64.5 \"/>\n",
       "<text text-anchor=\"middle\" x=\"466\" y=\"-42.8\" font-family=\"Times New Roman,serif\" font-size=\"14.00\">grad 0.0000</text>\n",
       "</g>\n",
       "<!-- 2353969932624&#45;&gt;2353969934672+ -->\n",
       "<g id=\"edge9\" class=\"edge\">\n",
       "<title>2353969932624&#45;&gt;2353969934672+</title>\n",
       "<path fill=\"none\" stroke=\"black\" d=\"M507.05,-62.67C516.78,-64.35 526.18,-65.96 534.62,-67.42\"/>\n",
       "<polygon fill=\"black\" stroke=\"black\" points=\"534.3,-70.91 544.75,-69.16 535.49,-64.01 534.3,-70.91\"/>\n",
       "</g>\n",
       "<!-- 2353969932624*&#45;&gt;2353969932624 -->\n",
       "<g id=\"edge3\" class=\"edge\">\n",
       "<title>2353969932624*&#45;&gt;2353969932624</title>\n",
       "<path fill=\"none\" stroke=\"black\" d=\"M280.28,-46.5C288.05,-46.5 297.08,-46.5 306.68,-46.5\"/>\n",
       "<polygon fill=\"black\" stroke=\"black\" points=\"306.88,-50 316.88,-46.5 306.88,-43 306.88,-50\"/>\n",
       "</g>\n",
       "</g>\n",
       "</svg>\n"
      ],
      "text/plain": [
       "<graphviz.graphs.Digraph at 0x22413868250>"
      ]
     },
     "execution_count": 44,
     "metadata": {},
     "output_type": "execute_result"
    }
   ],
   "source": [
    "draw_dot(L)"
   ]
  },
  {
   "cell_type": "markdown",
   "id": "10fc6024",
   "metadata": {},
   "source": [
    "L = d * f\n",
    "dL/dd=f*dd/dd+d*df/dd= f since df/dd=0 (partial derivative)\n",
    "f.grad=d=4\n",
    "\n",
    "dL/df=d*df/df+f*dd/df=d\n",
    "d.grad=f=-2\n",
    "\n",
    "dL/dc=dl/dd *dd/dc= f*1=-2\n",
    "\n",
    "dL/da=dL/dd*dd/de*de/da=f*1*b=6  or dL/de*de/da"
   ]
  },
  {
   "cell_type": "code",
   "execution_count": 63,
   "id": "0d2908e2",
   "metadata": {},
   "outputs": [],
   "source": [
    "L.grad=1\n",
    "d.grad=-2\n",
    "f.grad=4\n",
    "c.grad=-2\n",
    "e.grad=-1\n",
    "a.grad=6\n",
    "b.grad=-4"
   ]
  },
  {
   "cell_type": "code",
   "execution_count": 64,
   "id": "7121b5bb",
   "metadata": {},
   "outputs": [
    {
     "data": {
      "image/svg+xml": [
       "<?xml version=\"1.0\" encoding=\"UTF-8\" standalone=\"no\"?>\n",
       "<!DOCTYPE svg PUBLIC \"-//W3C//DTD SVG 1.1//EN\"\n",
       " \"http://www.w3.org/Graphics/SVG/1.1/DTD/svg11.dtd\">\n",
       "<!-- Generated by graphviz version 2.50.0 (0)\n",
       " -->\n",
       "<!-- Pages: 1 -->\n",
       "<svg width=\"1151pt\" height=\"156pt\"\n",
       " viewBox=\"0.00 0.00 1151.00 156.00\" xmlns=\"http://www.w3.org/2000/svg\" xmlns:xlink=\"http://www.w3.org/1999/xlink\">\n",
       "<g id=\"graph0\" class=\"graph\" transform=\"scale(1 1) rotate(0) translate(4 152)\">\n",
       "<polygon fill=\"white\" stroke=\"transparent\" points=\"-4,4 -4,-152 1147,-152 1147,4 -4,4\"/>\n",
       "<!-- 2353968367120 -->\n",
       "<g id=\"node1\" class=\"node\">\n",
       "<title>2353968367120</title>\n",
       "<polygon fill=\"none\" stroke=\"black\" points=\"0,-111.5 0,-147.5 194,-147.5 194,-111.5 0,-111.5\"/>\n",
       "<text text-anchor=\"middle\" x=\"11.5\" y=\"-125.8\" font-family=\"Times New Roman,serif\" font-size=\"14.00\">b</text>\n",
       "<polyline fill=\"none\" stroke=\"black\" points=\"23,-111.5 23,-147.5 \"/>\n",
       "<text text-anchor=\"middle\" x=\"65.5\" y=\"-125.8\" font-family=\"Times New Roman,serif\" font-size=\"14.00\">data &#45;3.0000</text>\n",
       "<polyline fill=\"none\" stroke=\"black\" points=\"108,-111.5 108,-147.5 \"/>\n",
       "<text text-anchor=\"middle\" x=\"151\" y=\"-125.8\" font-family=\"Times New Roman,serif\" font-size=\"14.00\">grad &#45;4.0000</text>\n",
       "</g>\n",
       "<!-- 2353970127504* -->\n",
       "<g id=\"node6\" class=\"node\">\n",
       "<title>2353970127504*</title>\n",
       "<ellipse fill=\"none\" stroke=\"black\" cx=\"257\" cy=\"-101.5\" rx=\"27\" ry=\"18\"/>\n",
       "<text text-anchor=\"middle\" x=\"257\" y=\"-97.8\" font-family=\"Times New Roman,serif\" font-size=\"14.00\">*</text>\n",
       "</g>\n",
       "<!-- 2353968367120&#45;&gt;2353970127504* -->\n",
       "<g id=\"edge5\" class=\"edge\">\n",
       "<title>2353968367120&#45;&gt;2353970127504*</title>\n",
       "<path fill=\"none\" stroke=\"black\" d=\"M194.01,-112.49C203.35,-110.83 212.37,-109.23 220.49,-107.79\"/>\n",
       "<polygon fill=\"black\" stroke=\"black\" points=\"221.37,-111.19 230.6,-106 220.15,-104.3 221.37,-111.19\"/>\n",
       "</g>\n",
       "<!-- 2353970128464 -->\n",
       "<g id=\"node2\" class=\"node\">\n",
       "<title>2353970128464</title>\n",
       "<polygon fill=\"none\" stroke=\"black\" points=\"643,-55.5 643,-91.5 829,-91.5 829,-55.5 643,-55.5\"/>\n",
       "<text text-anchor=\"middle\" x=\"653\" y=\"-69.8\" font-family=\"Times New Roman,serif\" font-size=\"14.00\"> </text>\n",
       "<polyline fill=\"none\" stroke=\"black\" points=\"663,-55.5 663,-91.5 \"/>\n",
       "<text text-anchor=\"middle\" x=\"703\" y=\"-69.8\" font-family=\"Times New Roman,serif\" font-size=\"14.00\">data 4.0000</text>\n",
       "<polyline fill=\"none\" stroke=\"black\" points=\"743,-55.5 743,-91.5 \"/>\n",
       "<text text-anchor=\"middle\" x=\"786\" y=\"-69.8\" font-family=\"Times New Roman,serif\" font-size=\"14.00\">grad &#45;2.0000</text>\n",
       "</g>\n",
       "<!-- 2353970131856* -->\n",
       "<g id=\"node9\" class=\"node\">\n",
       "<title>2353970131856*</title>\n",
       "<ellipse fill=\"none\" stroke=\"black\" cx=\"893\" cy=\"-45.5\" rx=\"27\" ry=\"18\"/>\n",
       "<text text-anchor=\"middle\" x=\"893\" y=\"-41.8\" font-family=\"Times New Roman,serif\" font-size=\"14.00\">*</text>\n",
       "</g>\n",
       "<!-- 2353970128464&#45;&gt;2353970131856* -->\n",
       "<g id=\"edge7\" class=\"edge\">\n",
       "<title>2353970128464&#45;&gt;2353970131856*</title>\n",
       "<path fill=\"none\" stroke=\"black\" d=\"M829.4,-56.81C839.07,-55.06 848.41,-53.37 856.8,-51.86\"/>\n",
       "<polygon fill=\"black\" stroke=\"black\" points=\"857.65,-55.26 866.87,-50.04 856.4,-48.37 857.65,-55.26\"/>\n",
       "</g>\n",
       "<!-- 2353970128464+ -->\n",
       "<g id=\"node3\" class=\"node\">\n",
       "<title>2353970128464+</title>\n",
       "<ellipse fill=\"none\" stroke=\"black\" cx=\"579\" cy=\"-73.5\" rx=\"27\" ry=\"18\"/>\n",
       "<text text-anchor=\"middle\" x=\"579\" y=\"-69.8\" font-family=\"Times New Roman,serif\" font-size=\"14.00\">+</text>\n",
       "</g>\n",
       "<!-- 2353970128464+&#45;&gt;2353970128464 -->\n",
       "<g id=\"edge1\" class=\"edge\">\n",
       "<title>2353970128464+&#45;&gt;2353970128464</title>\n",
       "<path fill=\"none\" stroke=\"black\" d=\"M606.29,-73.5C614.05,-73.5 623.05,-73.5 632.61,-73.5\"/>\n",
       "<polygon fill=\"black\" stroke=\"black\" points=\"632.75,-77 642.75,-73.5 632.75,-70 632.75,-77\"/>\n",
       "</g>\n",
       "<!-- 2353970130064 -->\n",
       "<g id=\"node4\" class=\"node\">\n",
       "<title>2353970130064</title>\n",
       "<polygon fill=\"none\" stroke=\"black\" points=\"642,-0.5 642,-36.5 830,-36.5 830,-0.5 642,-0.5\"/>\n",
       "<text text-anchor=\"middle\" x=\"652.5\" y=\"-14.8\" font-family=\"Times New Roman,serif\" font-size=\"14.00\">f</text>\n",
       "<polyline fill=\"none\" stroke=\"black\" points=\"663,-0.5 663,-36.5 \"/>\n",
       "<text text-anchor=\"middle\" x=\"705.5\" y=\"-14.8\" font-family=\"Times New Roman,serif\" font-size=\"14.00\">data &#45;2.0000</text>\n",
       "<polyline fill=\"none\" stroke=\"black\" points=\"748,-0.5 748,-36.5 \"/>\n",
       "<text text-anchor=\"middle\" x=\"789\" y=\"-14.8\" font-family=\"Times New Roman,serif\" font-size=\"14.00\">grad 4.0000</text>\n",
       "</g>\n",
       "<!-- 2353970130064&#45;&gt;2353970131856* -->\n",
       "<g id=\"edge8\" class=\"edge\">\n",
       "<title>2353970130064&#45;&gt;2353970131856*</title>\n",
       "<path fill=\"none\" stroke=\"black\" d=\"M830.29,-34.75C839.57,-36.37 848.52,-37.93 856.61,-39.33\"/>\n",
       "<polygon fill=\"black\" stroke=\"black\" points=\"856.22,-42.82 866.68,-41.09 857.42,-35.92 856.22,-42.82\"/>\n",
       "</g>\n",
       "<!-- 2353970127504 -->\n",
       "<g id=\"node5\" class=\"node\">\n",
       "<title>2353970127504</title>\n",
       "<polygon fill=\"none\" stroke=\"black\" points=\"322.5,-83.5 322.5,-119.5 513.5,-119.5 513.5,-83.5 322.5,-83.5\"/>\n",
       "<text text-anchor=\"middle\" x=\"332.5\" y=\"-97.8\" font-family=\"Times New Roman,serif\" font-size=\"14.00\"> </text>\n",
       "<polyline fill=\"none\" stroke=\"black\" points=\"342.5,-83.5 342.5,-119.5 \"/>\n",
       "<text text-anchor=\"middle\" x=\"385\" y=\"-97.8\" font-family=\"Times New Roman,serif\" font-size=\"14.00\">data &#45;6.0000</text>\n",
       "<polyline fill=\"none\" stroke=\"black\" points=\"427.5,-83.5 427.5,-119.5 \"/>\n",
       "<text text-anchor=\"middle\" x=\"470.5\" y=\"-97.8\" font-family=\"Times New Roman,serif\" font-size=\"14.00\">grad &#45;1.0000</text>\n",
       "</g>\n",
       "<!-- 2353970127504&#45;&gt;2353970128464+ -->\n",
       "<g id=\"edge4\" class=\"edge\">\n",
       "<title>2353970127504&#45;&gt;2353970128464+</title>\n",
       "<path fill=\"none\" stroke=\"black\" d=\"M513.79,-84.81C523.91,-83.03 533.68,-81.3 542.42,-79.77\"/>\n",
       "<polygon fill=\"black\" stroke=\"black\" points=\"543.29,-83.17 552.53,-77.99 542.07,-76.27 543.29,-83.17\"/>\n",
       "</g>\n",
       "<!-- 2353970127504*&#45;&gt;2353970127504 -->\n",
       "<g id=\"edge2\" class=\"edge\">\n",
       "<title>2353970127504*&#45;&gt;2353970127504</title>\n",
       "<path fill=\"none\" stroke=\"black\" d=\"M284.26,-101.5C292.39,-101.5 301.91,-101.5 312.04,-101.5\"/>\n",
       "<polygon fill=\"black\" stroke=\"black\" points=\"312.35,-105 322.35,-101.5 312.35,-98 312.35,-105\"/>\n",
       "</g>\n",
       "<!-- 2353970128784 -->\n",
       "<g id=\"node7\" class=\"node\">\n",
       "<title>2353970128784</title>\n",
       "<polygon fill=\"none\" stroke=\"black\" points=\"320,-28.5 320,-64.5 516,-64.5 516,-28.5 320,-28.5\"/>\n",
       "<text text-anchor=\"middle\" x=\"331.5\" y=\"-42.8\" font-family=\"Times New Roman,serif\" font-size=\"14.00\">c</text>\n",
       "<polyline fill=\"none\" stroke=\"black\" points=\"343,-28.5 343,-64.5 \"/>\n",
       "<text text-anchor=\"middle\" x=\"386.5\" y=\"-42.8\" font-family=\"Times New Roman,serif\" font-size=\"14.00\">data 10.0000</text>\n",
       "<polyline fill=\"none\" stroke=\"black\" points=\"430,-28.5 430,-64.5 \"/>\n",
       "<text text-anchor=\"middle\" x=\"473\" y=\"-42.8\" font-family=\"Times New Roman,serif\" font-size=\"14.00\">grad &#45;2.0000</text>\n",
       "</g>\n",
       "<!-- 2353970128784&#45;&gt;2353970128464+ -->\n",
       "<g id=\"edge9\" class=\"edge\">\n",
       "<title>2353970128784&#45;&gt;2353970128464+</title>\n",
       "<path fill=\"none\" stroke=\"black\" d=\"M516.07,-62.98C525.42,-64.57 534.43,-66.1 542.55,-67.48\"/>\n",
       "<polygon fill=\"black\" stroke=\"black\" points=\"542.21,-70.97 552.65,-69.2 543.38,-64.07 542.21,-70.97\"/>\n",
       "</g>\n",
       "<!-- 2353970131856 -->\n",
       "<g id=\"node8\" class=\"node\">\n",
       "<title>2353970131856</title>\n",
       "<polygon fill=\"none\" stroke=\"black\" points=\"956,-27.5 956,-63.5 1143,-63.5 1143,-27.5 956,-27.5\"/>\n",
       "<text text-anchor=\"middle\" x=\"966\" y=\"-41.8\" font-family=\"Times New Roman,serif\" font-size=\"14.00\"> </text>\n",
       "<polyline fill=\"none\" stroke=\"black\" points=\"976,-27.5 976,-63.5 \"/>\n",
       "<text text-anchor=\"middle\" x=\"1018.5\" y=\"-41.8\" font-family=\"Times New Roman,serif\" font-size=\"14.00\">data &#45;8.0000</text>\n",
       "<polyline fill=\"none\" stroke=\"black\" points=\"1061,-27.5 1061,-63.5 \"/>\n",
       "<text text-anchor=\"middle\" x=\"1102\" y=\"-41.8\" font-family=\"Times New Roman,serif\" font-size=\"14.00\">grad 1.0000</text>\n",
       "</g>\n",
       "<!-- 2353970131856*&#45;&gt;2353970131856 -->\n",
       "<g id=\"edge3\" class=\"edge\">\n",
       "<title>2353970131856*&#45;&gt;2353970131856</title>\n",
       "<path fill=\"none\" stroke=\"black\" d=\"M920.21,-45.5C927.73,-45.5 936.43,-45.5 945.67,-45.5\"/>\n",
       "<polygon fill=\"black\" stroke=\"black\" points=\"945.89,-49 955.89,-45.5 945.89,-42 945.89,-49\"/>\n",
       "</g>\n",
       "<!-- 2353930695120 -->\n",
       "<g id=\"node10\" class=\"node\">\n",
       "<title>2353930695120</title>\n",
       "<polygon fill=\"none\" stroke=\"black\" points=\"4.5,-56.5 4.5,-92.5 189.5,-92.5 189.5,-56.5 4.5,-56.5\"/>\n",
       "<text text-anchor=\"middle\" x=\"16\" y=\"-70.8\" font-family=\"Times New Roman,serif\" font-size=\"14.00\">a</text>\n",
       "<polyline fill=\"none\" stroke=\"black\" points=\"27.5,-56.5 27.5,-92.5 \"/>\n",
       "<text text-anchor=\"middle\" x=\"67.5\" y=\"-70.8\" font-family=\"Times New Roman,serif\" font-size=\"14.00\">data 2.0000</text>\n",
       "<polyline fill=\"none\" stroke=\"black\" points=\"107.5,-56.5 107.5,-92.5 \"/>\n",
       "<text text-anchor=\"middle\" x=\"148.5\" y=\"-70.8\" font-family=\"Times New Roman,serif\" font-size=\"14.00\">grad 6.0000</text>\n",
       "</g>\n",
       "<!-- 2353930695120&#45;&gt;2353970127504* -->\n",
       "<g id=\"edge6\" class=\"edge\">\n",
       "<title>2353930695120&#45;&gt;2353970127504*</title>\n",
       "<path fill=\"none\" stroke=\"black\" d=\"M189.91,-90.21C200.76,-92.06 211.28,-93.86 220.61,-95.45\"/>\n",
       "<polygon fill=\"black\" stroke=\"black\" points=\"220.16,-98.93 230.6,-97.16 221.34,-92.03 220.16,-98.93\"/>\n",
       "</g>\n",
       "</g>\n",
       "</svg>\n"
      ],
      "text/plain": [
       "<graphviz.graphs.Digraph at 0x224138b2990>"
      ]
     },
     "execution_count": 64,
     "metadata": {},
     "output_type": "execute_result"
    }
   ],
   "source": [
    "draw_dot(L)"
   ]
  },
  {
   "cell_type": "code",
   "execution_count": 65,
   "id": "ad42b183",
   "metadata": {},
   "outputs": [
    {
     "name": "stdout",
     "output_type": "stream",
     "text": [
      "-7.286496\n"
     ]
    }
   ],
   "source": [
    "a.data += 0.01 * a.grad\n",
    "b.data += 0.01 * b.grad\n",
    "c.data += 0.01 * c.grad\n",
    "f.data += 0.01 * f.grad\n",
    "\n",
    "e = a * b\n",
    "d = e + c\n",
    "L = d * f\n",
    "\n",
    "print(L.data)"
   ]
  },
  {
   "cell_type": "code",
   "execution_count": null,
   "id": "b59f0a16",
   "metadata": {},
   "outputs": [],
   "source": []
  },
  {
   "cell_type": "code",
   "execution_count": 66,
   "id": "bfd1cc40",
   "metadata": {},
   "outputs": [
    {
     "data": {
      "text/plain": [
       "Value(data=-3.04)"
      ]
     },
     "execution_count": 66,
     "metadata": {},
     "output_type": "execute_result"
    }
   ],
   "source": [
    "b"
   ]
  },
  {
   "cell_type": "code",
   "execution_count": 69,
   "id": "b84c2f7a",
   "metadata": {},
   "outputs": [
    {
     "data": {
      "image/png": "[encoded data removed]",
      "text/plain": [
       "<Figure size 640x480 with 1 Axes>"
      ]
     },
     "metadata": {},
     "output_type": "display_data"
    }
   ],
   "source": [
    "plt.plot(np.arange(-10,10,0.2), np.tanh(np.arange(-10,10,0.2))); plt.grid();\n"
   ]
  },
  {
   "cell_type": "code",
   "execution_count": 91,
   "id": "ed3353a8",
   "metadata": {},
   "outputs": [],
   "source": [
    "# inputs x1,x2\n",
    "x1 = Value(2.0, label='x1')\n",
    "x2 = Value(0.0, label='x2')\n",
    "# weights w1,w2\n",
    "w1 = Value(-3.0, label='w1')\n",
    "w2 = Value(1.0, label='w2')\n",
    "# bias of the neuron\n",
    "b = Value(6.8813735870195432, label='b')\n",
    "# x1*w1 + x2*w2 + b\n",
    "x1w1 = x1*w1; x1w1.label = 'x1*w1'\n",
    "x2w2 = x2*w2; x2w2.label = 'x2*w2'\n",
    "x1w1x2w2 = x1w1 + x2w2; x1w1x2w2.label = 'x1*w1 + x2*w2'\n",
    "n = x1w1x2w2 + b; n.label = 'n'\n",
    "o = n.tanh();o.label = 'o'"
   ]
  },
  {
   "cell_type": "code",
   "execution_count": 92,
   "id": "b9bc6f01",
   "metadata": {},
   "outputs": [
    {
     "name": "stdout",
     "output_type": "stream",
     "text": [
      "Value(data=0.7071067811865476)\n"
     ]
    }
   ],
   "source": [
    "print(o)"
   ]
  },
  {
   "cell_type": "code",
   "execution_count": 93,
   "id": "9c57759f",
   "metadata": {},
   "outputs": [
    {
     "data": {
      "image/svg+xml": [
       "<?xml version=\"1.0\" encoding=\"UTF-8\" standalone=\"no\"?>\n",
       "<!DOCTYPE svg PUBLIC \"-//W3C//DTD SVG 1.1//EN\"\n",
       " \"http://www.w3.org/Graphics/SVG/1.1/DTD/svg11.dtd\">\n",
       "<!-- Generated by graphviz version 2.50.0 (0)\n",
       " -->\n",
       "<!-- Pages: 1 -->\n",
       "<svg width=\"1575pt\" height=\"210pt\"\n",
       " viewBox=\"0.00 0.00 1575.00 210.00\" xmlns=\"http://www.w3.org/2000/svg\" xmlns:xlink=\"http://www.w3.org/1999/xlink\">\n",
       "<g id=\"graph0\" class=\"graph\" transform=\"scale(1 1) rotate(0) translate(4 206)\">\n",
       "<polygon fill=\"white\" stroke=\"transparent\" points=\"-4,4 -4,-206 1571,-206 1571,4 -4,4\"/>\n",
       "<!-- 2353969685520 -->\n",
       "<g id=\"node1\" class=\"node\">\n",
       "<title>2353969685520</title>\n",
       "<polygon fill=\"none\" stroke=\"black\" points=\"328.5,-55.5 328.5,-91.5 543.5,-91.5 543.5,-55.5 328.5,-55.5\"/>\n",
       "<text text-anchor=\"middle\" x=\"355\" y=\"-69.8\" font-family=\"Times New Roman,serif\" font-size=\"14.00\">x2*w2</text>\n",
       "<polyline fill=\"none\" stroke=\"black\" points=\"381.5,-55.5 381.5,-91.5 \"/>\n",
       "<text text-anchor=\"middle\" x=\"421.5\" y=\"-69.8\" font-family=\"Times New Roman,serif\" font-size=\"14.00\">data 0.0000</text>\n",
       "<polyline fill=\"none\" stroke=\"black\" points=\"461.5,-55.5 461.5,-91.5 \"/>\n",
       "<text text-anchor=\"middle\" x=\"502.5\" y=\"-69.8\" font-family=\"Times New Roman,serif\" font-size=\"14.00\">grad 0.0000</text>\n",
       "</g>\n",
       "<!-- 2353969682768+ -->\n",
       "<g id=\"node9\" class=\"node\">\n",
       "<title>2353969682768+</title>\n",
       "<ellipse fill=\"none\" stroke=\"black\" cx=\"609\" cy=\"-100.5\" rx=\"27\" ry=\"18\"/>\n",
       "<text text-anchor=\"middle\" x=\"609\" y=\"-96.8\" font-family=\"Times New Roman,serif\" font-size=\"14.00\">+</text>\n",
       "</g>\n",
       "<!-- 2353969685520&#45;&gt;2353969682768+ -->\n",
       "<g id=\"edge8\" class=\"edge\">\n",
       "<title>2353969685520&#45;&gt;2353969682768+</title>\n",
       "<path fill=\"none\" stroke=\"black\" d=\"M543.84,-90.37C554.01,-91.98 563.76,-93.51 572.44,-94.89\"/>\n",
       "<polygon fill=\"black\" stroke=\"black\" points=\"572.05,-98.37 582.47,-96.47 573.14,-91.45 572.05,-98.37\"/>\n",
       "</g>\n",
       "<!-- 2353969685520* -->\n",
       "<g id=\"node2\" class=\"node\">\n",
       "<title>2353969685520*</title>\n",
       "<ellipse fill=\"none\" stroke=\"black\" cx=\"263\" cy=\"-73.5\" rx=\"27\" ry=\"18\"/>\n",
       "<text text-anchor=\"middle\" x=\"263\" y=\"-69.8\" font-family=\"Times New Roman,serif\" font-size=\"14.00\">*</text>\n",
       "</g>\n",
       "<!-- 2353969685520*&#45;&gt;2353969685520 -->\n",
       "<g id=\"edge1\" class=\"edge\">\n",
       "<title>2353969685520*&#45;&gt;2353969685520</title>\n",
       "<path fill=\"none\" stroke=\"black\" d=\"M290.34,-73.5C298.51,-73.5 308.08,-73.5 318.36,-73.5\"/>\n",
       "<polygon fill=\"black\" stroke=\"black\" points=\"318.39,-77 328.39,-73.5 318.39,-70 318.39,-77\"/>\n",
       "</g>\n",
       "<!-- 2353969680144 -->\n",
       "<g id=\"node3\" class=\"node\">\n",
       "<title>2353969680144</title>\n",
       "<polygon fill=\"none\" stroke=\"black\" points=\"4,-165.5 4,-201.5 196,-201.5 196,-165.5 4,-165.5\"/>\n",
       "<text text-anchor=\"middle\" x=\"19\" y=\"-179.8\" font-family=\"Times New Roman,serif\" font-size=\"14.00\">x1</text>\n",
       "<polyline fill=\"none\" stroke=\"black\" points=\"34,-165.5 34,-201.5 \"/>\n",
       "<text text-anchor=\"middle\" x=\"74\" y=\"-179.8\" font-family=\"Times New Roman,serif\" font-size=\"14.00\">data 2.0000</text>\n",
       "<polyline fill=\"none\" stroke=\"black\" points=\"114,-165.5 114,-201.5 \"/>\n",
       "<text text-anchor=\"middle\" x=\"155\" y=\"-179.8\" font-family=\"Times New Roman,serif\" font-size=\"14.00\">grad 0.0000</text>\n",
       "</g>\n",
       "<!-- 2353969677200* -->\n",
       "<g id=\"node15\" class=\"node\">\n",
       "<title>2353969677200*</title>\n",
       "<ellipse fill=\"none\" stroke=\"black\" cx=\"263\" cy=\"-128.5\" rx=\"27\" ry=\"18\"/>\n",
       "<text text-anchor=\"middle\" x=\"263\" y=\"-124.8\" font-family=\"Times New Roman,serif\" font-size=\"14.00\">*</text>\n",
       "</g>\n",
       "<!-- 2353969680144&#45;&gt;2353969677200* -->\n",
       "<g id=\"edge11\" class=\"edge\">\n",
       "<title>2353969680144&#45;&gt;2353969677200*</title>\n",
       "<path fill=\"none\" stroke=\"black\" d=\"M172.53,-165.44C181.84,-162.67 191.2,-159.67 200,-156.5 210.53,-152.71 221.75,-147.9 231.72,-143.33\"/>\n",
       "<polygon fill=\"black\" stroke=\"black\" points=\"233.25,-146.48 240.82,-139.07 230.28,-140.14 233.25,-146.48\"/>\n",
       "</g>\n",
       "<!-- 2353931235216 -->\n",
       "<g id=\"node4\" class=\"node\">\n",
       "<title>2353931235216</title>\n",
       "<polygon fill=\"none\" stroke=\"black\" points=\"1071,-109.5 1071,-145.5 1256,-145.5 1256,-109.5 1071,-109.5\"/>\n",
       "<text text-anchor=\"middle\" x=\"1082.5\" y=\"-123.8\" font-family=\"Times New Roman,serif\" font-size=\"14.00\">n</text>\n",
       "<polyline fill=\"none\" stroke=\"black\" points=\"1094,-109.5 1094,-145.5 \"/>\n",
       "<text text-anchor=\"middle\" x=\"1134\" y=\"-123.8\" font-family=\"Times New Roman,serif\" font-size=\"14.00\">data 0.8814</text>\n",
       "<polyline fill=\"none\" stroke=\"black\" points=\"1174,-109.5 1174,-145.5 \"/>\n",
       "<text text-anchor=\"middle\" x=\"1215\" y=\"-123.8\" font-family=\"Times New Roman,serif\" font-size=\"14.00\">grad 0.0000</text>\n",
       "</g>\n",
       "<!-- 2353931239248tanh -->\n",
       "<g id=\"node7\" class=\"node\">\n",
       "<title>2353931239248tanh</title>\n",
       "<ellipse fill=\"none\" stroke=\"black\" cx=\"1319\" cy=\"-127.5\" rx=\"27\" ry=\"18\"/>\n",
       "<text text-anchor=\"middle\" x=\"1319\" y=\"-123.8\" font-family=\"Times New Roman,serif\" font-size=\"14.00\">tanh</text>\n",
       "</g>\n",
       "<!-- 2353931235216&#45;&gt;2353931239248tanh -->\n",
       "<g id=\"edge14\" class=\"edge\">\n",
       "<title>2353931235216&#45;&gt;2353931239248tanh</title>\n",
       "<path fill=\"none\" stroke=\"black\" d=\"M1256.01,-127.5C1265.01,-127.5 1273.74,-127.5 1281.66,-127.5\"/>\n",
       "<polygon fill=\"black\" stroke=\"black\" points=\"1281.91,-131 1291.91,-127.5 1281.91,-124 1281.91,-131\"/>\n",
       "</g>\n",
       "<!-- 2353931235216+ -->\n",
       "<g id=\"node5\" class=\"node\">\n",
       "<title>2353931235216+</title>\n",
       "<ellipse fill=\"none\" stroke=\"black\" cx=\"1008\" cy=\"-127.5\" rx=\"27\" ry=\"18\"/>\n",
       "<text text-anchor=\"middle\" x=\"1008\" y=\"-123.8\" font-family=\"Times New Roman,serif\" font-size=\"14.00\">+</text>\n",
       "</g>\n",
       "<!-- 2353931235216+&#45;&gt;2353931235216 -->\n",
       "<g id=\"edge2\" class=\"edge\">\n",
       "<title>2353931235216+&#45;&gt;2353931235216</title>\n",
       "<path fill=\"none\" stroke=\"black\" d=\"M1035.04,-127.5C1042.58,-127.5 1051.3,-127.5 1060.57,-127.5\"/>\n",
       "<polygon fill=\"black\" stroke=\"black\" points=\"1060.81,-131 1070.81,-127.5 1060.81,-124 1060.81,-131\"/>\n",
       "</g>\n",
       "<!-- 2353931239248 -->\n",
       "<g id=\"node6\" class=\"node\">\n",
       "<title>2353931239248</title>\n",
       "<polygon fill=\"none\" stroke=\"black\" points=\"1382,-109.5 1382,-145.5 1567,-145.5 1567,-109.5 1382,-109.5\"/>\n",
       "<text text-anchor=\"middle\" x=\"1393.5\" y=\"-123.8\" font-family=\"Times New Roman,serif\" font-size=\"14.00\">o</text>\n",
       "<polyline fill=\"none\" stroke=\"black\" points=\"1405,-109.5 1405,-145.5 \"/>\n",
       "<text text-anchor=\"middle\" x=\"1445\" y=\"-123.8\" font-family=\"Times New Roman,serif\" font-size=\"14.00\">data 0.7071</text>\n",
       "<polyline fill=\"none\" stroke=\"black\" points=\"1485,-109.5 1485,-145.5 \"/>\n",
       "<text text-anchor=\"middle\" x=\"1526\" y=\"-123.8\" font-family=\"Times New Roman,serif\" font-size=\"14.00\">grad 0.0000</text>\n",
       "</g>\n",
       "<!-- 2353931239248tanh&#45;&gt;2353931239248 -->\n",
       "<g id=\"edge3\" class=\"edge\">\n",
       "<title>2353931239248tanh&#45;&gt;2353931239248</title>\n",
       "<path fill=\"none\" stroke=\"black\" d=\"M1346.04,-127.5C1353.58,-127.5 1362.3,-127.5 1371.57,-127.5\"/>\n",
       "<polygon fill=\"black\" stroke=\"black\" points=\"1371.81,-131 1381.81,-127.5 1371.81,-124 1371.81,-131\"/>\n",
       "</g>\n",
       "<!-- 2353969682768 -->\n",
       "<g id=\"node8\" class=\"node\">\n",
       "<title>2353969682768</title>\n",
       "<polygon fill=\"none\" stroke=\"black\" points=\"672,-82.5 672,-118.5 945,-118.5 945,-82.5 672,-82.5\"/>\n",
       "<text text-anchor=\"middle\" x=\"725\" y=\"-96.8\" font-family=\"Times New Roman,serif\" font-size=\"14.00\">x1*w1 + x2*w2</text>\n",
       "<polyline fill=\"none\" stroke=\"black\" points=\"778,-82.5 778,-118.5 \"/>\n",
       "<text text-anchor=\"middle\" x=\"820.5\" y=\"-96.8\" font-family=\"Times New Roman,serif\" font-size=\"14.00\">data &#45;6.0000</text>\n",
       "<polyline fill=\"none\" stroke=\"black\" points=\"863,-82.5 863,-118.5 \"/>\n",
       "<text text-anchor=\"middle\" x=\"904\" y=\"-96.8\" font-family=\"Times New Roman,serif\" font-size=\"14.00\">grad 0.0000</text>\n",
       "</g>\n",
       "<!-- 2353969682768&#45;&gt;2353931235216+ -->\n",
       "<g id=\"edge6\" class=\"edge\">\n",
       "<title>2353969682768&#45;&gt;2353931235216+</title>\n",
       "<path fill=\"none\" stroke=\"black\" d=\"M941.24,-118.51C952.12,-120 962.4,-121.4 971.45,-122.64\"/>\n",
       "<polygon fill=\"black\" stroke=\"black\" points=\"971.11,-126.13 981.49,-124.01 972.05,-119.19 971.11,-126.13\"/>\n",
       "</g>\n",
       "<!-- 2353969682768+&#45;&gt;2353969682768 -->\n",
       "<g id=\"edge4\" class=\"edge\">\n",
       "<title>2353969682768+&#45;&gt;2353969682768</title>\n",
       "<path fill=\"none\" stroke=\"black\" d=\"M636.23,-100.5C643.7,-100.5 652.41,-100.5 661.87,-100.5\"/>\n",
       "<polygon fill=\"black\" stroke=\"black\" points=\"661.98,-104 671.98,-100.5 661.98,-97 661.98,-104\"/>\n",
       "</g>\n",
       "<!-- 2353969686864 -->\n",
       "<g id=\"node10\" class=\"node\">\n",
       "<title>2353969686864</title>\n",
       "<polygon fill=\"none\" stroke=\"black\" points=\"2.5,-55.5 2.5,-91.5 197.5,-91.5 197.5,-55.5 2.5,-55.5\"/>\n",
       "<text text-anchor=\"middle\" x=\"19\" y=\"-69.8\" font-family=\"Times New Roman,serif\" font-size=\"14.00\">w2</text>\n",
       "<polyline fill=\"none\" stroke=\"black\" points=\"35.5,-55.5 35.5,-91.5 \"/>\n",
       "<text text-anchor=\"middle\" x=\"75.5\" y=\"-69.8\" font-family=\"Times New Roman,serif\" font-size=\"14.00\">data 1.0000</text>\n",
       "<polyline fill=\"none\" stroke=\"black\" points=\"115.5,-55.5 115.5,-91.5 \"/>\n",
       "<text text-anchor=\"middle\" x=\"156.5\" y=\"-69.8\" font-family=\"Times New Roman,serif\" font-size=\"14.00\">grad 0.0000</text>\n",
       "</g>\n",
       "<!-- 2353969686864&#45;&gt;2353969685520* -->\n",
       "<g id=\"edge13\" class=\"edge\">\n",
       "<title>2353969686864&#45;&gt;2353969685520*</title>\n",
       "<path fill=\"none\" stroke=\"black\" d=\"M197.91,-73.5C207.65,-73.5 217.05,-73.5 225.52,-73.5\"/>\n",
       "<polygon fill=\"black\" stroke=\"black\" points=\"225.7,-77 235.7,-73.5 225.7,-70 225.7,-77\"/>\n",
       "</g>\n",
       "<!-- 2353969685904 -->\n",
       "<g id=\"node11\" class=\"node\">\n",
       "<title>2353969685904</title>\n",
       "<polygon fill=\"none\" stroke=\"black\" points=\"716,-137.5 716,-173.5 901,-173.5 901,-137.5 716,-137.5\"/>\n",
       "<text text-anchor=\"middle\" x=\"727.5\" y=\"-151.8\" font-family=\"Times New Roman,serif\" font-size=\"14.00\">b</text>\n",
       "<polyline fill=\"none\" stroke=\"black\" points=\"739,-137.5 739,-173.5 \"/>\n",
       "<text text-anchor=\"middle\" x=\"779\" y=\"-151.8\" font-family=\"Times New Roman,serif\" font-size=\"14.00\">data 6.8814</text>\n",
       "<polyline fill=\"none\" stroke=\"black\" points=\"819,-137.5 819,-173.5 \"/>\n",
       "<text text-anchor=\"middle\" x=\"860\" y=\"-151.8\" font-family=\"Times New Roman,serif\" font-size=\"14.00\">grad 0.0000</text>\n",
       "</g>\n",
       "<!-- 2353969685904&#45;&gt;2353931235216+ -->\n",
       "<g id=\"edge9\" class=\"edge\">\n",
       "<title>2353969685904&#45;&gt;2353931235216+</title>\n",
       "<path fill=\"none\" stroke=\"black\" d=\"M901.02,-142.52C926,-138.98 951.59,-135.36 971.37,-132.55\"/>\n",
       "<polygon fill=\"black\" stroke=\"black\" points=\"972.03,-135.99 981.43,-131.12 971.04,-129.06 972.03,-135.99\"/>\n",
       "</g>\n",
       "<!-- 2353969690960 -->\n",
       "<g id=\"node12\" class=\"node\">\n",
       "<title>2353969690960</title>\n",
       "<polygon fill=\"none\" stroke=\"black\" points=\"0,-110.5 0,-146.5 200,-146.5 200,-110.5 0,-110.5\"/>\n",
       "<text text-anchor=\"middle\" x=\"16.5\" y=\"-124.8\" font-family=\"Times New Roman,serif\" font-size=\"14.00\">w1</text>\n",
       "<polyline fill=\"none\" stroke=\"black\" points=\"33,-110.5 33,-146.5 \"/>\n",
       "<text text-anchor=\"middle\" x=\"75.5\" y=\"-124.8\" font-family=\"Times New Roman,serif\" font-size=\"14.00\">data &#45;3.0000</text>\n",
       "<polyline fill=\"none\" stroke=\"black\" points=\"118,-110.5 118,-146.5 \"/>\n",
       "<text text-anchor=\"middle\" x=\"159\" y=\"-124.8\" font-family=\"Times New Roman,serif\" font-size=\"14.00\">grad 0.0000</text>\n",
       "</g>\n",
       "<!-- 2353969690960&#45;&gt;2353969677200* -->\n",
       "<g id=\"edge10\" class=\"edge\">\n",
       "<title>2353969690960&#45;&gt;2353969677200*</title>\n",
       "<path fill=\"none\" stroke=\"black\" d=\"M200.21,-128.5C209.2,-128.5 217.86,-128.5 225.7,-128.5\"/>\n",
       "<polygon fill=\"black\" stroke=\"black\" points=\"225.85,-132 235.85,-128.5 225.85,-125 225.85,-132\"/>\n",
       "</g>\n",
       "<!-- 2353969682384 -->\n",
       "<g id=\"node13\" class=\"node\">\n",
       "<title>2353969682384</title>\n",
       "<polygon fill=\"none\" stroke=\"black\" points=\"4,-0.5 4,-36.5 196,-36.5 196,-0.5 4,-0.5\"/>\n",
       "<text text-anchor=\"middle\" x=\"19\" y=\"-14.8\" font-family=\"Times New Roman,serif\" font-size=\"14.00\">x2</text>\n",
       "<polyline fill=\"none\" stroke=\"black\" points=\"34,-0.5 34,-36.5 \"/>\n",
       "<text text-anchor=\"middle\" x=\"74\" y=\"-14.8\" font-family=\"Times New Roman,serif\" font-size=\"14.00\">data 0.0000</text>\n",
       "<polyline fill=\"none\" stroke=\"black\" points=\"114,-0.5 114,-36.5 \"/>\n",
       "<text text-anchor=\"middle\" x=\"155\" y=\"-14.8\" font-family=\"Times New Roman,serif\" font-size=\"14.00\">grad 0.0000</text>\n",
       "</g>\n",
       "<!-- 2353969682384&#45;&gt;2353969685520* -->\n",
       "<g id=\"edge12\" class=\"edge\">\n",
       "<title>2353969682384&#45;&gt;2353969685520*</title>\n",
       "<path fill=\"none\" stroke=\"black\" d=\"M169.28,-36.5C179.65,-39.61 190.16,-42.98 200,-46.5 210.28,-50.17 221.28,-54.74 231.11,-59.07\"/>\n",
       "<polygon fill=\"black\" stroke=\"black\" points=\"229.93,-62.37 240.48,-63.27 232.79,-55.99 229.93,-62.37\"/>\n",
       "</g>\n",
       "<!-- 2353969677200 -->\n",
       "<g id=\"node14\" class=\"node\">\n",
       "<title>2353969677200</title>\n",
       "<polygon fill=\"none\" stroke=\"black\" points=\"326,-110.5 326,-146.5 546,-146.5 546,-110.5 326,-110.5\"/>\n",
       "<text text-anchor=\"middle\" x=\"352.5\" y=\"-124.8\" font-family=\"Times New Roman,serif\" font-size=\"14.00\">x1*w1</text>\n",
       "<polyline fill=\"none\" stroke=\"black\" points=\"379,-110.5 379,-146.5 \"/>\n",
       "<text text-anchor=\"middle\" x=\"421.5\" y=\"-124.8\" font-family=\"Times New Roman,serif\" font-size=\"14.00\">data &#45;6.0000</text>\n",
       "<polyline fill=\"none\" stroke=\"black\" points=\"464,-110.5 464,-146.5 \"/>\n",
       "<text text-anchor=\"middle\" x=\"505\" y=\"-124.8\" font-family=\"Times New Roman,serif\" font-size=\"14.00\">grad 0.0000</text>\n",
       "</g>\n",
       "<!-- 2353969677200&#45;&gt;2353969682768+ -->\n",
       "<g id=\"edge7\" class=\"edge\">\n",
       "<title>2353969677200&#45;&gt;2353969682768+</title>\n",
       "<path fill=\"none\" stroke=\"black\" d=\"M546.27,-110.61C555.64,-109.07 564.6,-107.61 572.65,-106.29\"/>\n",
       "<polygon fill=\"black\" stroke=\"black\" points=\"573.35,-109.72 582.65,-104.65 572.22,-102.81 573.35,-109.72\"/>\n",
       "</g>\n",
       "<!-- 2353969677200*&#45;&gt;2353969677200 -->\n",
       "<g id=\"edge5\" class=\"edge\">\n",
       "<title>2353969677200*&#45;&gt;2353969677200</title>\n",
       "<path fill=\"none\" stroke=\"black\" d=\"M290.34,-128.5C297.77,-128.5 306.37,-128.5 315.6,-128.5\"/>\n",
       "<polygon fill=\"black\" stroke=\"black\" points=\"315.84,-132 325.84,-128.5 315.84,-125 315.84,-132\"/>\n",
       "</g>\n",
       "</g>\n",
       "</svg>\n"
      ],
      "text/plain": [
       "<graphviz.graphs.Digraph at 0x224139b2450>"
      ]
     },
     "execution_count": 93,
     "metadata": {},
     "output_type": "execute_result"
    }
   ],
   "source": [
    "draw_dot(o)"
   ]
  },
  {
   "cell_type": "markdown",
   "id": "b62ce842",
   "metadata": {},
   "source": [
    "Back propogation\n",
    "\n",
    "what we care is weights of w1 and w2 in NN\n",
    "\n",
    "do/do=1\n",
    "to BP on tanh we need to know its derivative: 1-(tanh)^2\n",
    "do/dn=1-o**2=.5\n",
    "\n",
    "do/db=do/dn*(0+db/db)=.5\n",
    "do/dx1w1x2w2=do/dn*(dx1w1x2w2/dx1w1x2w2+0)=.5"
   ]
  },
  {
   "cell_type": "code",
   "execution_count": 101,
   "id": "3947a662",
   "metadata": {},
   "outputs": [],
   "source": [
    "o.grad=1.0\n",
    "n.grad=1-o.data**2\n",
    "x1w1x2w2.grad=.5\n",
    "b.grad=.5\n",
    "x1w1x2w2.grad=.5\n",
    "x1w1.grad=.5\n",
    "x2w2.grad=.5\n",
    "x2.grad = w2.data * x2w2.grad\n",
    "w2.grad = x2.data * x2w2.grad\n",
    "x1.grad = w1.data * x1w1.grad\n",
    "w1.grad = x1.data * x1w1.grad"
   ]
  },
  {
   "cell_type": "code",
   "execution_count": 102,
   "id": "7ab010ba",
   "metadata": {},
   "outputs": [
    {
     "data": {
      "image/svg+xml": [
       "<?xml version=\"1.0\" encoding=\"UTF-8\" standalone=\"no\"?>\n",
       "<!DOCTYPE svg PUBLIC \"-//W3C//DTD SVG 1.1//EN\"\n",
       " \"http://www.w3.org/Graphics/SVG/1.1/DTD/svg11.dtd\">\n",
       "<!-- Generated by graphviz version 2.50.0 (0)\n",
       " -->\n",
       "<!-- Pages: 1 -->\n",
       "<svg width=\"1575pt\" height=\"210pt\"\n",
       " viewBox=\"0.00 0.00 1575.00 210.00\" xmlns=\"http://www.w3.org/2000/svg\" xmlns:xlink=\"http://www.w3.org/1999/xlink\">\n",
       "<g id=\"graph0\" class=\"graph\" transform=\"scale(1 1) rotate(0) translate(4 206)\">\n",
       "<polygon fill=\"white\" stroke=\"transparent\" points=\"-4,4 -4,-206 1571,-206 1571,4 -4,4\"/>\n",
       "<!-- 2353969685520 -->\n",
       "<g id=\"node1\" class=\"node\">\n",
       "<title>2353969685520</title>\n",
       "<polygon fill=\"none\" stroke=\"black\" points=\"328.5,-55.5 328.5,-91.5 543.5,-91.5 543.5,-55.5 328.5,-55.5\"/>\n",
       "<text text-anchor=\"middle\" x=\"355\" y=\"-69.8\" font-family=\"Times New Roman,serif\" font-size=\"14.00\">x2*w2</text>\n",
       "<polyline fill=\"none\" stroke=\"black\" points=\"381.5,-55.5 381.5,-91.5 \"/>\n",
       "<text text-anchor=\"middle\" x=\"421.5\" y=\"-69.8\" font-family=\"Times New Roman,serif\" font-size=\"14.00\">data 0.0000</text>\n",
       "<polyline fill=\"none\" stroke=\"black\" points=\"461.5,-55.5 461.5,-91.5 \"/>\n",
       "<text text-anchor=\"middle\" x=\"502.5\" y=\"-69.8\" font-family=\"Times New Roman,serif\" font-size=\"14.00\">grad 0.5000</text>\n",
       "</g>\n",
       "<!-- 2353969682768+ -->\n",
       "<g id=\"node9\" class=\"node\">\n",
       "<title>2353969682768+</title>\n",
       "<ellipse fill=\"none\" stroke=\"black\" cx=\"609\" cy=\"-100.5\" rx=\"27\" ry=\"18\"/>\n",
       "<text text-anchor=\"middle\" x=\"609\" y=\"-96.8\" font-family=\"Times New Roman,serif\" font-size=\"14.00\">+</text>\n",
       "</g>\n",
       "<!-- 2353969685520&#45;&gt;2353969682768+ -->\n",
       "<g id=\"edge8\" class=\"edge\">\n",
       "<title>2353969685520&#45;&gt;2353969682768+</title>\n",
       "<path fill=\"none\" stroke=\"black\" d=\"M543.84,-90.37C554.01,-91.98 563.76,-93.51 572.44,-94.89\"/>\n",
       "<polygon fill=\"black\" stroke=\"black\" points=\"572.05,-98.37 582.47,-96.47 573.14,-91.45 572.05,-98.37\"/>\n",
       "</g>\n",
       "<!-- 2353969685520* -->\n",
       "<g id=\"node2\" class=\"node\">\n",
       "<title>2353969685520*</title>\n",
       "<ellipse fill=\"none\" stroke=\"black\" cx=\"263\" cy=\"-73.5\" rx=\"27\" ry=\"18\"/>\n",
       "<text text-anchor=\"middle\" x=\"263\" y=\"-69.8\" font-family=\"Times New Roman,serif\" font-size=\"14.00\">*</text>\n",
       "</g>\n",
       "<!-- 2353969685520*&#45;&gt;2353969685520 -->\n",
       "<g id=\"edge1\" class=\"edge\">\n",
       "<title>2353969685520*&#45;&gt;2353969685520</title>\n",
       "<path fill=\"none\" stroke=\"black\" d=\"M290.34,-73.5C298.51,-73.5 308.08,-73.5 318.36,-73.5\"/>\n",
       "<polygon fill=\"black\" stroke=\"black\" points=\"318.39,-77 328.39,-73.5 318.39,-70 318.39,-77\"/>\n",
       "</g>\n",
       "<!-- 2353969680144 -->\n",
       "<g id=\"node3\" class=\"node\">\n",
       "<title>2353969680144</title>\n",
       "<polygon fill=\"none\" stroke=\"black\" points=\"2,-165.5 2,-201.5 198,-201.5 198,-165.5 2,-165.5\"/>\n",
       "<text text-anchor=\"middle\" x=\"17\" y=\"-179.8\" font-family=\"Times New Roman,serif\" font-size=\"14.00\">x1</text>\n",
       "<polyline fill=\"none\" stroke=\"black\" points=\"32,-165.5 32,-201.5 \"/>\n",
       "<text text-anchor=\"middle\" x=\"72\" y=\"-179.8\" font-family=\"Times New Roman,serif\" font-size=\"14.00\">data 2.0000</text>\n",
       "<polyline fill=\"none\" stroke=\"black\" points=\"112,-165.5 112,-201.5 \"/>\n",
       "<text text-anchor=\"middle\" x=\"155\" y=\"-179.8\" font-family=\"Times New Roman,serif\" font-size=\"14.00\">grad &#45;1.5000</text>\n",
       "</g>\n",
       "<!-- 2353969677200* -->\n",
       "<g id=\"node15\" class=\"node\">\n",
       "<title>2353969677200*</title>\n",
       "<ellipse fill=\"none\" stroke=\"black\" cx=\"263\" cy=\"-128.5\" rx=\"27\" ry=\"18\"/>\n",
       "<text text-anchor=\"middle\" x=\"263\" y=\"-124.8\" font-family=\"Times New Roman,serif\" font-size=\"14.00\">*</text>\n",
       "</g>\n",
       "<!-- 2353969680144&#45;&gt;2353969677200* -->\n",
       "<g id=\"edge11\" class=\"edge\">\n",
       "<title>2353969680144&#45;&gt;2353969677200*</title>\n",
       "<path fill=\"none\" stroke=\"black\" d=\"M172.53,-165.44C181.84,-162.67 191.2,-159.67 200,-156.5 210.53,-152.71 221.75,-147.9 231.72,-143.33\"/>\n",
       "<polygon fill=\"black\" stroke=\"black\" points=\"233.25,-146.48 240.82,-139.07 230.28,-140.14 233.25,-146.48\"/>\n",
       "</g>\n",
       "<!-- 2353931235216 -->\n",
       "<g id=\"node4\" class=\"node\">\n",
       "<title>2353931235216</title>\n",
       "<polygon fill=\"none\" stroke=\"black\" points=\"1071,-109.5 1071,-145.5 1256,-145.5 1256,-109.5 1071,-109.5\"/>\n",
       "<text text-anchor=\"middle\" x=\"1082.5\" y=\"-123.8\" font-family=\"Times New Roman,serif\" font-size=\"14.00\">n</text>\n",
       "<polyline fill=\"none\" stroke=\"black\" points=\"1094,-109.5 1094,-145.5 \"/>\n",
       "<text text-anchor=\"middle\" x=\"1134\" y=\"-123.8\" font-family=\"Times New Roman,serif\" font-size=\"14.00\">data 0.8814</text>\n",
       "<polyline fill=\"none\" stroke=\"black\" points=\"1174,-109.5 1174,-145.5 \"/>\n",
       "<text text-anchor=\"middle\" x=\"1215\" y=\"-123.8\" font-family=\"Times New Roman,serif\" font-size=\"14.00\">grad 0.5000</text>\n",
       "</g>\n",
       "<!-- 2353931239248tanh -->\n",
       "<g id=\"node7\" class=\"node\">\n",
       "<title>2353931239248tanh</title>\n",
       "<ellipse fill=\"none\" stroke=\"black\" cx=\"1319\" cy=\"-127.5\" rx=\"27\" ry=\"18\"/>\n",
       "<text text-anchor=\"middle\" x=\"1319\" y=\"-123.8\" font-family=\"Times New Roman,serif\" font-size=\"14.00\">tanh</text>\n",
       "</g>\n",
       "<!-- 2353931235216&#45;&gt;2353931239248tanh -->\n",
       "<g id=\"edge14\" class=\"edge\">\n",
       "<title>2353931235216&#45;&gt;2353931239248tanh</title>\n",
       "<path fill=\"none\" stroke=\"black\" d=\"M1256.01,-127.5C1265.01,-127.5 1273.74,-127.5 1281.66,-127.5\"/>\n",
       "<polygon fill=\"black\" stroke=\"black\" points=\"1281.91,-131 1291.91,-127.5 1281.91,-124 1281.91,-131\"/>\n",
       "</g>\n",
       "<!-- 2353931235216+ -->\n",
       "<g id=\"node5\" class=\"node\">\n",
       "<title>2353931235216+</title>\n",
       "<ellipse fill=\"none\" stroke=\"black\" cx=\"1008\" cy=\"-127.5\" rx=\"27\" ry=\"18\"/>\n",
       "<text text-anchor=\"middle\" x=\"1008\" y=\"-123.8\" font-family=\"Times New Roman,serif\" font-size=\"14.00\">+</text>\n",
       "</g>\n",
       "<!-- 2353931235216+&#45;&gt;2353931235216 -->\n",
       "<g id=\"edge2\" class=\"edge\">\n",
       "<title>2353931235216+&#45;&gt;2353931235216</title>\n",
       "<path fill=\"none\" stroke=\"black\" d=\"M1035.04,-127.5C1042.58,-127.5 1051.3,-127.5 1060.57,-127.5\"/>\n",
       "<polygon fill=\"black\" stroke=\"black\" points=\"1060.81,-131 1070.81,-127.5 1060.81,-124 1060.81,-131\"/>\n",
       "</g>\n",
       "<!-- 2353931239248 -->\n",
       "<g id=\"node6\" class=\"node\">\n",
       "<title>2353931239248</title>\n",
       "<polygon fill=\"none\" stroke=\"black\" points=\"1382,-109.5 1382,-145.5 1567,-145.5 1567,-109.5 1382,-109.5\"/>\n",
       "<text text-anchor=\"middle\" x=\"1393.5\" y=\"-123.8\" font-family=\"Times New Roman,serif\" font-size=\"14.00\">o</text>\n",
       "<polyline fill=\"none\" stroke=\"black\" points=\"1405,-109.5 1405,-145.5 \"/>\n",
       "<text text-anchor=\"middle\" x=\"1445\" y=\"-123.8\" font-family=\"Times New Roman,serif\" font-size=\"14.00\">data 0.7071</text>\n",
       "<polyline fill=\"none\" stroke=\"black\" points=\"1485,-109.5 1485,-145.5 \"/>\n",
       "<text text-anchor=\"middle\" x=\"1526\" y=\"-123.8\" font-family=\"Times New Roman,serif\" font-size=\"14.00\">grad 1.0000</text>\n",
       "</g>\n",
       "<!-- 2353931239248tanh&#45;&gt;2353931239248 -->\n",
       "<g id=\"edge3\" class=\"edge\">\n",
       "<title>2353931239248tanh&#45;&gt;2353931239248</title>\n",
       "<path fill=\"none\" stroke=\"black\" d=\"M1346.04,-127.5C1353.58,-127.5 1362.3,-127.5 1371.57,-127.5\"/>\n",
       "<polygon fill=\"black\" stroke=\"black\" points=\"1371.81,-131 1381.81,-127.5 1371.81,-124 1371.81,-131\"/>\n",
       "</g>\n",
       "<!-- 2353969682768 -->\n",
       "<g id=\"node8\" class=\"node\">\n",
       "<title>2353969682768</title>\n",
       "<polygon fill=\"none\" stroke=\"black\" points=\"672,-82.5 672,-118.5 945,-118.5 945,-82.5 672,-82.5\"/>\n",
       "<text text-anchor=\"middle\" x=\"725\" y=\"-96.8\" font-family=\"Times New Roman,serif\" font-size=\"14.00\">x1*w1 + x2*w2</text>\n",
       "<polyline fill=\"none\" stroke=\"black\" points=\"778,-82.5 778,-118.5 \"/>\n",
       "<text text-anchor=\"middle\" x=\"820.5\" y=\"-96.8\" font-family=\"Times New Roman,serif\" font-size=\"14.00\">data &#45;6.0000</text>\n",
       "<polyline fill=\"none\" stroke=\"black\" points=\"863,-82.5 863,-118.5 \"/>\n",
       "<text text-anchor=\"middle\" x=\"904\" y=\"-96.8\" font-family=\"Times New Roman,serif\" font-size=\"14.00\">grad 0.5000</text>\n",
       "</g>\n",
       "<!-- 2353969682768&#45;&gt;2353931235216+ -->\n",
       "<g id=\"edge6\" class=\"edge\">\n",
       "<title>2353969682768&#45;&gt;2353931235216+</title>\n",
       "<path fill=\"none\" stroke=\"black\" d=\"M941.24,-118.51C952.12,-120 962.4,-121.4 971.45,-122.64\"/>\n",
       "<polygon fill=\"black\" stroke=\"black\" points=\"971.11,-126.13 981.49,-124.01 972.05,-119.19 971.11,-126.13\"/>\n",
       "</g>\n",
       "<!-- 2353969682768+&#45;&gt;2353969682768 -->\n",
       "<g id=\"edge4\" class=\"edge\">\n",
       "<title>2353969682768+&#45;&gt;2353969682768</title>\n",
       "<path fill=\"none\" stroke=\"black\" d=\"M636.23,-100.5C643.7,-100.5 652.41,-100.5 661.87,-100.5\"/>\n",
       "<polygon fill=\"black\" stroke=\"black\" points=\"661.98,-104 671.98,-100.5 661.98,-97 661.98,-104\"/>\n",
       "</g>\n",
       "<!-- 2353969686864 -->\n",
       "<g id=\"node10\" class=\"node\">\n",
       "<title>2353969686864</title>\n",
       "<polygon fill=\"none\" stroke=\"black\" points=\"2.5,-55.5 2.5,-91.5 197.5,-91.5 197.5,-55.5 2.5,-55.5\"/>\n",
       "<text text-anchor=\"middle\" x=\"19\" y=\"-69.8\" font-family=\"Times New Roman,serif\" font-size=\"14.00\">w2</text>\n",
       "<polyline fill=\"none\" stroke=\"black\" points=\"35.5,-55.5 35.5,-91.5 \"/>\n",
       "<text text-anchor=\"middle\" x=\"75.5\" y=\"-69.8\" font-family=\"Times New Roman,serif\" font-size=\"14.00\">data 1.0000</text>\n",
       "<polyline fill=\"none\" stroke=\"black\" points=\"115.5,-55.5 115.5,-91.5 \"/>\n",
       "<text text-anchor=\"middle\" x=\"156.5\" y=\"-69.8\" font-family=\"Times New Roman,serif\" font-size=\"14.00\">grad 0.0000</text>\n",
       "</g>\n",
       "<!-- 2353969686864&#45;&gt;2353969685520* -->\n",
       "<g id=\"edge13\" class=\"edge\">\n",
       "<title>2353969686864&#45;&gt;2353969685520*</title>\n",
       "<path fill=\"none\" stroke=\"black\" d=\"M197.91,-73.5C207.65,-73.5 217.05,-73.5 225.52,-73.5\"/>\n",
       "<polygon fill=\"black\" stroke=\"black\" points=\"225.7,-77 235.7,-73.5 225.7,-70 225.7,-77\"/>\n",
       "</g>\n",
       "<!-- 2353969685904 -->\n",
       "<g id=\"node11\" class=\"node\">\n",
       "<title>2353969685904</title>\n",
       "<polygon fill=\"none\" stroke=\"black\" points=\"716,-137.5 716,-173.5 901,-173.5 901,-137.5 716,-137.5\"/>\n",
       "<text text-anchor=\"middle\" x=\"727.5\" y=\"-151.8\" font-family=\"Times New Roman,serif\" font-size=\"14.00\">b</text>\n",
       "<polyline fill=\"none\" stroke=\"black\" points=\"739,-137.5 739,-173.5 \"/>\n",
       "<text text-anchor=\"middle\" x=\"779\" y=\"-151.8\" font-family=\"Times New Roman,serif\" font-size=\"14.00\">data 6.8814</text>\n",
       "<polyline fill=\"none\" stroke=\"black\" points=\"819,-137.5 819,-173.5 \"/>\n",
       "<text text-anchor=\"middle\" x=\"860\" y=\"-151.8\" font-family=\"Times New Roman,serif\" font-size=\"14.00\">grad 0.5000</text>\n",
       "</g>\n",
       "<!-- 2353969685904&#45;&gt;2353931235216+ -->\n",
       "<g id=\"edge9\" class=\"edge\">\n",
       "<title>2353969685904&#45;&gt;2353931235216+</title>\n",
       "<path fill=\"none\" stroke=\"black\" d=\"M901.02,-142.52C926,-138.98 951.59,-135.36 971.37,-132.55\"/>\n",
       "<polygon fill=\"black\" stroke=\"black\" points=\"972.03,-135.99 981.43,-131.12 971.04,-129.06 972.03,-135.99\"/>\n",
       "</g>\n",
       "<!-- 2353969690960 -->\n",
       "<g id=\"node12\" class=\"node\">\n",
       "<title>2353969690960</title>\n",
       "<polygon fill=\"none\" stroke=\"black\" points=\"0,-110.5 0,-146.5 200,-146.5 200,-110.5 0,-110.5\"/>\n",
       "<text text-anchor=\"middle\" x=\"16.5\" y=\"-124.8\" font-family=\"Times New Roman,serif\" font-size=\"14.00\">w1</text>\n",
       "<polyline fill=\"none\" stroke=\"black\" points=\"33,-110.5 33,-146.5 \"/>\n",
       "<text text-anchor=\"middle\" x=\"75.5\" y=\"-124.8\" font-family=\"Times New Roman,serif\" font-size=\"14.00\">data &#45;3.0000</text>\n",
       "<polyline fill=\"none\" stroke=\"black\" points=\"118,-110.5 118,-146.5 \"/>\n",
       "<text text-anchor=\"middle\" x=\"159\" y=\"-124.8\" font-family=\"Times New Roman,serif\" font-size=\"14.00\">grad 1.0000</text>\n",
       "</g>\n",
       "<!-- 2353969690960&#45;&gt;2353969677200* -->\n",
       "<g id=\"edge10\" class=\"edge\">\n",
       "<title>2353969690960&#45;&gt;2353969677200*</title>\n",
       "<path fill=\"none\" stroke=\"black\" d=\"M200.21,-128.5C209.2,-128.5 217.86,-128.5 225.7,-128.5\"/>\n",
       "<polygon fill=\"black\" stroke=\"black\" points=\"225.85,-132 235.85,-128.5 225.85,-125 225.85,-132\"/>\n",
       "</g>\n",
       "<!-- 2353969682384 -->\n",
       "<g id=\"node13\" class=\"node\">\n",
       "<title>2353969682384</title>\n",
       "<polygon fill=\"none\" stroke=\"black\" points=\"4,-0.5 4,-36.5 196,-36.5 196,-0.5 4,-0.5\"/>\n",
       "<text text-anchor=\"middle\" x=\"19\" y=\"-14.8\" font-family=\"Times New Roman,serif\" font-size=\"14.00\">x2</text>\n",
       "<polyline fill=\"none\" stroke=\"black\" points=\"34,-0.5 34,-36.5 \"/>\n",
       "<text text-anchor=\"middle\" x=\"74\" y=\"-14.8\" font-family=\"Times New Roman,serif\" font-size=\"14.00\">data 0.0000</text>\n",
       "<polyline fill=\"none\" stroke=\"black\" points=\"114,-0.5 114,-36.5 \"/>\n",
       "<text text-anchor=\"middle\" x=\"155\" y=\"-14.8\" font-family=\"Times New Roman,serif\" font-size=\"14.00\">grad 0.5000</text>\n",
       "</g>\n",
       "<!-- 2353969682384&#45;&gt;2353969685520* -->\n",
       "<g id=\"edge12\" class=\"edge\">\n",
       "<title>2353969682384&#45;&gt;2353969685520*</title>\n",
       "<path fill=\"none\" stroke=\"black\" d=\"M169.28,-36.5C179.65,-39.61 190.16,-42.98 200,-46.5 210.28,-50.17 221.28,-54.74 231.11,-59.07\"/>\n",
       "<polygon fill=\"black\" stroke=\"black\" points=\"229.93,-62.37 240.48,-63.27 232.79,-55.99 229.93,-62.37\"/>\n",
       "</g>\n",
       "<!-- 2353969677200 -->\n",
       "<g id=\"node14\" class=\"node\">\n",
       "<title>2353969677200</title>\n",
       "<polygon fill=\"none\" stroke=\"black\" points=\"326,-110.5 326,-146.5 546,-146.5 546,-110.5 326,-110.5\"/>\n",
       "<text text-anchor=\"middle\" x=\"352.5\" y=\"-124.8\" font-family=\"Times New Roman,serif\" font-size=\"14.00\">x1*w1</text>\n",
       "<polyline fill=\"none\" stroke=\"black\" points=\"379,-110.5 379,-146.5 \"/>\n",
       "<text text-anchor=\"middle\" x=\"421.5\" y=\"-124.8\" font-family=\"Times New Roman,serif\" font-size=\"14.00\">data &#45;6.0000</text>\n",
       "<polyline fill=\"none\" stroke=\"black\" points=\"464,-110.5 464,-146.5 \"/>\n",
       "<text text-anchor=\"middle\" x=\"505\" y=\"-124.8\" font-family=\"Times New Roman,serif\" font-size=\"14.00\">grad 0.5000</text>\n",
       "</g>\n",
       "<!-- 2353969677200&#45;&gt;2353969682768+ -->\n",
       "<g id=\"edge7\" class=\"edge\">\n",
       "<title>2353969677200&#45;&gt;2353969682768+</title>\n",
       "<path fill=\"none\" stroke=\"black\" d=\"M546.27,-110.61C555.64,-109.07 564.6,-107.61 572.65,-106.29\"/>\n",
       "<polygon fill=\"black\" stroke=\"black\" points=\"573.35,-109.72 582.65,-104.65 572.22,-102.81 573.35,-109.72\"/>\n",
       "</g>\n",
       "<!-- 2353969677200*&#45;&gt;2353969677200 -->\n",
       "<g id=\"edge5\" class=\"edge\">\n",
       "<title>2353969677200*&#45;&gt;2353969677200</title>\n",
       "<path fill=\"none\" stroke=\"black\" d=\"M290.34,-128.5C297.77,-128.5 306.37,-128.5 315.6,-128.5\"/>\n",
       "<polygon fill=\"black\" stroke=\"black\" points=\"315.84,-132 325.84,-128.5 315.84,-125 315.84,-132\"/>\n",
       "</g>\n",
       "</g>\n",
       "</svg>\n"
      ],
      "text/plain": [
       "<graphviz.graphs.Digraph at 0x224113f4650>"
      ]
     },
     "execution_count": 102,
     "metadata": {},
     "output_type": "execute_result"
    }
   ],
   "source": [
    "draw_dot(o)"
   ]
  },
  {
   "cell_type": "code",
   "execution_count": 104,
   "id": "5edc939e",
   "metadata": {},
   "outputs": [],
   "source": [
    "#call .backward"
   ]
  },
  {
   "cell_type": "code",
   "execution_count": 110,
   "id": "a891dc27",
   "metadata": {},
   "outputs": [],
   "source": [
    "# inputs x1,x2\n",
    "x1 = Value(2.0, label='x1')\n",
    "x2 = Value(0.0, label='x2')\n",
    "# weights w1,w2\n",
    "w1 = Value(-3.0, label='w1')\n",
    "w2 = Value(1.0, label='w2')\n",
    "# bias of the neuron\n",
    "b = Value(6.8813735870195432, label='b')\n",
    "# x1*w1 + x2*w2 + b\n",
    "x1w1 = x1*w1; x1w1.label = 'x1*w1'\n",
    "x2w2 = x2*w2; x2w2.label = 'x2*w2'\n",
    "x1w1x2w2 = x1w1 + x2w2; x1w1x2w2.label = 'x1*w1 + x2*w2'\n",
    "n = x1w1x2w2 + b; n.label = 'n'\n",
    "o = n.tanh();o.label = 'o'"
   ]
  },
  {
   "cell_type": "code",
   "execution_count": 114,
   "id": "d6919ce8",
   "metadata": {},
   "outputs": [],
   "source": [
    "o.grad=1\n",
    "o._backward()\n"
   ]
  },
  {
   "cell_type": "code",
   "execution_count": null,
   "id": "f0954c92",
   "metadata": {},
   "outputs": [],
   "source": [
    "n._backward()\n"
   ]
  },
  {
   "cell_type": "code",
   "execution_count": 116,
   "id": "6bd51f59",
   "metadata": {},
   "outputs": [],
   "source": [
    "b._backward()"
   ]
  },
  {
   "cell_type": "code",
   "execution_count": 117,
   "id": "cd780ee9",
   "metadata": {},
   "outputs": [],
   "source": [
    "x1w1x2w2._backward()"
   ]
  },
  {
   "cell_type": "code",
   "execution_count": 119,
   "id": "4d9e10bd",
   "metadata": {},
   "outputs": [],
   "source": [
    "x1w1._backward()\n",
    "x2w2._backward()"
   ]
  },
  {
   "cell_type": "code",
   "execution_count": 124,
   "id": "ba99f0de",
   "metadata": {},
   "outputs": [
    {
     "data": {
      "image/svg+xml": [
       "<?xml version=\"1.0\" encoding=\"UTF-8\" standalone=\"no\"?>\n",
       "<!DOCTYPE svg PUBLIC \"-//W3C//DTD SVG 1.1//EN\"\n",
       " \"http://www.w3.org/Graphics/SVG/1.1/DTD/svg11.dtd\">\n",
       "<!-- Generated by graphviz version 2.50.0 (0)\n",
       " -->\n",
       "<!-- Pages: 1 -->\n",
       "<svg width=\"1575pt\" height=\"210pt\"\n",
       " viewBox=\"0.00 0.00 1575.00 210.00\" xmlns=\"http://www.w3.org/2000/svg\" xmlns:xlink=\"http://www.w3.org/1999/xlink\">\n",
       "<g id=\"graph0\" class=\"graph\" transform=\"scale(1 1) rotate(0) translate(4 206)\">\n",
       "<polygon fill=\"white\" stroke=\"transparent\" points=\"-4,4 -4,-206 1571,-206 1571,4 -4,4\"/>\n",
       "<!-- 2353973537808 -->\n",
       "<g id=\"node1\" class=\"node\">\n",
       "<title>2353973537808</title>\n",
       "<polygon fill=\"none\" stroke=\"black\" points=\"328.5,-55.5 328.5,-91.5 543.5,-91.5 543.5,-55.5 328.5,-55.5\"/>\n",
       "<text text-anchor=\"middle\" x=\"355\" y=\"-69.8\" font-family=\"Times New Roman,serif\" font-size=\"14.00\">x2*w2</text>\n",
       "<polyline fill=\"none\" stroke=\"black\" points=\"381.5,-55.5 381.5,-91.5 \"/>\n",
       "<text text-anchor=\"middle\" x=\"421.5\" y=\"-69.8\" font-family=\"Times New Roman,serif\" font-size=\"14.00\">data 0.0000</text>\n",
       "<polyline fill=\"none\" stroke=\"black\" points=\"461.5,-55.5 461.5,-91.5 \"/>\n",
       "<text text-anchor=\"middle\" x=\"502.5\" y=\"-69.8\" font-family=\"Times New Roman,serif\" font-size=\"14.00\">grad 0.5000</text>\n",
       "</g>\n",
       "<!-- 2353973542416+ -->\n",
       "<g id=\"node4\" class=\"node\">\n",
       "<title>2353973542416+</title>\n",
       "<ellipse fill=\"none\" stroke=\"black\" cx=\"609\" cy=\"-100.5\" rx=\"27\" ry=\"18\"/>\n",
       "<text text-anchor=\"middle\" x=\"609\" y=\"-96.8\" font-family=\"Times New Roman,serif\" font-size=\"14.00\">+</text>\n",
       "</g>\n",
       "<!-- 2353973537808&#45;&gt;2353973542416+ -->\n",
       "<g id=\"edge14\" class=\"edge\">\n",
       "<title>2353973537808&#45;&gt;2353973542416+</title>\n",
       "<path fill=\"none\" stroke=\"black\" d=\"M543.84,-90.37C554.01,-91.98 563.76,-93.51 572.44,-94.89\"/>\n",
       "<polygon fill=\"black\" stroke=\"black\" points=\"572.05,-98.37 582.47,-96.47 573.14,-91.45 572.05,-98.37\"/>\n",
       "</g>\n",
       "<!-- 2353973537808* -->\n",
       "<g id=\"node2\" class=\"node\">\n",
       "<title>2353973537808*</title>\n",
       "<ellipse fill=\"none\" stroke=\"black\" cx=\"263\" cy=\"-73.5\" rx=\"27\" ry=\"18\"/>\n",
       "<text text-anchor=\"middle\" x=\"263\" y=\"-69.8\" font-family=\"Times New Roman,serif\" font-size=\"14.00\">*</text>\n",
       "</g>\n",
       "<!-- 2353973537808*&#45;&gt;2353973537808 -->\n",
       "<g id=\"edge1\" class=\"edge\">\n",
       "<title>2353973537808*&#45;&gt;2353973537808</title>\n",
       "<path fill=\"none\" stroke=\"black\" d=\"M290.34,-73.5C298.51,-73.5 308.08,-73.5 318.36,-73.5\"/>\n",
       "<polygon fill=\"black\" stroke=\"black\" points=\"318.39,-77 328.39,-73.5 318.39,-70 318.39,-77\"/>\n",
       "</g>\n",
       "<!-- 2353973542416 -->\n",
       "<g id=\"node3\" class=\"node\">\n",
       "<title>2353973542416</title>\n",
       "<polygon fill=\"none\" stroke=\"black\" points=\"672,-82.5 672,-118.5 945,-118.5 945,-82.5 672,-82.5\"/>\n",
       "<text text-anchor=\"middle\" x=\"725\" y=\"-96.8\" font-family=\"Times New Roman,serif\" font-size=\"14.00\">x1*w1 + x2*w2</text>\n",
       "<polyline fill=\"none\" stroke=\"black\" points=\"778,-82.5 778,-118.5 \"/>\n",
       "<text text-anchor=\"middle\" x=\"820.5\" y=\"-96.8\" font-family=\"Times New Roman,serif\" font-size=\"14.00\">data &#45;6.0000</text>\n",
       "<polyline fill=\"none\" stroke=\"black\" points=\"863,-82.5 863,-118.5 \"/>\n",
       "<text text-anchor=\"middle\" x=\"904\" y=\"-96.8\" font-family=\"Times New Roman,serif\" font-size=\"14.00\">grad 0.5000</text>\n",
       "</g>\n",
       "<!-- 2353973541008+ -->\n",
       "<g id=\"node8\" class=\"node\">\n",
       "<title>2353973541008+</title>\n",
       "<ellipse fill=\"none\" stroke=\"black\" cx=\"1008\" cy=\"-127.5\" rx=\"27\" ry=\"18\"/>\n",
       "<text text-anchor=\"middle\" x=\"1008\" y=\"-123.8\" font-family=\"Times New Roman,serif\" font-size=\"14.00\">+</text>\n",
       "</g>\n",
       "<!-- 2353973542416&#45;&gt;2353973541008+ -->\n",
       "<g id=\"edge11\" class=\"edge\">\n",
       "<title>2353973542416&#45;&gt;2353973541008+</title>\n",
       "<path fill=\"none\" stroke=\"black\" d=\"M941.24,-118.51C952.12,-120 962.4,-121.4 971.45,-122.64\"/>\n",
       "<polygon fill=\"black\" stroke=\"black\" points=\"971.11,-126.13 981.49,-124.01 972.05,-119.19 971.11,-126.13\"/>\n",
       "</g>\n",
       "<!-- 2353973542416+&#45;&gt;2353973542416 -->\n",
       "<g id=\"edge2\" class=\"edge\">\n",
       "<title>2353973542416+&#45;&gt;2353973542416</title>\n",
       "<path fill=\"none\" stroke=\"black\" d=\"M636.23,-100.5C643.7,-100.5 652.41,-100.5 661.87,-100.5\"/>\n",
       "<polygon fill=\"black\" stroke=\"black\" points=\"661.98,-104 671.98,-100.5 661.98,-97 661.98,-104\"/>\n",
       "</g>\n",
       "<!-- 2353973538832 -->\n",
       "<g id=\"node5\" class=\"node\">\n",
       "<title>2353973538832</title>\n",
       "<polygon fill=\"none\" stroke=\"black\" points=\"4,-55.5 4,-91.5 196,-91.5 196,-55.5 4,-55.5\"/>\n",
       "<text text-anchor=\"middle\" x=\"19\" y=\"-69.8\" font-family=\"Times New Roman,serif\" font-size=\"14.00\">x2</text>\n",
       "<polyline fill=\"none\" stroke=\"black\" points=\"34,-55.5 34,-91.5 \"/>\n",
       "<text text-anchor=\"middle\" x=\"74\" y=\"-69.8\" font-family=\"Times New Roman,serif\" font-size=\"14.00\">data 0.0000</text>\n",
       "<polyline fill=\"none\" stroke=\"black\" points=\"114,-55.5 114,-91.5 \"/>\n",
       "<text text-anchor=\"middle\" x=\"155\" y=\"-69.8\" font-family=\"Times New Roman,serif\" font-size=\"14.00\">grad 0.5000</text>\n",
       "</g>\n",
       "<!-- 2353973538832&#45;&gt;2353973537808* -->\n",
       "<g id=\"edge12\" class=\"edge\">\n",
       "<title>2353973538832&#45;&gt;2353973537808*</title>\n",
       "<path fill=\"none\" stroke=\"black\" d=\"M196.05,-73.5C206.52,-73.5 216.65,-73.5 225.71,-73.5\"/>\n",
       "<polygon fill=\"black\" stroke=\"black\" points=\"225.79,-77 235.79,-73.5 225.79,-70 225.79,-77\"/>\n",
       "</g>\n",
       "<!-- 2353973531216 -->\n",
       "<g id=\"node6\" class=\"node\">\n",
       "<title>2353973531216</title>\n",
       "<polygon fill=\"none\" stroke=\"black\" points=\"0,-165.5 0,-201.5 200,-201.5 200,-165.5 0,-165.5\"/>\n",
       "<text text-anchor=\"middle\" x=\"16.5\" y=\"-179.8\" font-family=\"Times New Roman,serif\" font-size=\"14.00\">w1</text>\n",
       "<polyline fill=\"none\" stroke=\"black\" points=\"33,-165.5 33,-201.5 \"/>\n",
       "<text text-anchor=\"middle\" x=\"75.5\" y=\"-179.8\" font-family=\"Times New Roman,serif\" font-size=\"14.00\">data &#45;3.0000</text>\n",
       "<polyline fill=\"none\" stroke=\"black\" points=\"118,-165.5 118,-201.5 \"/>\n",
       "<text text-anchor=\"middle\" x=\"159\" y=\"-179.8\" font-family=\"Times New Roman,serif\" font-size=\"14.00\">grad 1.0000</text>\n",
       "</g>\n",
       "<!-- 2353973530064* -->\n",
       "<g id=\"node15\" class=\"node\">\n",
       "<title>2353973530064*</title>\n",
       "<ellipse fill=\"none\" stroke=\"black\" cx=\"263\" cy=\"-128.5\" rx=\"27\" ry=\"18\"/>\n",
       "<text text-anchor=\"middle\" x=\"263\" y=\"-124.8\" font-family=\"Times New Roman,serif\" font-size=\"14.00\">*</text>\n",
       "</g>\n",
       "<!-- 2353973531216&#45;&gt;2353973530064* -->\n",
       "<g id=\"edge6\" class=\"edge\">\n",
       "<title>2353973531216&#45;&gt;2353973530064*</title>\n",
       "<path fill=\"none\" stroke=\"black\" d=\"M172.53,-165.44C181.84,-162.67 191.2,-159.67 200,-156.5 210.53,-152.71 221.75,-147.9 231.72,-143.33\"/>\n",
       "<polygon fill=\"black\" stroke=\"black\" points=\"233.25,-146.48 240.82,-139.07 230.28,-140.14 233.25,-146.48\"/>\n",
       "</g>\n",
       "<!-- 2353973541008 -->\n",
       "<g id=\"node7\" class=\"node\">\n",
       "<title>2353973541008</title>\n",
       "<polygon fill=\"none\" stroke=\"black\" points=\"1071,-109.5 1071,-145.5 1256,-145.5 1256,-109.5 1071,-109.5\"/>\n",
       "<text text-anchor=\"middle\" x=\"1082.5\" y=\"-123.8\" font-family=\"Times New Roman,serif\" font-size=\"14.00\">n</text>\n",
       "<polyline fill=\"none\" stroke=\"black\" points=\"1094,-109.5 1094,-145.5 \"/>\n",
       "<text text-anchor=\"middle\" x=\"1134\" y=\"-123.8\" font-family=\"Times New Roman,serif\" font-size=\"14.00\">data 0.8814</text>\n",
       "<polyline fill=\"none\" stroke=\"black\" points=\"1174,-109.5 1174,-145.5 \"/>\n",
       "<text text-anchor=\"middle\" x=\"1215\" y=\"-123.8\" font-family=\"Times New Roman,serif\" font-size=\"14.00\">grad 0.5000</text>\n",
       "</g>\n",
       "<!-- 2353973538704tanh -->\n",
       "<g id=\"node13\" class=\"node\">\n",
       "<title>2353973538704tanh</title>\n",
       "<ellipse fill=\"none\" stroke=\"black\" cx=\"1319\" cy=\"-127.5\" rx=\"27\" ry=\"18\"/>\n",
       "<text text-anchor=\"middle\" x=\"1319\" y=\"-123.8\" font-family=\"Times New Roman,serif\" font-size=\"14.00\">tanh</text>\n",
       "</g>\n",
       "<!-- 2353973541008&#45;&gt;2353973538704tanh -->\n",
       "<g id=\"edge10\" class=\"edge\">\n",
       "<title>2353973541008&#45;&gt;2353973538704tanh</title>\n",
       "<path fill=\"none\" stroke=\"black\" d=\"M1256.01,-127.5C1265.01,-127.5 1273.74,-127.5 1281.66,-127.5\"/>\n",
       "<polygon fill=\"black\" stroke=\"black\" points=\"1281.91,-131 1291.91,-127.5 1281.91,-124 1281.91,-131\"/>\n",
       "</g>\n",
       "<!-- 2353973541008+&#45;&gt;2353973541008 -->\n",
       "<g id=\"edge3\" class=\"edge\">\n",
       "<title>2353973541008+&#45;&gt;2353973541008</title>\n",
       "<path fill=\"none\" stroke=\"black\" d=\"M1035.04,-127.5C1042.58,-127.5 1051.3,-127.5 1060.57,-127.5\"/>\n",
       "<polygon fill=\"black\" stroke=\"black\" points=\"1060.81,-131 1070.81,-127.5 1060.81,-124 1060.81,-131\"/>\n",
       "</g>\n",
       "<!-- 2353973538512 -->\n",
       "<g id=\"node9\" class=\"node\">\n",
       "<title>2353973538512</title>\n",
       "<polygon fill=\"none\" stroke=\"black\" points=\"2,-110.5 2,-146.5 198,-146.5 198,-110.5 2,-110.5\"/>\n",
       "<text text-anchor=\"middle\" x=\"17\" y=\"-124.8\" font-family=\"Times New Roman,serif\" font-size=\"14.00\">x1</text>\n",
       "<polyline fill=\"none\" stroke=\"black\" points=\"32,-110.5 32,-146.5 \"/>\n",
       "<text text-anchor=\"middle\" x=\"72\" y=\"-124.8\" font-family=\"Times New Roman,serif\" font-size=\"14.00\">data 2.0000</text>\n",
       "<polyline fill=\"none\" stroke=\"black\" points=\"112,-110.5 112,-146.5 \"/>\n",
       "<text text-anchor=\"middle\" x=\"155\" y=\"-124.8\" font-family=\"Times New Roman,serif\" font-size=\"14.00\">grad &#45;1.5000</text>\n",
       "</g>\n",
       "<!-- 2353973538512&#45;&gt;2353973530064* -->\n",
       "<g id=\"edge7\" class=\"edge\">\n",
       "<title>2353973538512&#45;&gt;2353973530064*</title>\n",
       "<path fill=\"none\" stroke=\"black\" d=\"M198.37,-128.5C208.05,-128.5 217.4,-128.5 225.8,-128.5\"/>\n",
       "<polygon fill=\"black\" stroke=\"black\" points=\"225.91,-132 235.91,-128.5 225.91,-125 225.91,-132\"/>\n",
       "</g>\n",
       "<!-- 2353973532432 -->\n",
       "<g id=\"node10\" class=\"node\">\n",
       "<title>2353973532432</title>\n",
       "<polygon fill=\"none\" stroke=\"black\" points=\"716,-137.5 716,-173.5 901,-173.5 901,-137.5 716,-137.5\"/>\n",
       "<text text-anchor=\"middle\" x=\"727.5\" y=\"-151.8\" font-family=\"Times New Roman,serif\" font-size=\"14.00\">b</text>\n",
       "<polyline fill=\"none\" stroke=\"black\" points=\"739,-137.5 739,-173.5 \"/>\n",
       "<text text-anchor=\"middle\" x=\"779\" y=\"-151.8\" font-family=\"Times New Roman,serif\" font-size=\"14.00\">data 6.8814</text>\n",
       "<polyline fill=\"none\" stroke=\"black\" points=\"819,-137.5 819,-173.5 \"/>\n",
       "<text text-anchor=\"middle\" x=\"860\" y=\"-151.8\" font-family=\"Times New Roman,serif\" font-size=\"14.00\">grad 0.5000</text>\n",
       "</g>\n",
       "<!-- 2353973532432&#45;&gt;2353973541008+ -->\n",
       "<g id=\"edge9\" class=\"edge\">\n",
       "<title>2353973532432&#45;&gt;2353973541008+</title>\n",
       "<path fill=\"none\" stroke=\"black\" d=\"M901.02,-142.52C926,-138.98 951.59,-135.36 971.37,-132.55\"/>\n",
       "<polygon fill=\"black\" stroke=\"black\" points=\"972.03,-135.99 981.43,-131.12 971.04,-129.06 972.03,-135.99\"/>\n",
       "</g>\n",
       "<!-- 2353973540176 -->\n",
       "<g id=\"node11\" class=\"node\">\n",
       "<title>2353973540176</title>\n",
       "<polygon fill=\"none\" stroke=\"black\" points=\"2.5,-0.5 2.5,-36.5 197.5,-36.5 197.5,-0.5 2.5,-0.5\"/>\n",
       "<text text-anchor=\"middle\" x=\"19\" y=\"-14.8\" font-family=\"Times New Roman,serif\" font-size=\"14.00\">w2</text>\n",
       "<polyline fill=\"none\" stroke=\"black\" points=\"35.5,-0.5 35.5,-36.5 \"/>\n",
       "<text text-anchor=\"middle\" x=\"75.5\" y=\"-14.8\" font-family=\"Times New Roman,serif\" font-size=\"14.00\">data 1.0000</text>\n",
       "<polyline fill=\"none\" stroke=\"black\" points=\"115.5,-0.5 115.5,-36.5 \"/>\n",
       "<text text-anchor=\"middle\" x=\"156.5\" y=\"-14.8\" font-family=\"Times New Roman,serif\" font-size=\"14.00\">grad 0.0000</text>\n",
       "</g>\n",
       "<!-- 2353973540176&#45;&gt;2353973537808* -->\n",
       "<g id=\"edge13\" class=\"edge\">\n",
       "<title>2353973540176&#45;&gt;2353973537808*</title>\n",
       "<path fill=\"none\" stroke=\"black\" d=\"M169.28,-36.5C179.65,-39.61 190.16,-42.98 200,-46.5 210.28,-50.17 221.28,-54.74 231.11,-59.07\"/>\n",
       "<polygon fill=\"black\" stroke=\"black\" points=\"229.93,-62.37 240.48,-63.27 232.79,-55.99 229.93,-62.37\"/>\n",
       "</g>\n",
       "<!-- 2353973538704 -->\n",
       "<g id=\"node12\" class=\"node\">\n",
       "<title>2353973538704</title>\n",
       "<polygon fill=\"none\" stroke=\"black\" points=\"1382,-109.5 1382,-145.5 1567,-145.5 1567,-109.5 1382,-109.5\"/>\n",
       "<text text-anchor=\"middle\" x=\"1393.5\" y=\"-123.8\" font-family=\"Times New Roman,serif\" font-size=\"14.00\">o</text>\n",
       "<polyline fill=\"none\" stroke=\"black\" points=\"1405,-109.5 1405,-145.5 \"/>\n",
       "<text text-anchor=\"middle\" x=\"1445\" y=\"-123.8\" font-family=\"Times New Roman,serif\" font-size=\"14.00\">data 0.7071</text>\n",
       "<polyline fill=\"none\" stroke=\"black\" points=\"1485,-109.5 1485,-145.5 \"/>\n",
       "<text text-anchor=\"middle\" x=\"1526\" y=\"-123.8\" font-family=\"Times New Roman,serif\" font-size=\"14.00\">grad 1.0000</text>\n",
       "</g>\n",
       "<!-- 2353973538704tanh&#45;&gt;2353973538704 -->\n",
       "<g id=\"edge4\" class=\"edge\">\n",
       "<title>2353973538704tanh&#45;&gt;2353973538704</title>\n",
       "<path fill=\"none\" stroke=\"black\" d=\"M1346.04,-127.5C1353.58,-127.5 1362.3,-127.5 1371.57,-127.5\"/>\n",
       "<polygon fill=\"black\" stroke=\"black\" points=\"1371.81,-131 1381.81,-127.5 1371.81,-124 1371.81,-131\"/>\n",
       "</g>\n",
       "<!-- 2353973530064 -->\n",
       "<g id=\"node14\" class=\"node\">\n",
       "<title>2353973530064</title>\n",
       "<polygon fill=\"none\" stroke=\"black\" points=\"326,-110.5 326,-146.5 546,-146.5 546,-110.5 326,-110.5\"/>\n",
       "<text text-anchor=\"middle\" x=\"352.5\" y=\"-124.8\" font-family=\"Times New Roman,serif\" font-size=\"14.00\">x1*w1</text>\n",
       "<polyline fill=\"none\" stroke=\"black\" points=\"379,-110.5 379,-146.5 \"/>\n",
       "<text text-anchor=\"middle\" x=\"421.5\" y=\"-124.8\" font-family=\"Times New Roman,serif\" font-size=\"14.00\">data &#45;6.0000</text>\n",
       "<polyline fill=\"none\" stroke=\"black\" points=\"464,-110.5 464,-146.5 \"/>\n",
       "<text text-anchor=\"middle\" x=\"505\" y=\"-124.8\" font-family=\"Times New Roman,serif\" font-size=\"14.00\">grad 0.5000</text>\n",
       "</g>\n",
       "<!-- 2353973530064&#45;&gt;2353973542416+ -->\n",
       "<g id=\"edge8\" class=\"edge\">\n",
       "<title>2353973530064&#45;&gt;2353973542416+</title>\n",
       "<path fill=\"none\" stroke=\"black\" d=\"M546.27,-110.61C555.64,-109.07 564.6,-107.61 572.65,-106.29\"/>\n",
       "<polygon fill=\"black\" stroke=\"black\" points=\"573.35,-109.72 582.65,-104.65 572.22,-102.81 573.35,-109.72\"/>\n",
       "</g>\n",
       "<!-- 2353973530064*&#45;&gt;2353973530064 -->\n",
       "<g id=\"edge5\" class=\"edge\">\n",
       "<title>2353973530064*&#45;&gt;2353973530064</title>\n",
       "<path fill=\"none\" stroke=\"black\" d=\"M290.34,-128.5C297.77,-128.5 306.37,-128.5 315.6,-128.5\"/>\n",
       "<polygon fill=\"black\" stroke=\"black\" points=\"315.84,-132 325.84,-128.5 315.84,-125 315.84,-132\"/>\n",
       "</g>\n",
       "</g>\n",
       "</svg>\n"
      ],
      "text/plain": [
       "<graphviz.graphs.Digraph at 0x22413bdba90>"
      ]
     },
     "execution_count": 124,
     "metadata": {},
     "output_type": "execute_result"
    }
   ],
   "source": [
    "draw_dot(o)"
   ]
  },
  {
   "cell_type": "code",
   "execution_count": null,
   "id": "806721f1",
   "metadata": {},
   "outputs": [],
   "source": []
  }
 ],
 "metadata": {
  "kernelspec": {
   "display_name": "Python 3 (ipykernel)",
   "language": "python",
   "name": "python3"
  },
  "language_info": {
   "codemirror_mode": {
    "name": "ipython",
    "version": 3
   },
   "file_extension": ".py",
   "mimetype": "text/x-python",
   "name": "python",
   "nbconvert_exporter": "python",
   "pygments_lexer": "ipython3",
   "version": "3.11.5"
  }
 },
 "nbformat": 4,
 "nbformat_minor": 5
}
