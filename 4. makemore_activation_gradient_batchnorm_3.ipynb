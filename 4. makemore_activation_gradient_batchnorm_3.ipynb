{
 "cells": [
  {
   "cell_type": "code",
   "execution_count": 3,
   "id": "babcedb7",
   "metadata": {},
   "outputs": [],
   "source": [
    "import torch\n",
    "import torch.nn.functional as F\n",
    "import matplotlib.pyplot as plt"
   ]
  },
  {
   "cell_type": "code",
   "execution_count": 4,
   "id": "bcd86f14",
   "metadata": {},
   "outputs": [],
   "source": [
    "words=open('names.txt','r').read().splitlines()"
   ]
  },
  {
   "cell_type": "code",
   "execution_count": 5,
   "id": "28e0211d",
   "metadata": {},
   "outputs": [
    {
     "name": "stdout",
     "output_type": "stream",
     "text": [
      "{1: 'a', 2: 'b', 3: 'c', 4: 'd', 5: 'e', 6: 'f', 7: 'g', 8: 'h', 9: 'i', 10: 'j', 11: 'k', 12: 'l', 13: 'm', 14: 'n', 15: 'o', 16: 'p', 17: 'q', 18: 'r', 19: 's', 20: 't', 21: 'u', 22: 'v', 23: 'w', 24: 'x', 25: 'y', 26: 'z', 0: '.'}\n"
     ]
    }
   ],
   "source": [
    "#build voabulary of character and mapping to/from integrers\n",
    "chars=sorted(list(set(''.join(words))))\n",
    "stoi={s:i+1 for i,s in enumerate(chars)}\n",
    "stoi['.']=0\n",
    "itos={i:s for s,i in stoi.items()}\n",
    "print(itos)"
   ]
  },
  {
   "cell_type": "code",
   "execution_count": 6,
   "id": "529a6925",
   "metadata": {},
   "outputs": [
    {
     "name": "stdout",
     "output_type": "stream",
     "text": [
      "27\n"
     ]
    }
   ],
   "source": [
    "#vocab_size\n",
    "vocab_size = len(itos)\n",
    "print(vocab_size)"
   ]
  },
  {
   "cell_type": "code",
   "execution_count": null,
   "id": "f0243bee",
   "metadata": {},
   "outputs": [],
   "source": []
  },
  {
   "cell_type": "code",
   "execution_count": 7,
   "id": "e6c13c46",
   "metadata": {},
   "outputs": [
    {
     "name": "stdout",
     "output_type": "stream",
     "text": [
      "torch.Size([182625, 3]) torch.Size([182625])\n",
      "torch.Size([22655, 3]) torch.Size([22655])\n",
      "torch.Size([22866, 3]) torch.Size([22866])\n"
     ]
    }
   ],
   "source": [
    "block_size=3\n",
    "#build the datset\n",
    "\n",
    "def build_dataset(words):\n",
    "     #context lenght: how many inputs/characters we take to predict next char\n",
    "    X,Y=[],[] #X are the inputs to NN, Y is the label for each input inside X\n",
    "\n",
    "    for w in words: #gives the name/word ,first 5 so in loop it is emma\n",
    "#         print(w)\n",
    "        context=block_size*[0]   #1st loop : [0,0,0]\n",
    "        for ch in w + '.':       #adds . to the name and gives the  letter here e\n",
    "            ix=stoi[ch]          #gives corresponding int value of e and stores in ix\n",
    "            X.append(context)    #adds [0,0,0] to X,list inside list\n",
    "            Y.append(ix)         #add ix to Y, here for e\n",
    "#             print(''.join(itos[i] for i in context),'--->',itos[ix])\n",
    "            context=context[1:]+ [ix] #crop and append: before starting for m (next letter in emma), removes first 0 from context and adds the value of e as third elemnt in context \n",
    "\n",
    "    X=torch.tensor(X)\n",
    "    Y=torch.tensor(Y)\n",
    "    print(X.shape,Y.shape)\n",
    "    return X,Y\n",
    "\n",
    "\n",
    "import random\n",
    "random.seed(42)\n",
    "random.shuffle(words)\n",
    "n1=int(0.8*len(words))\n",
    "n2=int(0.9*len(words))\n",
    "\n",
    "Xtr,Ytr=build_dataset(words[:n1])\n",
    "Xdev, Ydev=build_dataset(words[n1:n2])\n",
    "Xte,Yte=build_dataset(words[n2:])"
   ]
  },
  {
   "cell_type": "code",
   "execution_count": 8,
   "id": "0e04ad93",
   "metadata": {},
   "outputs": [
    {
     "name": "stdout",
     "output_type": "stream",
     "text": [
      "11897\n"
     ]
    }
   ],
   "source": [
    "n_embd=10\n",
    "n_hidden=200\n",
    "\n",
    "\n",
    "g=torch.Generator().manual_seed(2147483647) #reproducible\n",
    "C=torch.randn((vocab_size,n_embd), generator=g)\n",
    "W1=torch.randn((n_embd * block_size,n_hidden), generator=g)\n",
    "b1=torch.randn(n_hidden, generator=g)\n",
    "W2=torch.randn((n_hidden,vocab_size), generator=g)\n",
    "b2=torch.randn(27, generator=g)\n",
    "parameters=[C,W1,b1,W2,b2]\n",
    "\n",
    "print(sum(p.nelement() for p in parameters))\n",
    "\n",
    "for p in parameters:\n",
    "    p.requires_grad=True"
   ]
  },
  {
   "cell_type": "code",
   "execution_count": 9,
   "id": "2bc6729e",
   "metadata": {},
   "outputs": [
    {
     "name": "stdout",
     "output_type": "stream",
     "text": [
      "      0/ 200000: 27.8817\n",
      "  10000/ 200000: 4.0974\n",
      "  20000/ 200000: 2.9530\n",
      "  30000/ 200000: 2.9583\n",
      "  40000/ 200000: 2.3027\n",
      "  50000/ 200000: 2.7252\n",
      "  60000/ 200000: 2.4195\n",
      "  70000/ 200000: 2.1045\n",
      "  80000/ 200000: 2.2040\n",
      "  90000/ 200000: 2.4836\n",
      " 100000/ 200000: 2.0478\n",
      " 110000/ 200000: 2.3888\n",
      " 120000/ 200000: 2.0578\n",
      " 130000/ 200000: 2.5195\n",
      " 140000/ 200000: 2.4495\n",
      " 150000/ 200000: 2.3045\n",
      " 160000/ 200000: 2.0819\n",
      " 170000/ 200000: 1.8631\n",
      " 180000/ 200000: 2.2761\n",
      " 190000/ 200000: 2.0705\n"
     ]
    }
   ],
   "source": [
    "\n",
    "#finalising LR\n",
    "#reset parameters\n",
    "\n",
    "lri=[]\n",
    "lossi=[]\n",
    "stepi=[]\n",
    "batch_size=32\n",
    "max_steps=200000\n",
    "\n",
    "for i in range(max_steps): \n",
    "    \n",
    "    #minibatch construct\n",
    "    ix=torch.randint(0,Xtr.shape[0],(batch_size,),generator=g)\n",
    "    Xb, Yb = Xtr[ix], Ytr[ix] # batch X,Y\n",
    "    \n",
    "    #forward pass\n",
    "    emb=C[Xb] #(32,3,2)\n",
    "    embcat = emb.view(emb.shape[0], -1) # concatenate the vectors\n",
    "    hpreact=embcat@ W1+b1\n",
    "#     h=torch.tanh(emb.view(-1,n_embd * block_size) @ W1 +b1) #32x100\n",
    "    h=torch.tanh(hpreact)\n",
    "    logits=h @ W2 +b2 #32x27\n",
    "    loss=F.cross_entropy(logits,Yb)\n",
    "    \n",
    "    #backward pass\n",
    "    for p in parameters:\n",
    "        p.grad=None            #set gradients to 0\n",
    "\n",
    "    loss.backward()\n",
    "\n",
    "    #upgarde \n",
    "#     lr=lrs[i]              # we start with very less lr and go go upto -1\n",
    "    lr=0.01\n",
    "    for p in parameters:\n",
    "        p.data+= -lr*p.grad \n",
    "        \n",
    "    #track stats\n",
    "    if i%10000==0:#print every once in a while\n",
    "        print(f'{i:7d}/{max_steps:7d}: {loss.item():.4f}')\n",
    "    lossi.append(loss.log10().item())\n",
    "\n",
    "        \n",
    "        \n",
    "# print(loss.item())\n",
    "# this is loss for this particular minibatch"
   ]
  },
  {
   "cell_type": "code",
   "execution_count": 12,
   "id": "af4bb96a",
   "metadata": {
    "scrolled": true
   },
   "outputs": [
    {
     "data": {
      "text/plain": [
       "[<matplotlib.lines.Line2D at 0x24f2b80a050>]"
      ]
     },
     "execution_count": 12,
     "metadata": {},
     "output_type": "execute_result"
    },
    {
     "data": {
      "image/png": "[encoded data removed]",
      "text/plain": [
       "<Figure size 640x480 with 1 Axes>"
      ]
     },
     "metadata": {},
     "output_type": "display_data"
    }
   ],
   "source": [
    "plt.plot(lossi)"
   ]
  },
  {
   "cell_type": "code",
   "execution_count": 13,
   "id": "3b1c0410",
   "metadata": {},
   "outputs": [
    {
     "name": "stdout",
     "output_type": "stream",
     "text": [
      "train 2.2713024616241455\n",
      "val 2.2880303859710693\n"
     ]
    }
   ],
   "source": [
    "#eval loss for All of Xtr and Ytr\n",
    "@torch.no_grad()#this decorator disables gradient tracking\n",
    "\n",
    "def split_loss(split):\n",
    "    x,y={\n",
    "        'train':(Xtr,Ytr),\n",
    "        'val':(Xdev,Ydev),\n",
    "        'test':(Xte,Yte)\n",
    "    }[split]\n",
    "\n",
    "\n",
    "    emb=C[x] #(N,block_size,e_embd)\n",
    "    embcat=emb.view(emb.shape[0],-1) #concat into (N,block_sixe*n_embd)\n",
    "    h=torch.tanh(embcat @ W1 +b1) #(N,n_hidden)\n",
    "    logits=h @ W2 +b2 #(N,vocab_size)\n",
    "    loss=F.cross_entropy(logits,y)\n",
    "    print(split,loss.item())\n",
    "    \n",
    "split_loss('train')\n",
    "split_loss('val')"
   ]
  },
  {
   "cell_type": "code",
   "execution_count": 14,
   "id": "20b383e6",
   "metadata": {},
   "outputs": [
    {
     "name": "stdout",
     "output_type": "stream",
     "text": [
      "mora.\n",
      "kayah.\n",
      "see.\n",
      "mel.\n",
      "ryah.\n",
      "remers.\n",
      "ekdraem.\n",
      "aderedielin.\n",
      "shy.\n",
      "jen.\n",
      "edellesoraan.\n",
      "kayzioh.\n",
      "karin.\n",
      "shobergihimier.\n",
      "kende.\n",
      "jeyqien.\n",
      "pucayu.\n",
      "zen.\n",
      "dariylynn.\n",
      "eha.\n"
     ]
    }
   ],
   "source": [
    "\n",
    "# sample from the model\n",
    "g = torch.Generator().manual_seed(2147483647 + 10)\n",
    "block_size=3\n",
    "\n",
    "for _ in range(20):\n",
    "    \n",
    "    out = []\n",
    "    context = [0] * block_size # initialize with all ...\n",
    "    while True:\n",
    "        emb = C[torch.tensor([context])] # (1,block_size,d)\n",
    "        h = torch.tanh(emb.view(1, -1) @ W1 + b1)\n",
    "        logits = h @ W2 + b2\n",
    "        probs = F.softmax(logits, dim=1)\n",
    "        #sample from distribution\n",
    "        ix = torch.multinomial(probs, num_samples=1, generator=g).item()\n",
    "        #shift the context window and track the sample\n",
    "        context = context[1:] + [ix]\n",
    "        out.append(ix)\n",
    "        #if we sample the special '.' token, break\n",
    "        if ix == 0:\n",
    "            break\n",
    "    \n",
    "    print(''.join(itos[i] for i in out))"
   ]
  },
  {
   "cell_type": "markdown",
   "id": "3ff27256",
   "metadata": {},
   "source": [
    "# Expected loss at initialization"
   ]
  },
  {
   "cell_type": "code",
   "execution_count": 15,
   "id": "b68b0b07",
   "metadata": {},
   "outputs": [
    {
     "data": {
      "text/plain": [
       "tensor(3.2958)"
      ]
     },
     "execution_count": 15,
     "metadata": {},
     "output_type": "execute_result"
    }
   ],
   "source": [
    "-torch.tensor(1/27).log()"
   ]
  },
  {
   "cell_type": "code",
   "execution_count": 16,
   "id": "05a43f3b",
   "metadata": {},
   "outputs": [
    {
     "data": {
      "text/plain": [
       "(tensor(1.3863), tensor([0.2500, 0.2500, 0.2500, 0.2500]))"
      ]
     },
     "execution_count": 16,
     "metadata": {},
     "output_type": "execute_result"
    }
   ],
   "source": [
    "#4 dim exaple of the issue\n",
    "logits1=torch.tensor([0.0,0,0,0])\n",
    "probs1=torch.softmax(logits1,dim=0)\n",
    "loss1=-probs1[2].log() #initial loss for 3rd 0 here\n",
    "loss1,probs1"
   ]
  },
  {
   "cell_type": "code",
   "execution_count": 17,
   "id": "16c6b3c4",
   "metadata": {},
   "outputs": [
    {
     "data": {
      "text/plain": [
       "(tensor(0.0200), tensor([0.0066, 0.0066, 0.9802, 0.0066]))"
      ]
     },
     "execution_count": 17,
     "metadata": {},
     "output_type": "execute_result"
    }
   ],
   "source": [
    "#4 dim exaple of the issue\n",
    "logits1=torch.tensor([0.0,0,5,0]) # for 1 high no here, we will have low loss as assigning correct prob at initialising for the higher no but for others it will be high\n",
    "probs1=torch.softmax(logits1,dim=0)\n",
    "loss1=-probs1[2].log() #initial loss for 3rd 0 here\n",
    "loss1,probs1\n",
    "#try with random nos"
   ]
  },
  {
   "cell_type": "code",
   "execution_count": 19,
   "id": "9b11e68c",
   "metadata": {},
   "outputs": [
    {
     "data": {
      "text/plain": [
       "tensor([7.2866, 4.7324, 4.8451, 4.3038, 4.5225, 3.4702, 0.5164, 2.9453, 6.9032,\n",
       "        5.8315, 2.9661, 3.0550, 5.2941, 5.1480, 7.2885, 1.2522, 0.9668, 0.0346,\n",
       "        6.3455, 4.1244, 4.2673, 3.2525, 4.2369, 4.3369, 1.6655, 5.6446, 1.8723],\n",
       "       grad_fn=<SelectBackward0>)"
      ]
     },
     "execution_count": 19,
     "metadata": {},
     "output_type": "execute_result"
    }
   ],
   "source": [
    "logits[0]"
   ]
  },
  {
   "cell_type": "code",
   "execution_count": 23,
   "id": "4b10abe4",
   "metadata": {},
   "outputs": [
    {
     "name": "stdout",
     "output_type": "stream",
     "text": [
      "11897\n",
      "      0/ 200000: 3.3221\n",
      "  10000/ 200000: 2.2241\n",
      "  20000/ 200000: 2.4473\n",
      "  30000/ 200000: 2.6137\n",
      "  40000/ 200000: 1.9820\n",
      "  50000/ 200000: 2.5756\n",
      "  60000/ 200000: 2.4735\n",
      "  70000/ 200000: 2.2249\n",
      "  80000/ 200000: 2.2189\n",
      "  90000/ 200000: 2.1875\n",
      " 100000/ 200000: 2.0905\n",
      " 110000/ 200000: 2.3009\n",
      " 120000/ 200000: 1.9818\n",
      " 130000/ 200000: 2.5578\n",
      " 140000/ 200000: 2.3753\n",
      " 150000/ 200000: 2.2236\n",
      " 160000/ 200000: 1.9503\n",
      " 170000/ 200000: 1.7899\n",
      " 180000/ 200000: 2.0708\n",
      " 190000/ 200000: 2.0296\n"
     ]
    }
   ],
   "source": [
    "n_embd=10\n",
    "n_hidden=200\n",
    "\n",
    "\n",
    "g=torch.Generator().manual_seed(2147483647) #reproducible\n",
    "C=torch.randn((vocab_size,n_embd), generator=g)\n",
    "W1=torch.randn((n_embd * block_size,n_hidden), generator=g)\n",
    "b1=torch.randn(n_hidden, generator=g)\n",
    "W2=torch.randn((n_hidden,vocab_size), generator=g)*0.01\n",
    "b2=torch.randn(27, generator=g)*0\n",
    "parameters=[C,W1,b1,W2,b2]\n",
    "\n",
    "print(sum(p.nelement() for p in parameters))\n",
    "\n",
    "for p in parameters:\n",
    "    p.requires_grad=True\n",
    "#finalising LR\n",
    "#reset parameters\n",
    "\n",
    "lri=[]\n",
    "lossi=[]\n",
    "stepi=[]\n",
    "batch_size=32\n",
    "max_steps=200000\n",
    "\n",
    "for i in range(max_steps): \n",
    "    \n",
    "    #minibatch construct\n",
    "    ix=torch.randint(0,Xtr.shape[0],(batch_size,),generator=g)\n",
    "    Xb, Yb = Xtr[ix], Ytr[ix] # batch X,Y\n",
    "    \n",
    "    #forward pass\n",
    "    emb=C[Xb] #(32,3,2)\n",
    "    embcat = emb.view(emb.shape[0], -1) # concatenate the vectors\n",
    "    hpreact=embcat@ W1+b1\n",
    "#     h=torch.tanh(emb.view(-1,n_embd * block_size) @ W1 +b1) #32x100\n",
    "    h=torch.tanh(hpreact)\n",
    "    logits=h @ W2 +b2 #32x27\n",
    "    loss=F.cross_entropy(logits,Yb)\n",
    "    \n",
    "    #backward pass\n",
    "    for p in parameters:\n",
    "        p.grad=None            #set gradients to 0\n",
    "\n",
    "    loss.backward()\n",
    "\n",
    "    #upgarde \n",
    "#     lr=lrs[i]              # we start with very less lr and go go upto -1\n",
    "    lr=0.01\n",
    "    for p in parameters:\n",
    "        p.data+= -lr*p.grad \n",
    "        \n",
    "    #track stats\n",
    "    if i%10000==0:#print every once in a while\n",
    "        print(f'{i:7d}/{max_steps:7d}: {loss.item():.4f}')\n",
    "    lossi.append(loss.log10().item())\n",
    "    \n",
    "        \n",
    "# this is loss for this particular minibatch"
   ]
  },
  {
   "cell_type": "code",
   "execution_count": 26,
   "id": "b755c628-0bf6-4fd2-bd34-129038a697ca",
   "metadata": {},
   "outputs": [
    {
     "data": {
      "text/plain": [
       "[<matplotlib.lines.Line2D at 0x24f2a382710>]"
      ]
     },
     "execution_count": 26,
     "metadata": {},
     "output_type": "execute_result"
    },
    {
     "data": {
      "image/png": "[encoded data removed]",
      "text/plain": [
       "<Figure size 640x480 with 1 Axes>"
      ]
     },
     "metadata": {},
     "output_type": "display_data"
    }
   ],
   "source": [
    "plt.plot(lossi)"
   ]
  },
  {
   "cell_type": "code",
   "execution_count": 24,
   "id": "19ee00ce-1daf-44f2-9d94-3bd1b5e25615",
   "metadata": {},
   "outputs": [
    {
     "name": "stdout",
     "output_type": "stream",
     "text": [
      "train 2.1438074111938477\n",
      "val 2.178218364715576\n"
     ]
    }
   ],
   "source": [
    "#eval loss for All of Xtr and Ytr\n",
    "@torch.no_grad()#this decorator disables gradient tracking\n",
    "\n",
    "def split_loss(split):\n",
    "    x,y={\n",
    "        'train':(Xtr,Ytr),\n",
    "        'val':(Xdev,Ydev),\n",
    "        'test':(Xte,Yte)\n",
    "    }[split]\n",
    "\n",
    "\n",
    "    emb=C[x] #(N,block_size,e_embd)\n",
    "    embcat=emb.view(emb.shape[0],-1) #concat into (N,block_sixe*n_embd)\n",
    "    h=torch.tanh(embcat @ W1 +b1) #(N,n_hidden)\n",
    "    logits=h @ W2 +b2 #(N,vocab_size)\n",
    "    loss=F.cross_entropy(logits,y)\n",
    "    print(split,loss.item())\n",
    "    \n",
    "split_loss('train')\n",
    "split_loss('val')"
   ]
  },
  {
   "cell_type": "code",
   "execution_count": null,
   "id": "50f7a488-15d1-46e9-b236-d4a46dd29b3b",
   "metadata": {},
   "outputs": [],
   "source": []
  },
  {
   "cell_type": "code",
   "execution_count": 25,
   "id": "29112941-9e52-4c38-b3a7-b068a0d28585",
   "metadata": {},
   "outputs": [
    {
     "name": "stdout",
     "output_type": "stream",
     "text": [
      "mora.\n",
      "mayah.\n",
      "seel.\n",
      "ndheyla.\n",
      "renerstendraeg.\n",
      "adelyn.\n",
      "elin.\n",
      "shi.\n",
      "jen.\n",
      "eden.\n",
      "estanar.\n",
      "kayzion.\n",
      "kamin.\n",
      "shubergshimiel.\n",
      "kinde.\n",
      "jennexnterianu.\n",
      "zayven.\n",
      "kylynn.\n",
      "eli.\n",
      "kaysh.\n"
     ]
    }
   ],
   "source": [
    "#just to compare\n",
    "\n",
    "# sample from the model\n",
    "g = torch.Generator().manual_seed(2147483647 + 10)\n",
    "block_size=3\n",
    "\n",
    "for _ in range(20):\n",
    "    \n",
    "    out = []\n",
    "    context = [0] * block_size # initialize with all ...\n",
    "    while True:\n",
    "        emb = C[torch.tensor([context])] # (1,block_size,d)\n",
    "        h = torch.tanh(emb.view(1, -1) @ W1 + b1)\n",
    "        logits = h @ W2 + b2\n",
    "        probs = F.softmax(logits, dim=1)\n",
    "        #sample from distribution\n",
    "        ix = torch.multinomial(probs, num_samples=1, generator=g).item()\n",
    "        #shift the context window and track the sample\n",
    "        context = context[1:] + [ix]\n",
    "        out.append(ix)\n",
    "        #if we sample the special '.' token, break\n",
    "        if ix == 0:\n",
    "            break\n",
    "    \n",
    "    print(''.join(itos[i] for i in out))"
   ]
  },
  {
   "cell_type": "code",
   "execution_count": 27,
   "id": "4ac267cb-bf97-4b0d-9831-4aa5788c2f4e",
   "metadata": {},
   "outputs": [],
   "source": [
    "# 2nd problem: h "
   ]
  },
  {
   "cell_type": "code",
   "execution_count": 28,
   "id": "a1a6ca20-0d21-4d31-8d82-cbe8ae4b6e62",
   "metadata": {},
   "outputs": [
    {
     "data": {
      "text/plain": [
       "tensor([[ 0.9998, -0.7777, -0.7847,  0.9911, -0.9999, -0.9993, -1.0000, -0.9988,\n",
       "         -0.9946,  0.2324,  0.9999, -0.9922,  0.9822, -0.9784, -0.2283, -0.6373,\n",
       "          0.9901,  0.9527, -1.0000, -1.0000,  1.0000,  1.0000, -0.0599, -0.9468,\n",
       "          0.9999,  0.9996,  1.0000, -0.9999, -0.4166,  0.8876,  0.6281,  0.9894,\n",
       "         -0.9925, -0.9999,  0.5476, -1.0000,  0.9998,  0.9615,  0.9994,  0.9915,\n",
       "          0.8787, -0.9856,  1.0000,  0.9995, -0.9715, -0.9197,  1.0000, -0.9079,\n",
       "         -0.8849,  0.3096, -0.9913, -1.0000,  0.9951,  0.0433, -0.9994,  0.8041,\n",
       "         -0.7737, -0.9997, -0.9952, -1.0000, -0.9458, -0.9998, -0.5825,  1.0000,\n",
       "          0.8730, -1.0000,  0.9942, -0.9999, -0.9947,  1.0000, -0.0679, -1.0000,\n",
       "          0.9974,  0.9156,  0.3876, -0.9993, -0.9917, -1.0000, -1.0000, -1.0000,\n",
       "         -1.0000,  0.9955,  0.9722, -0.8892,  0.9991,  0.9849,  0.9997,  0.9997,\n",
       "         -1.0000, -1.0000, -1.0000,  0.9986, -0.9857, -0.9998, -1.0000, -0.9997,\n",
       "         -0.9999,  0.9926, -0.9471,  0.9552,  1.0000,  1.0000,  0.9747,  0.5956,\n",
       "          0.6487, -0.3549, -0.9993, -0.9567, -0.2849, -0.8844,  0.2269,  0.5270,\n",
       "          0.9999, -0.0066,  1.0000, -1.0000,  1.0000,  0.9536, -1.0000,  1.0000,\n",
       "          0.9902,  0.9573, -1.0000,  1.0000,  0.2076, -0.8817, -1.0000, -0.9997,\n",
       "         -0.6953,  0.9972, -1.0000, -1.0000,  1.0000,  0.9990,  1.0000,  1.0000,\n",
       "          1.0000,  0.9996,  0.9744, -1.0000, -0.9501,  0.9926,  1.0000, -1.0000,\n",
       "         -0.6936,  1.0000,  1.0000,  0.9500, -1.0000, -0.9992, -1.0000,  0.9323,\n",
       "         -1.0000,  0.4851,  0.9945, -0.9859, -0.2126, -0.7877, -0.9984,  0.8274,\n",
       "         -0.9997, -1.0000, -0.9547,  0.9999,  1.0000,  0.9726,  0.9994,  0.9970,\n",
       "          1.0000,  0.9953, -0.3363, -0.1946,  0.8164, -0.9364, -1.0000, -1.0000,\n",
       "          1.0000,  0.9998,  0.3885,  0.3479,  1.0000,  0.9988, -0.1919, -0.3078,\n",
       "          0.7578,  0.9963,  0.5758,  0.9378,  0.4981,  0.9262, -0.9998, -0.9988,\n",
       "         -0.8962, -0.9901,  1.0000, -0.9999,  0.9417, -0.9997, -1.0000, -1.0000]],\n",
       "       grad_fn=<TanhBackward0>)"
      ]
     },
     "execution_count": 28,
     "metadata": {},
     "output_type": "execute_result"
    }
   ],
   "source": [
    "h"
   ]
  },
  {
   "cell_type": "code",
   "execution_count": 30,
   "id": "01ab0948-32db-4ee9-8f8d-02c4a53945a0",
   "metadata": {},
   "outputs": [
    {
     "data": {
      "image/png": "[encoded data removed]",
      "text/plain": [
       "<Figure size 640x480 with 1 Axes>"
      ]
     },
     "metadata": {},
     "output_type": "display_data"
    }
   ],
   "source": [
    "plt.hist(h.view(-1).tolist(),50);"
   ]
  },
  {
   "cell_type": "code",
   "execution_count": 31,
   "id": "62b841a8-a4a0-4947-8dea-9bd5e39f86c9",
   "metadata": {},
   "outputs": [
    {
     "data": {
      "image/png": "[encoded data removed]",
      "text/plain": [
       "<Figure size 640x480 with 1 Axes>"
      ]
     },
     "metadata": {},
     "output_type": "display_data"
    }
   ],
   "source": [
    "plt.hist(hpreact.view(-1).tolist(),50);"
   ]
  },
  {
   "cell_type": "code",
   "execution_count": 49,
   "id": "10c93105-97a7-406e-af39-3c99f1a286e0",
   "metadata": {},
   "outputs": [
    {
     "name": "stdout",
     "output_type": "stream",
     "text": [
      "11897\n",
      "      0/ 200000: 3.3221\n"
     ]
    }
   ],
   "source": [
    "n_embd=10\n",
    "n_hidden=200\n",
    "\n",
    "\n",
    "g=torch.Generator().manual_seed(2147483647) #reproducible\n",
    "C=torch.randn((vocab_size,n_embd), generator=g)\n",
    "W1=torch.randn((n_embd * block_size,n_hidden), generator=g)\n",
    "b1=torch.randn(n_hidden, generator=g)\n",
    "W2=torch.randn((n_hidden,vocab_size), generator=g)*0.01\n",
    "b2=torch.randn(27, generator=g)*0\n",
    "parameters=[C,W1,b1,W2,b2]\n",
    "\n",
    "print(sum(p.nelement() for p in parameters))\n",
    "\n",
    "for p in parameters:\n",
    "    p.requires_grad=True\n",
    "#finalising LR\n",
    "#reset parameters\n",
    "\n",
    "lri=[]\n",
    "lossi=[]\n",
    "stepi=[]\n",
    "batch_size=32\n",
    "max_steps=200000\n",
    "\n",
    "for i in range(max_steps): \n",
    "    \n",
    "    #minibatch construct\n",
    "    ix=torch.randint(0,Xtr.shape[0],(batch_size,),generator=g)\n",
    "    Xb, Yb = Xtr[ix], Ytr[ix] # batch X,Y\n",
    "    \n",
    "    #forward pass\n",
    "    emb=C[Xb] #(32,3,2)\n",
    "    embcat = emb.view(emb.shape[0], -1) # concatenate the vectors\n",
    "    hpreact=embcat@ W1+b1\n",
    "#     h=torch.tanh(emb.view(-1,n_embd * block_size) @ W1 +b1) #32x100\n",
    "    h=torch.tanh(hpreact)\n",
    "    logits=h @ W2 +b2 #32x27\n",
    "    loss=F.cross_entropy(logits,Yb)\n",
    "    \n",
    "    #backward pass\n",
    "    for p in parameters:\n",
    "        p.grad=None            #set gradients to 0\n",
    "\n",
    "    loss.backward()\n",
    "\n",
    "    #upgarde \n",
    "#     lr=lrs[i]              # we start with very less lr and go go upto -1\n",
    "    lr=0.01\n",
    "    for p in parameters:\n",
    "        p.data+= -lr*p.grad \n",
    "        \n",
    "    #track stats\n",
    "    if i%10000==0:#print every once in a while\n",
    "        print(f'{i:7d}/{max_steps:7d}: {loss.item():.4f}')\n",
    "    lossi.append(loss.log10().item())\n",
    "    break\n",
    "    \n",
    "        \n",
    "# this is loss for this particular minibatch"
   ]
  },
  {
   "cell_type": "code",
   "execution_count": 50,
   "id": "262ad24a-fc2d-4117-82df-75ffeb04ab77",
   "metadata": {},
   "outputs": [
    {
     "data": {
      "image/png": "[encoded data removed]",
      "text/plain": [
       "<Figure size 2000x1000 with 1 Axes>"
      ]
     },
     "metadata": {},
     "output_type": "display_data"
    }
   ],
   "source": [
    "plt.figure(figsize=(20,10))\n",
    "plt.imshow(h.abs()>0.99,cmap='gray',interpolation='nearest');\n",
    "# 200 neuron, bullion tensor, white true, black false\n"
   ]
  },
  {
   "cell_type": "code",
   "execution_count": 54,
   "id": "da3b8b93-1f87-4a65-9190-51c115abec02",
   "metadata": {},
   "outputs": [
    {
     "name": "stdout",
     "output_type": "stream",
     "text": [
      "11897\n",
      "      0/ 200000: 3.3135\n"
     ]
    }
   ],
   "source": [
    "# Solution to vanishing gradient\n",
    "\n",
    "n_embd=10\n",
    "n_hidden=200\n",
    "\n",
    "\n",
    "g=torch.Generator().manual_seed(2147483647) #reproducible\n",
    "C=torch.randn((vocab_size,n_embd), generator=g)\n",
    "W1=torch.randn((n_embd * block_size,n_hidden), generator=g) *0.2\n",
    "b1=torch.randn(n_hidden, generator=g) *0.01\n",
    "W2=torch.randn((n_hidden,vocab_size), generator=g)*0.01\n",
    "b2=torch.randn(27, generator=g)*0\n",
    "parameters=[C,W1,b1,W2,b2]\n",
    "\n",
    "print(sum(p.nelement() for p in parameters))\n",
    "\n",
    "for p in parameters:\n",
    "    p.requires_grad=True\n",
    "#finalising LR\n",
    "#reset parameters\n",
    "\n",
    "lri=[]\n",
    "lossi=[]\n",
    "stepi=[]\n",
    "batch_size=32\n",
    "max_steps=200000\n",
    "\n",
    "for i in range(max_steps): \n",
    "    \n",
    "    #minibatch construct\n",
    "    ix=torch.randint(0,Xtr.shape[0],(batch_size,),generator=g)\n",
    "    Xb, Yb = Xtr[ix], Ytr[ix] # batch X,Y\n",
    "    \n",
    "    #forward pass\n",
    "    emb=C[Xb] #(32,3,2)\n",
    "    embcat = emb.view(emb.shape[0], -1) # concatenate the vectors\n",
    "    hpreact=embcat@ W1+b1\n",
    "#     h=torch.tanh(emb.view(-1,n_embd * block_size) @ W1 +b1) #32x100\n",
    "    h=torch.tanh(hpreact)\n",
    "    logits=h @ W2 +b2 #32x27\n",
    "    loss=F.cross_entropy(logits,Yb)\n",
    "    \n",
    "    #backward pass\n",
    "    for p in parameters:\n",
    "        p.grad=None            #set gradients to 0\n",
    "\n",
    "    loss.backward()\n",
    "\n",
    "    #upgarde \n",
    "#     lr=lrs[i]              # we start with very less lr and go go upto -1\n",
    "    lr=0.01\n",
    "    for p in parameters:\n",
    "        p.data+= -lr*p.grad \n",
    "        \n",
    "    #track stats\n",
    "    if i%10000==0:#print every once in a while\n",
    "        print(f'{i:7d}/{max_steps:7d}: {loss.item():.4f}')\n",
    "    lossi.append(loss.log10().item())\n",
    "    break\n",
    "    \n",
    "        \n",
    "# this is loss for this particular minibatch\n",
    "\n",
    "\n"
   ]
  },
  {
   "cell_type": "code",
   "execution_count": 55,
   "id": "82a6c460-ff0e-4500-b3c5-609b35b547ff",
   "metadata": {},
   "outputs": [
    {
     "data": {
      "image/png": "[encoded data removed]",
      "text/plain": [
       "<Figure size 640x480 with 1 Axes>"
      ]
     },
     "metadata": {},
     "output_type": "display_data"
    }
   ],
   "source": [
    "plt.hist(h.view(-1).tolist(),50);"
   ]
  },
  {
   "cell_type": "code",
   "execution_count": 56,
   "id": "5195eea4-4a98-4618-9271-937568b44c9b",
   "metadata": {},
   "outputs": [
    {
     "data": {
      "image/png": "[encoded data removed]",
      "text/plain": [
       "<Figure size 2000x1000 with 1 Axes>"
      ]
     },
     "metadata": {},
     "output_type": "display_data"
    }
   ],
   "source": [
    "plt.figure(figsize=(20,10))\n",
    "plt.imshow(h.abs()>0.99,cmap='gray',interpolation='nearest');\n",
    "# 200 neuron, bullion tensor, white true, black false\n"
   ]
  },
  {
   "cell_type": "code",
   "execution_count": 58,
   "id": "03e2cc3d-9a99-4f53-b410-fee93bccde69",
   "metadata": {},
   "outputs": [
    {
     "name": "stdout",
     "output_type": "stream",
     "text": [
      "11897\n",
      "      0/ 200000: 3.3135\n",
      "  10000/ 200000: 2.2317\n",
      "  20000/ 200000: 2.3488\n",
      "  30000/ 200000: 2.5524\n",
      "  40000/ 200000: 1.9776\n",
      "  50000/ 200000: 2.5183\n",
      "  60000/ 200000: 2.4216\n",
      "  70000/ 200000: 2.0875\n",
      "  80000/ 200000: 2.2269\n",
      "  90000/ 200000: 2.1372\n",
      " 100000/ 200000: 1.9769\n",
      " 110000/ 200000: 2.1971\n",
      " 120000/ 200000: 2.0112\n",
      " 130000/ 200000: 2.4508\n",
      " 140000/ 200000: 2.3213\n",
      " 150000/ 200000: 2.2109\n",
      " 160000/ 200000: 1.8588\n",
      " 170000/ 200000: 1.7665\n",
      " 180000/ 200000: 2.0286\n",
      " 190000/ 200000: 1.8253\n",
      "train 2.0986435413360596\n",
      "val 2.13460111618042\n",
      "mora.\n",
      "amyazhizel.\n",
      "ndery.\n",
      "marethruthadraegan.\n",
      "ered.\n",
      "elin.\n",
      "shi.\n",
      "jen.\n",
      "eden.\n",
      "estanar.\n",
      "elle.\n",
      "malailin.\n",
      "shubergihiriel.\n",
      "kendreelynn.\n",
      "noella.\n",
      "ubreyce.\n",
      "ryyah.\n",
      "fael.\n",
      "yuma.\n",
      "mysanyah.\n"
     ]
    }
   ],
   "source": [
    "# Solution to vanishing gradient\n",
    "\n",
    "n_embd=10\n",
    "n_hidden=200\n",
    "\n",
    "\n",
    "g=torch.Generator().manual_seed(2147483647) #reproducible\n",
    "C=torch.randn((vocab_size,n_embd), generator=g)\n",
    "W1=torch.randn((n_embd * block_size,n_hidden), generator=g) *0.2\n",
    "b1=torch.randn(n_hidden, generator=g) *0.01\n",
    "W2=torch.randn((n_hidden,vocab_size), generator=g)*0.01\n",
    "b2=torch.randn(27, generator=g)*0\n",
    "parameters=[C,W1,b1,W2,b2]\n",
    "\n",
    "print(sum(p.nelement() for p in parameters))\n",
    "\n",
    "for p in parameters:\n",
    "    p.requires_grad=True\n",
    "#finalising LR\n",
    "#reset parameters\n",
    "\n",
    "lri=[]\n",
    "lossi=[]\n",
    "stepi=[]\n",
    "batch_size=32\n",
    "max_steps=200000\n",
    "\n",
    "for i in range(max_steps): \n",
    "    \n",
    "    #minibatch construct\n",
    "    ix=torch.randint(0,Xtr.shape[0],(batch_size,),generator=g)\n",
    "    Xb, Yb = Xtr[ix], Ytr[ix] # batch X,Y\n",
    "    \n",
    "    #forward pass\n",
    "    emb=C[Xb] #(32,3,2)\n",
    "    embcat = emb.view(emb.shape[0], -1) # concatenate the vectors\n",
    "    hpreact=embcat@ W1+b1\n",
    "#     h=torch.tanh(emb.view(-1,n_embd * block_size) @ W1 +b1) #32x100\n",
    "    h=torch.tanh(hpreact)\n",
    "    logits=h @ W2 +b2 #32x27\n",
    "    loss=F.cross_entropy(logits,Yb)\n",
    "    \n",
    "    #backward pass\n",
    "    for p in parameters:\n",
    "        p.grad=None            #set gradients to 0\n",
    "\n",
    "    loss.backward()\n",
    "\n",
    "    #upgarde \n",
    "#     lr=lrs[i]              # we start with very less lr and go go upto -1\n",
    "    lr=0.01\n",
    "    for p in parameters:\n",
    "        p.data+= -lr*p.grad \n",
    "        \n",
    "    #track stats\n",
    "    if i%10000==0:#print every once in a while\n",
    "        print(f'{i:7d}/{max_steps:7d}: {loss.item():.4f}')\n",
    "    lossi.append(loss.log10().item())\n",
    "    # break\n",
    "    \n",
    "        \n",
    "# above is loss for this particular minibatch\n",
    "\n",
    "#eval loss for All of Xtr and Ytr\n",
    "@torch.no_grad()#this decorator disables gradient tracking\n",
    "\n",
    "def split_loss(split):\n",
    "    x,y={\n",
    "        'train':(Xtr,Ytr),\n",
    "        'val':(Xdev,Ydev),\n",
    "        'test':(Xte,Yte)\n",
    "    }[split]\n",
    "\n",
    "\n",
    "    emb=C[x] #(N,block_size,e_embd)\n",
    "    embcat=emb.view(emb.shape[0],-1) #concat into (N,block_sixe*n_embd)\n",
    "    h=torch.tanh(embcat @ W1 +b1) #(N,n_hidden)\n",
    "    logits=h @ W2 +b2 #(N,vocab_size)\n",
    "    loss=F.cross_entropy(logits,y)\n",
    "    print(split,loss.item())\n",
    "    \n",
    "split_loss('train')\n",
    "split_loss('val')\n",
    "\n",
    "\n",
    "#just to compare\n",
    "\n",
    "# sample from the model\n",
    "g = torch.Generator().manual_seed(2147483647 + 10)\n",
    "block_size=3\n",
    "\n",
    "for _ in range(20):\n",
    "    \n",
    "    out = []\n",
    "    context = [0] * block_size # initialize with all ...\n",
    "    while True:\n",
    "        emb = C[torch.tensor([context])] # (1,block_size,d)\n",
    "        h = torch.tanh(emb.view(1, -1) @ W1 + b1)\n",
    "        logits = h @ W2 + b2\n",
    "        probs = F.softmax(logits, dim=1)\n",
    "        #sample from distribution\n",
    "        ix = torch.multinomial(probs, num_samples=1, generator=g).item()\n",
    "        #shift the context window and track the sample\n",
    "        context = context[1:] + [ix]\n",
    "        out.append(ix)\n",
    "        #if we sample the special '.' token, break\n",
    "        if ix == 0:\n",
    "            break\n",
    "    \n",
    "    print(''.join(itos[i] for i in out))"
   ]
  },
  {
   "cell_type": "code",
   "execution_count": 59,
   "id": "5eb0f96e-296d-4247-8140-7a0ac969d5d5",
   "metadata": {},
   "outputs": [
    {
     "data": {
      "text/plain": [
       "[<matplotlib.lines.Line2D at 0x24f36da4e10>]"
      ]
     },
     "execution_count": 59,
     "metadata": {},
     "output_type": "execute_result"
    },
    {
     "data": {
      "image/png": "[encoded data removed]",
      "text/plain": [
       "<Figure size 640x480 with 1 Axes>"
      ]
     },
     "metadata": {},
     "output_type": "display_data"
    }
   ],
   "source": [
    "plt.plot(lossi)"
   ]
  },
  {
   "cell_type": "markdown",
   "id": "42ba6be1-69a5-486a-aac4-397ab4eec706",
   "metadata": {},
   "source": [
    "till now\n",
    "\n",
    "train 2.2713024616241455\n",
    "val 2.2880303859710693\n",
    "\n",
    "train 2.1438074111938477\n",
    "val 2.178218364715576\n",
    "\n",
    "train 2.0986435413360596\n",
    "val 2.13460111618042"
   ]
  },
  {
   "cell_type": "code",
   "execution_count": 65,
   "id": "e24c3ef8-49d0-460c-8658-78a781259cee",
   "metadata": {},
   "outputs": [],
   "source": [
    "#ways to balance initial weights and biases (not by hand)"
   ]
  },
  {
   "cell_type": "code",
   "execution_count": 72,
   "id": "bd434f5b-963b-4845-872e-ad73e26706e9",
   "metadata": {},
   "outputs": [
    {
     "name": "stdout",
     "output_type": "stream",
     "text": [
      "tensor(0.0075) tensor(1.0012)\n",
      "tensor(-0.0027) tensor(3.1926)\n"
     ]
    },
    {
     "data": {
      "image/png": "[encoded data removed]",
      "text/plain": [
       "<Figure size 2000x500 with 2 Axes>"
      ]
     },
     "metadata": {},
     "output_type": "display_data"
    }
   ],
   "source": [
    "x=torch.randn(1000,10)\n",
    "w=torch.randn(10,200)\n",
    "y=x@w\n",
    "print(x.mean(),x.std())\n",
    "print(y.mean(),y.std())\n",
    "plt.figure(figsize=(20,5))\n",
    "plt.subplot(121)\n",
    "plt.hist(x.view(-1).tolist(),50,density=True)\n",
    "plt.subplot(122)\n",
    "plt.hist(y.view(-1).tolist(),50,density=True);\n"
   ]
  },
  {
   "cell_type": "code",
   "execution_count": 73,
   "id": "57dd2efa-dd07-4893-8327-7cbc1327c8c9",
   "metadata": {},
   "outputs": [
    {
     "name": "stdout",
     "output_type": "stream",
     "text": [
      "tensor(-0.0185) tensor(1.0038)\n",
      "tensor(-0.0392) tensor(15.7606)\n"
     ]
    },
    {
     "data": {
      "image/png": "[encoded data removed]",
      "text/plain": [
       "<Figure size 2000x500 with 2 Axes>"
      ]
     },
     "metadata": {},
     "output_type": "display_data"
    }
   ],
   "source": [
    "x=torch.randn(1000,10)\n",
    "w=torch.randn(10,200)*5\n",
    "y=x@w\n",
    "print(x.mean(),x.std())\n",
    "print(y.mean(),y.std())\n",
    "plt.figure(figsize=(20,5))\n",
    "plt.subplot(121)\n",
    "plt.hist(x.view(-1).tolist(),50,density=True)\n",
    "plt.subplot(122)\n",
    "plt.hist(y.view(-1).tolist(),50,density=True);\n"
   ]
  },
  {
   "cell_type": "code",
   "execution_count": 74,
   "id": "41093743-6433-4555-82c1-32c267c7689e",
   "metadata": {},
   "outputs": [
    {
     "name": "stdout",
     "output_type": "stream",
     "text": [
      "tensor(0.0141) tensor(0.9931)\n",
      "tensor(0.0009) tensor(0.6320)\n"
     ]
    },
    {
     "data": {
      "image/png": "[encoded data removed]",
      "text/plain": [
       "<Figure size 2000x500 with 2 Axes>"
      ]
     },
     "metadata": {},
     "output_type": "display_data"
    }
   ],
   "source": [
    "x=torch.randn(1000,10)\n",
    "w=torch.randn(10,200)*.2\n",
    "y=x@w\n",
    "print(x.mean(),x.std())\n",
    "print(y.mean(),y.std())\n",
    "plt.figure(figsize=(20,5))\n",
    "plt.subplot(121)\n",
    "plt.hist(x.view(-1).tolist(),50,density=True)\n",
    "plt.subplot(122)\n",
    "plt.hist(y.view(-1).tolist(),50,density=True);\n"
   ]
  },
  {
   "cell_type": "code",
   "execution_count": 76,
   "id": "d93b1002-28d2-4dfe-ad2d-d7a96a35a245",
   "metadata": {},
   "outputs": [
    {
     "name": "stdout",
     "output_type": "stream",
     "text": [
      "tensor(0.0048) tensor(0.9940)\n",
      "tensor(0.0022) tensor(1.0165)\n"
     ]
    },
    {
     "data": {
      "image/png": "[encoded data removed]",
      "text/plain": [
       "<Figure size 2000x500 with 2 Axes>"
      ]
     },
     "metadata": {},
     "output_type": "display_data"
    }
   ],
   "source": [
    "#what to multiply with exactly: fan in\n",
    "x=torch.randn(1000,10)\n",
    "w=torch.randn(10,200)/(10**.5)\n",
    "y=x@w\n",
    "print(x.mean(),x.std())\n",
    "print(y.mean(),y.std())\n",
    "plt.figure(figsize=(20,5))\n",
    "plt.subplot(121)\n",
    "plt.hist(x.view(-1).tolist(),50,density=True)\n",
    "plt.subplot(122)\n",
    "plt.hist(y.view(-1).tolist(),50,density=True);\n"
   ]
  },
  {
   "cell_type": "code",
   "execution_count": 77,
   "id": "efe5a1f6-bad7-4f01-a7e5-765b38d5e8a4",
   "metadata": {},
   "outputs": [],
   "source": [
    "#see paper: Delving deep into rectifiers... by Kaiming He"
   ]
  },
  {
   "cell_type": "code",
   "execution_count": null,
   "id": "a957deb3-2cf5-4dec-a14a-bb73fa1f007c",
   "metadata": {},
   "outputs": [],
   "source": [
    "#what to multiply with exactly: fan in\n",
    "x=torch.randn(1000,10)\n",
    "w=torch.randn(10,200)/(10**.5)\n",
    "y=x@w\n",
    "print(x.mean(),x.std())\n",
    "print(y.mean(),y.std())\n",
    "plt.figure(figsize=(20,5))\n",
    "plt.subplot(121)\n",
    "plt.hist(x.view(-1).tolist(),50,density=True)\n",
    "plt.subplot(122)\n",
    "plt.hist(y.view(-1).tolist(),50,density=True);\n"
   ]
  },
  {
   "cell_type": "code",
   "execution_count": 90,
   "id": "28b7a301-3987-4e7a-a149-cb95df96db15",
   "metadata": {},
   "outputs": [
    {
     "data": {
      "text/plain": [
       "tensor(6.0527)"
      ]
     },
     "execution_count": 90,
     "metadata": {},
     "output_type": "execute_result"
    }
   ],
   "source": [
    "(torch.randn(10000)*6).std()\n",
    "#whatever u multiply with is the std, so when *ing W1 with .2, now using Kaiming gain/sqrt(fan_mode), tanh gain is 5/3"
   ]
  },
  {
   "cell_type": "code",
   "execution_count": 92,
   "id": "01045c6e-58fe-473a-ae3d-29300367f6c6",
   "metadata": {},
   "outputs": [],
   "source": [
    "# (5/3)/ sqrt(n_embd * block_size)"
   ]
  },
  {
   "cell_type": "code",
   "execution_count": 93,
   "id": "176a6793-6653-4741-8405-3ad34ba96cb6",
   "metadata": {},
   "outputs": [
    {
     "data": {
      "text/plain": [
       "30"
      ]
     },
     "execution_count": 93,
     "metadata": {},
     "output_type": "execute_result"
    }
   ],
   "source": [
    "n_embd * block_size"
   ]
  },
  {
   "cell_type": "code",
   "execution_count": 94,
   "id": "7820cda2-eca6-4add-96ae-152140931972",
   "metadata": {},
   "outputs": [
    {
     "data": {
      "text/plain": [
       "0.3042903097250923"
      ]
     },
     "execution_count": 94,
     "metadata": {},
     "output_type": "execute_result"
    }
   ],
   "source": [
    "(5/3)/30**.5"
   ]
  },
  {
   "cell_type": "code",
   "execution_count": 95,
   "id": "c04600a1-880d-4a19-b893-c651396a686d",
   "metadata": {},
   "outputs": [
    {
     "name": "stdout",
     "output_type": "stream",
     "text": [
      "11897\n",
      "      0/ 200000: 3.3179\n",
      "  10000/ 200000: 2.2267\n",
      "  20000/ 200000: 2.3430\n",
      "  30000/ 200000: 2.5715\n",
      "  40000/ 200000: 1.9518\n",
      "  50000/ 200000: 2.4814\n",
      "  60000/ 200000: 2.4350\n",
      "  70000/ 200000: 2.1068\n",
      "  80000/ 200000: 2.2362\n",
      "  90000/ 200000: 2.1444\n",
      " 100000/ 200000: 2.0082\n",
      " 110000/ 200000: 2.1776\n",
      " 120000/ 200000: 1.9587\n",
      " 130000/ 200000: 2.3588\n",
      " 140000/ 200000: 2.2748\n",
      " 150000/ 200000: 2.2320\n",
      " 160000/ 200000: 1.8351\n",
      " 170000/ 200000: 1.7559\n",
      " 180000/ 200000: 1.9788\n",
      " 190000/ 200000: 1.8739\n",
      "train 2.099327802658081\n",
      "val 2.1381173133850098\n",
      "mon.\n",
      "ammyazhiee.\n",
      "med.\n",
      "ryla.\n",
      "ren.\n",
      "ruthadraeg.\n",
      "adelyn.\n",
      "elin.\n",
      "shi.\n",
      "jenne.\n",
      "elisson.\n",
      "arleigh.\n",
      "malaia.\n",
      "noshuberging.\n",
      "jest.\n",
      "jair.\n",
      "jennex.\n",
      "terianu.\n",
      "zenedi.\n",
      "kylene.\n"
     ]
    }
   ],
   "source": [
    "\n",
    "n_embd=10\n",
    "n_hidden=200\n",
    "\n",
    "\n",
    "g=torch.Generator().manual_seed(2147483647) #reproducible\n",
    "C=torch.randn((vocab_size,n_embd), generator=g)\n",
    "W1=torch.randn((n_embd * block_size,n_hidden), generator=g) * (5/3)/((n_embd * block_size)**.5 ) #*0.2\n",
    "b1=torch.randn(n_hidden, generator=g) *0.01\n",
    "W2=torch.randn((n_hidden,vocab_size), generator=g)*0.01\n",
    "b2=torch.randn(27, generator=g)*0\n",
    "parameters=[C,W1,b1,W2,b2]\n",
    "\n",
    "print(sum(p.nelement() for p in parameters))\n",
    "\n",
    "for p in parameters:\n",
    "    p.requires_grad=True\n",
    "#finalising LR\n",
    "#reset parameters\n",
    "\n",
    "lri=[]\n",
    "lossi=[]\n",
    "stepi=[]\n",
    "batch_size=32\n",
    "max_steps=200000\n",
    "\n",
    "for i in range(max_steps): \n",
    "    \n",
    "    #minibatch construct\n",
    "    ix=torch.randint(0,Xtr.shape[0],(batch_size,),generator=g)\n",
    "    Xb, Yb = Xtr[ix], Ytr[ix] # batch X,Y\n",
    "    \n",
    "    #forward pass\n",
    "    emb=C[Xb] #(32,3,2)\n",
    "    embcat = emb.view(emb.shape[0], -1) # concatenate the vectors\n",
    "    hpreact=embcat@ W1+b1\n",
    "#     h=torch.tanh(emb.view(-1,n_embd * block_size) @ W1 +b1) #32x100\n",
    "    h=torch.tanh(hpreact)\n",
    "    logits=h @ W2 +b2 #32x27\n",
    "    loss=F.cross_entropy(logits,Yb)\n",
    "    \n",
    "    #backward pass\n",
    "    for p in parameters:\n",
    "        p.grad=None            #set gradients to 0\n",
    "\n",
    "    loss.backward()\n",
    "\n",
    "    #upgarde \n",
    "#     lr=lrs[i]              # we start with very less lr and go go upto -1\n",
    "    lr=0.01\n",
    "    for p in parameters:\n",
    "        p.data+= -lr*p.grad \n",
    "        \n",
    "    #track stats\n",
    "    if i%10000==0:#print every once in a while\n",
    "        print(f'{i:7d}/{max_steps:7d}: {loss.item():.4f}')\n",
    "    lossi.append(loss.log10().item())\n",
    "    # break\n",
    "    \n",
    "        \n",
    "# above is loss for this particular minibatch\n",
    "\n",
    "#eval loss for All of Xtr and Ytr\n",
    "@torch.no_grad()#this decorator disables gradient tracking\n",
    "\n",
    "def split_loss(split):\n",
    "    x,y={\n",
    "        'train':(Xtr,Ytr),\n",
    "        'val':(Xdev,Ydev),\n",
    "        'test':(Xte,Yte)\n",
    "    }[split]\n",
    "\n",
    "\n",
    "    emb=C[x] #(N,block_size,e_embd)\n",
    "    embcat=emb.view(emb.shape[0],-1) #concat into (N,block_sixe*n_embd)\n",
    "    h=torch.tanh(embcat @ W1 +b1) #(N,n_hidden)\n",
    "    logits=h @ W2 +b2 #(N,vocab_size)\n",
    "    loss=F.cross_entropy(logits,y)\n",
    "    print(split,loss.item())\n",
    "    \n",
    "split_loss('train')\n",
    "split_loss('val')\n",
    "\n",
    "\n",
    "#just to compare\n",
    "\n",
    "# sample from the model\n",
    "g = torch.Generator().manual_seed(2147483647 + 10)\n",
    "block_size=3\n",
    "\n",
    "for _ in range(20):\n",
    "    \n",
    "    out = []\n",
    "    context = [0] * block_size # initialize with all ...\n",
    "    while True:\n",
    "        emb = C[torch.tensor([context])] # (1,block_size,d)\n",
    "        h = torch.tanh(emb.view(1, -1) @ W1 + b1)\n",
    "        logits = h @ W2 + b2\n",
    "        probs = F.softmax(logits, dim=1)\n",
    "        #sample from distribution\n",
    "        ix = torch.multinomial(probs, num_samples=1, generator=g).item()\n",
    "        #shift the context window and track the sample\n",
    "        context = context[1:] + [ix]\n",
    "        out.append(ix)\n",
    "        #if we sample the special '.' token, break\n",
    "        if ix == 0:\n",
    "            break\n",
    "    \n",
    "    print(''.join(itos[i] for i in out))"
   ]
  },
  {
   "cell_type": "markdown",
   "id": "28fd901f-c280-4164-b24d-7adbf0cfde42",
   "metadata": {},
   "source": [
    "#till now\n",
    "\n",
    "#original\n",
    "train 2.2713024616241455\n",
    "val 2.2880303859710693\n",
    "\n",
    "#fix softmax confidently wrong\n",
    "train 2.1438074111938477\n",
    "val 2.178218364715576\n",
    "\n",
    "#fix tanh layer too saturated at initialization\n",
    "train 2.0986435413360596\n",
    "val 2.13460111618042\n",
    "\n",
    "#with Kaiming=gain/sqrt(fan_mode)\n",
    "train 2.099327802658081\r\n",
    "val 2.1381173133850098\n"
   ]
  },
  {
   "cell_type": "code",
   "execution_count": null,
   "id": "31da5702-cf92-4ccf-88dd-6e43ec2171fb",
   "metadata": {},
   "outputs": [],
   "source": []
  },
  {
   "cell_type": "code",
   "execution_count": null,
   "id": "d8228ea1-3dfd-402c-ada6-f39b50b24952",
   "metadata": {},
   "outputs": [],
   "source": []
  },
  {
   "cell_type": "code",
   "execution_count": null,
   "id": "b4a38cd3-ba6f-439c-b570-119282c21c81",
   "metadata": {},
   "outputs": [],
   "source": []
  },
  {
   "cell_type": "code",
   "execution_count": 96,
   "id": "637e54c0-64a5-4693-a1fc-c81d229dd68a",
   "metadata": {},
   "outputs": [],
   "source": [
    "##Batch Normlization (BN)\n",
    "#paper: BN: accelerating deep network... by Sergey Ioffe"
   ]
  },
  {
   "cell_type": "code",
   "execution_count": 97,
   "id": "51117e5a-49c2-4a97-bace-6a18ec824185",
   "metadata": {},
   "outputs": [
    {
     "data": {
      "text/plain": [
       "torch.Size([32, 200])"
      ]
     },
     "execution_count": 97,
     "metadata": {},
     "output_type": "execute_result"
    }
   ],
   "source": [
    "hpreact.shape"
   ]
  },
  {
   "cell_type": "code",
   "execution_count": 100,
   "id": "8c79c96d-0a36-4e2f-8f06-52469a3f81a2",
   "metadata": {},
   "outputs": [
    {
     "data": {
      "text/plain": [
       "torch.Size([1, 200])"
      ]
     },
     "execution_count": 100,
     "metadata": {},
     "output_type": "execute_result"
    }
   ],
   "source": [
    "hpreact.mean(0,keepdim=True).shape"
   ]
  },
  {
   "cell_type": "code",
   "execution_count": 99,
   "id": "19056cf0-fef6-4769-abaf-f41e34a2f6c6",
   "metadata": {},
   "outputs": [
    {
     "data": {
      "text/plain": [
       "torch.Size([1, 200])"
      ]
     },
     "execution_count": 99,
     "metadata": {},
     "output_type": "execute_result"
    }
   ],
   "source": [
    "hpreact.std(0,keepdim=True).shape"
   ]
  },
  {
   "cell_type": "code",
   "execution_count": 102,
   "id": "5a866e20-50d4-4f82-9712-c90a7ba458f8",
   "metadata": {},
   "outputs": [
    {
     "name": "stdout",
     "output_type": "stream",
     "text": [
      "12297\n",
      "      0/ 200000: 3.3147\n",
      "  10000/ 200000: 2.2824\n",
      "  20000/ 200000: 2.4047\n",
      "  30000/ 200000: 2.6029\n",
      "  40000/ 200000: 1.9978\n",
      "  50000/ 200000: 2.5340\n",
      "  60000/ 200000: 2.4879\n",
      "  70000/ 200000: 2.0455\n",
      "  80000/ 200000: 2.2525\n",
      "  90000/ 200000: 2.1438\n",
      " 100000/ 200000: 2.1007\n",
      " 110000/ 200000: 2.3819\n",
      " 120000/ 200000: 2.0262\n",
      " 130000/ 200000: 2.5101\n",
      " 140000/ 200000: 2.4518\n",
      " 150000/ 200000: 2.1937\n",
      " 160000/ 200000: 2.0342\n",
      " 170000/ 200000: 1.8907\n",
      " 180000/ 200000: 2.1594\n",
      " 190000/ 200000: 1.9128\n",
      "train 2.129476547241211\n",
      "val 2.1524293422698975\n",
      "mridalmyazzizelvndhry.\n",
      "marvivrschnd.\n",
      "leg.\n",
      "szeredgelingshppren.\n",
      "die.\n",
      "sustanarvellynn.\n",
      "murlin.\n",
      "shdbvrgshirin.\n",
      "skjnnextlynn.\n",
      "gwruswi.\n",
      "brbycd.\n",
      "rhyldnn.\n",
      "mkshrishmysh.\n",
      "lus.\n",
      "hyl.\n",
      "sadylynn.\n",
      "jubrglvjunni.\n",
      "crbrnsvevong.\n",
      "prrdgnngnlynn.\n",
      "shbptin.\n"
     ]
    }
   ],
   "source": [
    "\n",
    "n_embd=10\n",
    "n_hidden=200\n",
    "\n",
    "\n",
    "g=torch.Generator().manual_seed(2147483647) #reproducible\n",
    "C=torch.randn((vocab_size,n_embd), generator=g)\n",
    "W1=torch.randn((n_embd * block_size,n_hidden), generator=g) * (5/3)/((n_embd * block_size)**.5 ) #*0.2\n",
    "b1=torch.randn(n_hidden, generator=g) *0.01\n",
    "W2=torch.randn((n_hidden,vocab_size), generator=g)*0.01\n",
    "b2=torch.randn(27, generator=g)*0\n",
    "\n",
    "bngain=torch.ones((1,n_hidden))\n",
    "bnbias=torch.zeros((1,n_hidden))\n",
    "\n",
    "parameters=[C,W1,b1,W2,b2,bngain,bnbias]\n",
    "\n",
    "\n",
    "print(sum(p.nelement() for p in parameters))\n",
    "\n",
    "for p in parameters:\n",
    "    p.requires_grad=True\n",
    "#finalising LR\n",
    "#reset parameters\n",
    "\n",
    "lri=[]\n",
    "lossi=[]\n",
    "stepi=[]\n",
    "batch_size=32\n",
    "max_steps=200000\n",
    "\n",
    "for i in range(max_steps): \n",
    "    \n",
    "    #minibatch construct\n",
    "    ix=torch.randint(0,Xtr.shape[0],(batch_size,),generator=g)\n",
    "    Xb, Yb = Xtr[ix], Ytr[ix] # batch X,Y\n",
    "    \n",
    "    #forward pass\n",
    "    emb=C[Xb] #(32,3,2), embed cha into vec\n",
    "    embcat = emb.view(emb.shape[0], -1) # concatenate the vectors\n",
    "    hpreact=embcat@ W1+b1 #hidden layer pre activation\n",
    "    hpreact=bngain*(hpreact-hpreact.mean(0,keepdim=True))/hpreact.std(0,keepdim=True) + bnbias\n",
    "#     h=torch.tanh(emb.view(-1,n_embd * block_size) @ W1 +b1) #32x100\n",
    "    h=torch.tanh(hpreact) #hidden layer\n",
    "    logits=h @ W2 +b2 #32x27 #output mlayer\n",
    "    loss=F.cross_entropy(logits,Yb)\n",
    "    \n",
    "    #backward pass\n",
    "    for p in parameters:\n",
    "        p.grad=None            #set gradients to 0\n",
    "\n",
    "    loss.backward()\n",
    "\n",
    "    #upgarde \n",
    "#     lr=lrs[i]              # we start with very less lr and go go upto -1\n",
    "    lr=0.01\n",
    "    for p in parameters:\n",
    "        p.data+= -lr*p.grad \n",
    "        \n",
    "    #track stats\n",
    "    if i%10000==0:#print every once in a while\n",
    "        print(f'{i:7d}/{max_steps:7d}: {loss.item():.4f}')\n",
    "    lossi.append(loss.log10().item())\n",
    "    # break\n",
    "    \n",
    "        \n",
    "# above is loss for this particular minibatch\n",
    "\n",
    "#eval loss for All of Xtr and Ytr\n",
    "@torch.no_grad()#this decorator disables gradient tracking\n",
    "\n",
    "def split_loss(split):\n",
    "    x,y={\n",
    "        'train':(Xtr,Ytr),\n",
    "        'val':(Xdev,Ydev),\n",
    "        'test':(Xte,Yte)\n",
    "    }[split]\n",
    "\n",
    "\n",
    "    emb=C[x] #(N,block_size,e_embd) \n",
    "    embcat=emb.view(emb.shape[0],-1) #concat into (N,block_sixe*n_embd)\n",
    "    hpreact=embcat@ W1+ b1\n",
    "    hpreact=bngain*(hpreact-hpreact.mean(0,keepdim=True))/hpreact.std(0,keepdim=True) + bnbias\n",
    "\n",
    "    h=torch.tanh(hpreact) #(N,n_hidden)\n",
    "    \n",
    "    logits=h @ W2 +b2 #(N,vocab_size), \n",
    "    loss=F.cross_entropy(logits,y) \n",
    "    print(split,loss.item())\n",
    "    \n",
    "split_loss('train')\n",
    "split_loss('val')\n",
    "\n",
    "\n",
    "#just to compare\n",
    "\n",
    "# sample from the model\n",
    "g = torch.Generator().manual_seed(2147483647 + 10)\n",
    "block_size=3\n",
    "\n",
    "for _ in range(20):\n",
    "    \n",
    "    out = []\n",
    "    context = [0] * block_size # initialize with all ...\n",
    "    while True:\n",
    "        emb = C[torch.tensor([context])] # (1,block_size,d)\n",
    "        h = torch.tanh(emb.view(1, -1) @ W1 + b1)\n",
    "        logits = h @ W2 + b2 \n",
    "        probs = F.softmax(logits, dim=1)\n",
    "        #sample from distribution\n",
    "        ix = torch.multinomial(probs, num_samples=1, generator=g).item()\n",
    "        #shift the context window and track the sample\n",
    "        context = context[1:] + [ix]\n",
    "        out.append(ix)\n",
    "        #if we sample the special '.' token, break\n",
    "        if ix == 0:\n",
    "            break\n",
    "    \n",
    "    print(''.join(itos[i] for i in out))"
   ]
  },
  {
   "cell_type": "code",
   "execution_count": null,
   "id": "dd32bb32-1467-45ad-b361-5737ac41db8c",
   "metadata": {},
   "outputs": [],
   "source": [
    "#till now\n",
    "\n",
    "#original\n",
    "train 2.2713024616241455\n",
    "val 2.2880303859710693\n",
    "\n",
    "#fix softmax confidently wrong\n",
    "train 2.1438074111938477\n",
    "val 2.178218364715576\n",
    "\n",
    "#fix tanh layer too saturated at initialization\n",
    "train 2.0986435413360596\n",
    "val 2.13460111618042\n",
    "\n",
    "#with Kaiming=gain/sqrt(fan_mode)\n",
    "train 2.099327802658081\n",
    "val 2.1381173133850098\n",
    "\n",
    "#with batch norm (check)\n",
    "train 2.129476547241211\n",
    "val 2.1524293422698975"
   ]
  },
  {
   "cell_type": "code",
   "execution_count": null,
   "id": "0a192049-81a0-45d9-9c2b-9340fe0f0d18",
   "metadata": {},
   "outputs": [],
   "source": [
    "\n",
    "n_embd=10\n",
    "n_hidden=200\n",
    "\n",
    "\n",
    "g=torch.Generator().manual_seed(2147483647) #reproducible\n",
    "C=torch.randn((vocab_size,n_embd), generator=g)\n",
    "W1=torch.randn((n_embd * block_size,n_hidden), generator=g) * (5/3)/((n_embd * block_size)**.5 ) #*0.2\n",
    "b1=torch.randn(n_hidden, generator=g) *0.01\n",
    "W2=torch.randn((n_hidden,vocab_size), generator=g)*0.01\n",
    "b2=torch.randn(27, generator=g)*0\n",
    "\n",
    "bngain=torch.ones((1,n_hidden))\n",
    "bnbias=torch.zeros((1,n_hidden))\n",
    "\n",
    "parameters=[C,W1,b1,W2,b2,bngain,bnbias]\n",
    "\n",
    "\n",
    "print(sum(p.nelement() for p in parameters))\n",
    "\n",
    "for p in parameters:\n",
    "    p.requires_grad=True\n",
    "#finalising LR\n",
    "#reset parameters\n",
    "\n",
    "lri=[]\n",
    "lossi=[]\n",
    "stepi=[]\n",
    "batch_size=32\n",
    "max_steps=200000\n",
    "\n",
    "for i in range(max_steps): \n",
    "    \n",
    "    #minibatch construct\n",
    "    ix=torch.randint(0,Xtr.shape[0],(batch_size,),generator=g)\n",
    "    Xb, Yb = Xtr[ix], Ytr[ix] # batch X,Y\n",
    "    \n",
    "    #forward pass\n",
    "    emb=C[Xb] #(32,3,2), embed cha into vec\n",
    "    embcat = emb.view(emb.shape[0], -1) # concatenate the vectors\n",
    "    hpreact=embcat@ W1+b1 #hidden layer pre activation\n",
    "    hpreact=bngain*(hpreact-hpreact.mean(0,keepdim=True))/hpreact.std(0,keepdim=True) + bnbias\n",
    "#     h=torch.tanh(emb.view(-1,n_embd * block_size) @ W1 +b1) #32x100\n",
    "    h=torch.tanh(hpreact) #hidden layer\n",
    "    logits=h @ W2 +b2 #32x27 #output mlayer\n",
    "    loss=F.cross_entropy(logits,Yb)\n",
    "    \n",
    "    #backward pass\n",
    "    for p in parameters:\n",
    "        p.grad=None            #set gradients to 0\n",
    "\n",
    "    loss.backward()\n",
    "\n",
    "    #upgarde \n",
    "#     lr=lrs[i]              # we start with very less lr and go go upto -1\n",
    "    lr=0.01\n",
    "    for p in parameters:\n",
    "        p.data+= -lr*p.grad \n",
    "        \n",
    "    #track stats\n",
    "    if i%10000==0:#print every once in a while\n",
    "        print(f'{i:7d}/{max_steps:7d}: {loss.item():.4f}')\n",
    "    lossi.append(loss.log10().item())\n",
    "    # break\n",
    "    \n",
    "        \n",
    "# above is loss for this particular minibatch\n",
    "\n",
    "#eval loss for All of Xtr and Ytr\n",
    "@torch.no_grad()#this decorator disables gradient tracking\n",
    "\n",
    "def split_loss(split):\n",
    "    x,y={\n",
    "        'train':(Xtr,Ytr),\n",
    "        'val':(Xdev,Ydev),\n",
    "        'test':(Xte,Yte)\n",
    "    }[split]\n",
    "\n",
    "\n",
    "    emb=C[x] #(N,block_size,e_embd) \n",
    "    embcat=emb.view(emb.shape[0],-1) #concat into (N,block_sixe*n_embd)\n",
    "    hpreact=embcat@ W1+ b1\n",
    "    hpreact=bngain*(hpreact-hpreact.mean(0,keepdim=True))/hpreact.std(0,keepdim=True) + bnbias\n",
    "\n",
    "    h=torch.tanh(hpreact) #(N,n_hidden)\n",
    "    \n",
    "    logits=h @ W2 +b2 #(N,vocab_size), \n",
    "    loss=F.cross_entropy(logits,y) \n",
    "    print(split,loss.item())\n",
    "    \n",
    "split_loss('train')\n",
    "split_loss('val')\n",
    "\n",
    "\n",
    "#just to compare\n",
    "\n",
    "# sample from the model\n",
    "g = torch.Generator().manual_seed(2147483647 + 10)\n",
    "block_size=3\n",
    "\n",
    "for _ in range(20):\n",
    "    \n",
    "    out = []\n",
    "    context = [0] * block_size # initialize with all ...\n",
    "    while True:\n",
    "        emb = C[torch.tensor([context])] # (1,block_size,d)\n",
    "        h = torch.tanh(emb.view(1, -1) @ W1 + b1)\n",
    "        logits = h @ W2 + b2 \n",
    "        probs = F.softmax(logits, dim=1)\n",
    "        #sample from distribution\n",
    "        ix = torch.multinomial(probs, num_samples=1, generator=g).item()\n",
    "        #shift the context window and track the sample\n",
    "        context = context[1:] + [ix]\n",
    "        out.append(ix)\n",
    "        #if we sample the special '.' token, break\n",
    "        if ix == 0:\n",
    "            break\n",
    "    \n",
    "    print(''.join(itos[i] for i in out))"
   ]
  },
  {
   "cell_type": "code",
   "execution_count": null,
   "id": "7861bb55-0daf-4233-a664-01a5334239ec",
   "metadata": {},
   "outputs": [],
   "source": []
  },
  {
   "cell_type": "code",
   "execution_count": null,
   "id": "228ba480-51c5-435b-aa90-074d9d70070a",
   "metadata": {},
   "outputs": [],
   "source": []
  },
  {
   "cell_type": "code",
   "execution_count": null,
   "id": "755bf058-d841-4877-8c3a-1ccec000d242",
   "metadata": {},
   "outputs": [],
   "source": []
  },
  {
   "cell_type": "code",
   "execution_count": null,
   "id": "2f30ae0b-b15d-488d-ae01-3639eaf20fbf",
   "metadata": {},
   "outputs": [],
   "source": []
  },
  {
   "cell_type": "code",
   "execution_count": null,
   "id": "01fe559b-a5e4-4c79-8dbb-bff137e882a5",
   "metadata": {},
   "outputs": [],
   "source": []
  },
  {
   "cell_type": "code",
   "execution_count": 18,
   "id": "3dc44057",
   "metadata": {},
   "outputs": [],
   "source": [
    "#Run this to avoid kernel dying when plotting"
   ]
  },
  {
   "cell_type": "code",
   "execution_count": 10,
   "id": "a6f680bc",
   "metadata": {},
   "outputs": [
    {
     "data": {
      "image/png": "[encoded data removed]",
      "text/plain": [
       "<Figure size 640x480 with 1 Axes>"
      ]
     },
     "metadata": {},
     "output_type": "display_data"
    }
   ],
   "source": [
    "import matplotlib.pyplot as plt\n",
    "\n",
    "# Define data\n",
    "x = [1, 2, 3, 4, 5]\n",
    "y = [2, 3, 5, 7, 11]\n",
    "\n",
    "# Plot the line\n",
    "plt.plot(x, y)\n",
    "\n",
    "# Add labels and title\n",
    "plt.xlabel('X-axis')\n",
    "plt.ylabel('Y-axis')\n",
    "plt.title('Simple Line Plot')\n",
    "\n",
    "# Show the plot\n",
    "plt.show()\n"
   ]
  },
  {
   "cell_type": "code",
   "execution_count": 11,
   "id": "fee6b5ba",
   "metadata": {},
   "outputs": [
    {
     "data": {
      "image/png": "[encoded data removed]",
      "text/plain": [
       "<Figure size 640x480 with 2 Axes>"
      ]
     },
     "metadata": {},
     "output_type": "display_data"
    }
   ],
   "source": [
    "import numpy as np\n",
    "import matplotlib.pyplot as plt\n",
    "import torch\n",
    "\n",
    "# Create a 4x4 tensor\n",
    "tensor_data = torch.tensor([\n",
    "    [1, 2, 3],\n",
    "    [5, 6, 7],\n",
    "    [9, 10, 11],\n",
    "    [13, 14, 15]\n",
    "], dtype=torch.int32)\n",
    "\n",
    "# Convert the tensor to a NumPy array\n",
    "array_data = tensor_data.numpy()\n",
    "\n",
    "# Plot the heatmap\n",
    "plt.imshow(array_data, cmap='hot', interpolation='nearest')\n",
    "plt.colorbar()  # Add color bar to show the scale\n",
    "plt.title('Simple Heatmap')  # Add a title\n",
    "plt.show()"
   ]
  },
  {
   "cell_type": "code",
   "execution_count": null,
   "id": "64ed148c",
   "metadata": {},
   "outputs": [],
   "source": []
  }
 ],
 "metadata": {
  "kernelspec": {
   "display_name": "Python 3 (ipykernel)",
   "language": "python",
   "name": "python3"
  },
  "language_info": {
   "codemirror_mode": {
    "name": "ipython",
    "version": 3
   },
   "file_extension": ".py",
   "mimetype": "text/x-python",
   "name": "python",
   "nbconvert_exporter": "python",
   "pygments_lexer": "ipython3",
   "version": "3.11.8"
  }
 },
 "nbformat": 4,
 "nbformat_minor": 5
}
